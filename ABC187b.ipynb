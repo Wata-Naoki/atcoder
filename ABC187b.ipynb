{
  "nbformat": 4,
  "nbformat_minor": 0,
  "metadata": {
    "colab": {
      "provenance": [],
      "authorship_tag": "ABX9TyO+rKTR7Fb8LqcbHrb02D0/",
      "include_colab_link": true
    },
    "kernelspec": {
      "name": "python3",
      "display_name": "Python 3"
    },
    "language_info": {
      "name": "python"
    }
  },
  "cells": [
    {
      "cell_type": "markdown",
      "metadata": {
        "id": "view-in-github",
        "colab_type": "text"
      },
      "source": [
        "<a href=\"https://colab.research.google.com/github/Wata-Naoki/atcoder/blob/main/ABC187b.ipynb\" target=\"_parent\"><img src=\"https://colab.research.google.com/assets/colab-badge.svg\" alt=\"Open In Colab\"/></a>"
      ]
    },
    {
      "cell_type": "code",
      "execution_count": 13,
      "metadata": {
        "colab": {
          "base_uri": "https://localhost:8080/"
        },
        "id": "B-SQVfbiJldK",
        "outputId": "12cb1641-3af5-4402-a493-c98cf860aa2e"
      },
      "outputs": [
        {
          "output_type": "stream",
          "name": "stdout",
          "text": [
            "1\n",
            "-691 273\n",
            "0\n"
          ]
        }
      ],
      "source": [
        "\n",
        "n=int(input())\n",
        "coordinates = [list(map(int, input().split())) for _ in range(n)]\n",
        "count=0\n",
        "for ind1, val1 in enumerate(coordinates):\n",
        "  for ind2, val2 in enumerate(coordinates):\n",
        "    if ind1== ind2:\n",
        "      pass\n",
        "    else:\n",
        "      cal=(val2[1]-val1[1]) / (val2[0]-val1[0])\n",
        "      if -1<= cal <=1:\n",
        "        count +=1\n",
        "print(int(count/2) if count else 0)\n",
        "    \n",
        "      \n",
        "\n",
        "\n"
      ]
    },
    {
      "cell_type": "code",
      "source": [
        "n=int(input())\n",
        "Coordinates = [list(map(int, input().split())) for _ in range(n)]\n",
        "print(Coordinates)"
      ],
      "metadata": {
        "id": "_Q0UEX6ULMkL"
      },
      "execution_count": null,
      "outputs": []
    },
    {
      "cell_type": "code",
      "source": [
        "import itertools\n",
        "l = ['a', 'b', 'c', 'd']\n",
        "c_list = list(itertools.combinations(l, 2))\n",
        "\n",
        "print(c_list)"
      ],
      "metadata": {
        "colab": {
          "base_uri": "https://localhost:8080/"
        },
        "id": "9Qo2cbeCMLzH",
        "outputId": "32cda2f5-8a7e-4f43-fc01-430b7ee5c7af"
      },
      "execution_count": 5,
      "outputs": [
        {
          "output_type": "stream",
          "name": "stdout",
          "text": [
            "[('a', 'b'), ('a', 'c'), ('a', 'd'), ('b', 'c'), ('b', 'd'), ('c', 'd')]\n"
          ]
        }
      ]
    },
    {
      "cell_type": "code",
      "source": [
        "\n",
        "for i in range(5):\n",
        "  for k in range(5):\n",
        "    print(i,k)"
      ],
      "metadata": {
        "colab": {
          "base_uri": "https://localhost:8080/"
        },
        "id": "Qr2tejPSOrgh",
        "outputId": "7a2b0b01-1585-48af-e896-f7bf27dac2bd"
      },
      "execution_count": 6,
      "outputs": [
        {
          "output_type": "stream",
          "name": "stdout",
          "text": [
            "0 0\n",
            "0 1\n",
            "0 2\n",
            "0 3\n",
            "0 4\n",
            "1 0\n",
            "1 1\n",
            "1 2\n",
            "1 3\n",
            "1 4\n",
            "2 0\n",
            "2 1\n",
            "2 2\n",
            "2 3\n",
            "2 4\n",
            "3 0\n",
            "3 1\n",
            "3 2\n",
            "3 3\n",
            "3 4\n",
            "4 0\n",
            "4 1\n",
            "4 2\n",
            "4 3\n",
            "4 4\n"
          ]
        }
      ]
    }
  ]
}