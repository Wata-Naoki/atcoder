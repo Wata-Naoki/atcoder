{
  "nbformat": 4,
  "nbformat_minor": 0,
  "metadata": {
    "colab": {
      "provenance": [],
      "authorship_tag": "ABX9TyMoqGuDQojHG2Yyle8DS/Be",
      "include_colab_link": true
    },
    "kernelspec": {
      "name": "python3",
      "display_name": "Python 3"
    },
    "language_info": {
      "name": "python"
    }
  },
  "cells": [
    {
      "cell_type": "markdown",
      "metadata": {
        "id": "view-in-github",
        "colab_type": "text"
      },
      "source": [
        "<a href=\"https://colab.research.google.com/github/Wata-Naoki/atcoder/blob/main/ABC198b.ipynb\" target=\"_parent\"><img src=\"https://colab.research.google.com/assets/colab-badge.svg\" alt=\"Open In Colab\"/></a>"
      ]
    },
    {
      "cell_type": "code",
      "execution_count": 11,
      "metadata": {
        "colab": {
          "base_uri": "https://localhost:8080/"
        },
        "id": "w5hGmtdB8bNW",
        "outputId": "61eb3573-db2f-47d0-e8bf-38bfb36e43db"
      },
      "outputs": [
        {
          "output_type": "stream",
          "name": "stdout",
          "text": [
            "1210\n",
            "Yes\n"
          ]
        }
      ],
      "source": [
        "n=input()\n",
        "\n",
        "flag=False\n",
        "for i in range(100):\n",
        "  z=\"0\"*i\n",
        "  t=z+n\n",
        "  if t==t[::-1]:\n",
        "    flag=True\n",
        "\n",
        "if flag:\n",
        "  print('Yes')\n",
        "else:\n",
        "  print(\"No\")\n"
      ]
    },
    {
      "cell_type": "code",
      "source": [],
      "metadata": {
        "id": "MZ4niyc8-jy6"
      },
      "execution_count": null,
      "outputs": []
    },
    {
      "cell_type": "code",
      "source": [
        "n=['b', 'a', 'c' , 'd' , 'e']\n",
        "print(n[3:])"
      ],
      "metadata": {
        "colab": {
          "base_uri": "https://localhost:8080/"
        },
        "id": "wl_F0N7T-j36",
        "outputId": "9b37100f-e680-4815-8414-0da77b1ccba9"
      },
      "execution_count": 8,
      "outputs": [
        {
          "output_type": "stream",
          "name": "stdout",
          "text": [
            "['d', 'e']\n"
          ]
        }
      ]
    }
  ]
}