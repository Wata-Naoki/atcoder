{
  "nbformat": 4,
  "nbformat_minor": 0,
  "metadata": {
    "colab": {
      "provenance": [],
      "authorship_tag": "ABX9TyPJDrSF3eNGZqxJvWP7QlBg",
      "include_colab_link": true
    },
    "kernelspec": {
      "name": "python3",
      "display_name": "Python 3"
    },
    "language_info": {
      "name": "python"
    }
  },
  "cells": [
    {
      "cell_type": "markdown",
      "metadata": {
        "id": "view-in-github",
        "colab_type": "text"
      },
      "source": [
        "<a href=\"https://colab.research.google.com/github/Wata-Naoki/atcoder/blob/main/ABC179b.ipynb\" target=\"_parent\"><img src=\"https://colab.research.google.com/assets/colab-badge.svg\" alt=\"Open In Colab\"/></a>"
      ]
    },
    {
      "cell_type": "code",
      "execution_count": 5,
      "metadata": {
        "colab": {
          "base_uri": "https://localhost:8080/"
        },
        "id": "54mtmn_SEuVe",
        "outputId": "9cc07ee7-7e17-449a-a0b9-7a15888f2c1f"
      },
      "outputs": [
        {
          "output_type": "stream",
          "name": "stdout",
          "text": [
            "5\n",
            "1 1\n",
            "2 2\n",
            "3 4\n",
            "5 5\n",
            "6 6\n",
            "No\n"
          ]
        }
      ],
      "source": [
        "n=int(input())\n",
        "count=0\n",
        "for i in range(n):\n",
        "  fir, sec=map(int, input().split())\n",
        "  if fir==sec:\n",
        "    count+=1\n",
        "  else:\n",
        "    if count>=3:\n",
        "      break\n",
        "    else:\n",
        "      count=0\n",
        "print('Yes' if count >= 3 else 'No')"
      ]
    },
    {
      "cell_type": "code",
      "source": [],
      "metadata": {
        "id": "YK3XVjFkHHuo"
      },
      "execution_count": null,
      "outputs": []
    }
  ]
}