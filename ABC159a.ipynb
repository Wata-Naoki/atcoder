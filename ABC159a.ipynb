{
  "nbformat": 4,
  "nbformat_minor": 0,
  "metadata": {
    "colab": {
      "provenance": [],
      "authorship_tag": "ABX9TyN8AHlScr7dQ+0j3Wf8DUhL",
      "include_colab_link": true
    },
    "kernelspec": {
      "name": "python3",
      "display_name": "Python 3"
    },
    "language_info": {
      "name": "python"
    }
  },
  "cells": [
    {
      "cell_type": "markdown",
      "metadata": {
        "id": "view-in-github",
        "colab_type": "text"
      },
      "source": [
        "<a href=\"https://colab.research.google.com/github/Wata-Naoki/atcoder/blob/main/ABC159a.ipynb\" target=\"_parent\"><img src=\"https://colab.research.google.com/assets/colab-badge.svg\" alt=\"Open In Colab\"/></a>"
      ]
    },
    {
      "cell_type": "code",
      "execution_count": 18,
      "metadata": {
        "colab": {
          "base_uri": "https://localhost:8080/"
        },
        "id": "z6pRoM5_pgaT",
        "outputId": "c02d43b5-09bb-4e50-a753-7277afbf8c9a"
      },
      "outputs": [
        {
          "output_type": "stream",
          "name": "stdout",
          "text": [
            "2 1\n",
            "[(0, 1), (1, 0)]\n",
            "1\n"
          ]
        }
      ],
      "source": [
        "import itertools\n",
        "\n",
        "n, m=map(int, input().split())\n",
        "\n",
        "ans=0\n",
        "if n>=2:\n",
        "  ans += len(list(itertools.permutations(range(n), 2)))\n",
        "if m>=2:\n",
        "  ans += len(list(itertools.permutations(range(m), 2)))\n",
        "\n",
        "print(ans//2)\n",
        "\n"
      ]
    },
    {
      "cell_type": "code",
      "source": [
        "t = len(list(itertools.permutations(range(4), 2)))\n",
        "print(t)"
      ],
      "metadata": {
        "colab": {
          "base_uri": "https://localhost:8080/"
        },
        "id": "J8ZNIzpJHPDv",
        "outputId": "9f9bf18f-1950-496e-bb96-033d431a990f"
      },
      "execution_count": 9,
      "outputs": [
        {
          "output_type": "stream",
          "name": "stdout",
          "text": [
            "12\n"
          ]
        }
      ]
    }
  ]
}