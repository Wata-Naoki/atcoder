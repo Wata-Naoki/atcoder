{
  "cells": [
    {
      "cell_type": "markdown",
      "metadata": {
        "colab_type": "text",
        "id": "view-in-github"
      },
      "source": [
        "<a href=\"https://colab.research.google.com/github/Wata-Naoki/atcoder/blob/main/ABC163a.ipynb\" target=\"_parent\"><img src=\"https://colab.research.google.com/assets/colab-badge.svg\" alt=\"Open In Colab\"/></a>"
      ]
    },
    {
      "cell_type": "code",
      "execution_count": 3,
      "metadata": {
        "colab": {
          "base_uri": "https://localhost:8080/"
        },
        "id": "hnxfSNQ6NYWb",
        "outputId": "59e1fd0b-1eb9-42fc-c2f6-6bcbd2fd179f"
      },
      "outputs": [
        {
          "name": "stdout",
          "output_type": "stream",
          "text": [
            "73\n",
            "458.672432\n"
          ]
        }
      ],
      "source": [
        "r=int(input())\n",
        "print((r+r) * 3.141592)"
      ]
    }
  ],
  "metadata": {
    "colab": {
      "authorship_tag": "ABX9TyPnkrZdm8TDiXCvo9HpnNej",
      "include_colab_link": true,
      "provenance": []
    },
    "kernelspec": {
      "display_name": "base",
      "language": "python",
      "name": "python3"
    },
    "language_info": {
      "name": "python",
      "version": "3.9.13 (main, Aug 25 2022, 18:24:45) \n[Clang 12.0.0 ]"
    },
    "vscode": {
      "interpreter": {
        "hash": "4a82cad62286322263d145f7ff7418a87e36fe1c4149647e777d1a6be3cf4cdf"
      }
    }
  },
  "nbformat": 4,
  "nbformat_minor": 0
}
