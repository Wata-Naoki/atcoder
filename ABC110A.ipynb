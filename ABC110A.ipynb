{
  "nbformat": 4,
  "nbformat_minor": 0,
  "metadata": {
    "colab": {
      "provenance": [],
      "authorship_tag": "ABX9TyNCo6KzbcxAIXXRvydpjP05",
      "include_colab_link": true
    },
    "kernelspec": {
      "name": "python3",
      "display_name": "Python 3"
    },
    "language_info": {
      "name": "python"
    }
  },
  "cells": [
    {
      "cell_type": "markdown",
      "metadata": {
        "id": "view-in-github",
        "colab_type": "text"
      },
      "source": [
        "<a href=\"https://colab.research.google.com/github/Wata-Naoki/atcoder/blob/main/ABC110A.ipynb\" target=\"_parent\"><img src=\"https://colab.research.google.com/assets/colab-badge.svg\" alt=\"Open In Colab\"/></a>"
      ]
    },
    {
      "cell_type": "code",
      "execution_count": 3,
      "metadata": {
        "colab": {
          "base_uri": "https://localhost:8080/"
        },
        "id": "iaxBjQBI94bY",
        "outputId": "d52fcde8-a08b-44c1-f317-8cd3853539ab"
      },
      "outputs": [
        {
          "output_type": "stream",
          "name": "stdout",
          "text": [
            "9 9 9\n",
            "108\n"
          ]
        }
      ],
      "source": [
        "input_list = list(map(int, input().split()))\n",
        "\n",
        "input_list.sort(reverse=True)\n",
        "plusNum = str(input_list[0])+str(input_list[1])\n",
        "\n",
        "cal = int(plusNum) + input_list[2]\n",
        "print(cal) \n",
        "\n"
      ]
    }
  ]
}