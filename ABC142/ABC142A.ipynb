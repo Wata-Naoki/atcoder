{
  "nbformat": 4,
  "nbformat_minor": 0,
  "metadata": {
    "colab": {
      "provenance": [],
      "authorship_tag": "ABX9TyNyvX9GOIXe0RpHHnOBjRav",
      "include_colab_link": true
    },
    "kernelspec": {
      "name": "python3",
      "display_name": "Python 3"
    },
    "language_info": {
      "name": "python"
    }
  },
  "cells": [
    {
      "cell_type": "markdown",
      "metadata": {
        "id": "view-in-github",
        "colab_type": "text"
      },
      "source": [
        "<a href=\"https://colab.research.google.com/github/Wata-Naoki/atcoder/blob/main/ABC142A.ipynb\" target=\"_parent\"><img src=\"https://colab.research.google.com/assets/colab-badge.svg\" alt=\"Open In Colab\"/></a>"
      ]
    },
    {
      "cell_type": "code",
      "execution_count": 3,
      "metadata": {
        "id": "95PSyskbHAAL",
        "colab": {
          "base_uri": "https://localhost:8080/"
        },
        "outputId": "99dffac9-b41a-4ea8-efd0-80d1013b89c7"
      },
      "outputs": [
        {
          "output_type": "stream",
          "name": "stdout",
          "text": [
            "4\n",
            "1\n",
            "3\n",
            "0.5\n"
          ]
        }
      ],
      "source": [
        "n=int(input())\n",
        "count=0\n",
        "for i in range(1, n+1):\n",
        "  if i%2!=0:\n",
        "    count+=1\n",
        "    \n",
        "print(count/i)\n",
        "\n"
      ]
    },
    {
      "cell_type": "code",
      "source": [],
      "metadata": {
        "id": "1mfDRqw_JYP7"
      },
      "execution_count": null,
      "outputs": []
    }
  ]
}