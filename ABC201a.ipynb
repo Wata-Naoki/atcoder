{
  "nbformat": 4,
  "nbformat_minor": 0,
  "metadata": {
    "colab": {
      "provenance": [],
      "authorship_tag": "ABX9TyN7kbni6meLaBtz8gKAQYqn",
      "include_colab_link": true
    },
    "kernelspec": {
      "name": "python3",
      "display_name": "Python 3"
    },
    "language_info": {
      "name": "python"
    }
  },
  "cells": [
    {
      "cell_type": "markdown",
      "metadata": {
        "id": "view-in-github",
        "colab_type": "text"
      },
      "source": [
        "<a href=\"https://colab.research.google.com/github/Wata-Naoki/atcoder/blob/main/ABC201a.ipynb\" target=\"_parent\"><img src=\"https://colab.research.google.com/assets/colab-badge.svg\" alt=\"Open In Colab\"/></a>"
      ]
    },
    {
      "cell_type": "code",
      "execution_count": 6,
      "metadata": {
        "colab": {
          "base_uri": "https://localhost:8080/"
        },
        "id": "Rhq5649nD_FD",
        "outputId": "44b46cb6-d5b2-4ff4-999e-b1878e614cf8"
      },
      "outputs": [
        {
          "output_type": "stream",
          "name": "stdout",
          "text": [
            "5 1 3\n",
            "[-2, -2]\n"
          ]
        }
      ],
      "source": [
        "a=[int(n) for n in input().split()]\n",
        "\n",
        "cal=[]\n",
        "a.sort()\n",
        "cal.append(a[0]-a[1])\n",
        "cal.append(a[1]-a[2])\n",
        "\n",
        "print(cal)"
      ]
    }
  ]
}