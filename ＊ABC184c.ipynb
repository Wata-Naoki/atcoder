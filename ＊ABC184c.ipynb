{
  "nbformat": 4,
  "nbformat_minor": 0,
  "metadata": {
    "colab": {
      "provenance": [],
      "authorship_tag": "ABX9TyPYA5LOKVEuAHO9fu1+NAgG",
      "include_colab_link": true
    },
    "kernelspec": {
      "name": "python3",
      "display_name": "Python 3"
    },
    "language_info": {
      "name": "python"
    }
  },
  "cells": [
    {
      "cell_type": "markdown",
      "metadata": {
        "id": "view-in-github",
        "colab_type": "text"
      },
      "source": [
        "<a href=\"https://colab.research.google.com/github/Wata-Naoki/atcoder/blob/main/%EF%BC%8AABC184c.ipynb\" target=\"_parent\"><img src=\"https://colab.research.google.com/assets/colab-badge.svg\" alt=\"Open In Colab\"/></a>"
      ]
    },
    {
      "cell_type": "code",
      "execution_count": 1,
      "metadata": {
        "colab": {
          "base_uri": "https://localhost:8080/"
        },
        "id": "pH7HJcL80ch3",
        "outputId": "fd707508-dac7-4580-98bc-1675ace9d1bc"
      },
      "outputs": [
        {
          "output_type": "stream",
          "name": "stdout",
          "text": [
            "2 3\n",
            "998244353 998244853\n",
            "3\n"
          ]
        }
      ],
      "source": [
        "def solve():\n",
        "  if a==c and b==d:\n",
        "    return 0\n",
        "  \n",
        "  # 1手で終わるパターン\n",
        "  # 問題文の条件\n",
        "  # 1つ目\n",
        "  if a+b==c+d:\n",
        "    return 1\n",
        "  # 2つ目\n",
        "  if a-b==c-d:\n",
        "    return 1\n",
        "  # 3つ目\n",
        "  if abs(a-c)+abs(b-d) <=3:\n",
        "    return 1\n",
        "  \n",
        "  # 2手で終わるパターン\n",
        "  if abs(a-c)+abs(b-d)<=6:\n",
        "    return 2\n",
        "  # ①一気に目的地の手前まで行く②ゴール\n",
        "  if (abs(a-c)+abs(b-d))%2==0:\n",
        "    return 2\n",
        "  if abs((a+b)-(c+d)) <= 3:\n",
        "    return 2\n",
        "  if abs((a - b) - (c - d)) <= 3:\n",
        "        return 2\n",
        " \n",
        "  \n",
        "  # 3手で終わるパターン\n",
        "  # 上記以外は全て3手になる\n",
        "  return 3\n",
        "\n",
        "a, b=map(int, input().split())\n",
        "c, d=map(int, input().split())\n",
        "\n",
        "print(solve())\n"
      ]
    }
  ]
}