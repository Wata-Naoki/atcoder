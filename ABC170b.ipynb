{
  "nbformat": 4,
  "nbformat_minor": 0,
  "metadata": {
    "colab": {
      "provenance": [],
      "authorship_tag": "ABX9TyNfHBnff+w2lMTI/cEymX19",
      "include_colab_link": true
    },
    "kernelspec": {
      "name": "python3",
      "display_name": "Python 3"
    },
    "language_info": {
      "name": "python"
    }
  },
  "cells": [
    {
      "cell_type": "markdown",
      "metadata": {
        "id": "view-in-github",
        "colab_type": "text"
      },
      "source": [
        "<a href=\"https://colab.research.google.com/github/Wata-Naoki/atcoder/blob/main/ABC170b.ipynb\" target=\"_parent\"><img src=\"https://colab.research.google.com/assets/colab-badge.svg\" alt=\"Open In Colab\"/></a>"
      ]
    },
    {
      "cell_type": "code",
      "source": [
        "x, y = map(int, input().split())\n",
        "\n",
        "flag=False\n",
        "for i in range(101):\n",
        "    for j in range(101):\n",
        "        if i + j == x and 2 * i + 4 * j == y:\n",
        "            flag=True\n",
        "            break\n",
        "\n",
        "print('Yes' if flag else 'No')"
      ],
      "metadata": {
        "colab": {
          "base_uri": "https://localhost:8080/"
        },
        "id": "YEGQU96U4xjC",
        "outputId": "ddde4bd6-3f07-4389-b350-a3e44c4c4da8"
      },
      "execution_count": 2,
      "outputs": [
        {
          "output_type": "stream",
          "name": "stdout",
          "text": [
            "2 100\n",
            "No\n"
          ]
        }
      ]
    },
    {
      "cell_type": "code",
      "execution_count": null,
      "metadata": {
        "id": "8x6a1yPF1F4T"
      },
      "outputs": [],
      "source": [
        "x, y=map(int, input().split())\n",
        "a=(4*x-y)/2\n",
        "b=(y-2*x)/2\n",
        "if y%2 == 0 and a >= 0 and b>=0:\n",
        "  print('Yes')\n",
        "else:\n",
        "  print('No')"
      ]
    }
  ]
}