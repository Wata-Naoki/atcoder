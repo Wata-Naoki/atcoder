{
  "nbformat": 4,
  "nbformat_minor": 0,
  "metadata": {
    "colab": {
      "provenance": [],
      "authorship_tag": "ABX9TyMo4QT78kz5Xz2TEYdRP3zJ",
      "include_colab_link": true
    },
    "kernelspec": {
      "name": "python3",
      "display_name": "Python 3"
    },
    "language_info": {
      "name": "python"
    }
  },
  "cells": [
    {
      "cell_type": "markdown",
      "metadata": {
        "id": "view-in-github",
        "colab_type": "text"
      },
      "source": [
        "<a href=\"https://colab.research.google.com/github/Wata-Naoki/atcoder/blob/main/ABC173b.ipynb\" target=\"_parent\"><img src=\"https://colab.research.google.com/assets/colab-badge.svg\" alt=\"Open In Colab\"/></a>"
      ]
    },
    {
      "cell_type": "code",
      "execution_count": 5,
      "metadata": {
        "colab": {
          "base_uri": "https://localhost:8080/"
        },
        "id": "lN2X3akC1yEe",
        "outputId": "95a0038c-38ad-4dbd-eaaf-786cf72ff015"
      },
      "outputs": [
        {
          "output_type": "stream",
          "name": "stdout",
          "text": [
            "6\n",
            "AC\n",
            "TLE\n",
            "AC\n",
            "AC\n",
            "WA\n",
            "TLE\n",
            "AC x 3\n",
            "WA x 1\n",
            "TLE x 2\n",
            "RE x 0\n"
          ]
        }
      ],
      "source": [
        "n=int(input())\n",
        "freq_list=[]\n",
        "ans_val_list=['AC', 'WA', 'TLE', \"RE\"]\n",
        "for i in range(n):\n",
        "  input_val=input()\n",
        "  freq_list.append(input_val)\n",
        "\n",
        "for val in ans_val_list:\n",
        "  print('{} x {}'.format(val, freq_list.count(val)))"
      ]
    },
    {
      "cell_type": "code",
      "source": [],
      "metadata": {
        "id": "E_mWoXJz34OG"
      },
      "execution_count": null,
      "outputs": []
    }
  ]
}