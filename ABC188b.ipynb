{
  "nbformat": 4,
  "nbformat_minor": 0,
  "metadata": {
    "colab": {
      "provenance": [],
      "authorship_tag": "ABX9TyNFwjMMFo0u+sLkg+K5y2e3",
      "include_colab_link": true
    },
    "kernelspec": {
      "name": "python3",
      "display_name": "Python 3"
    },
    "language_info": {
      "name": "python"
    }
  },
  "cells": [
    {
      "cell_type": "markdown",
      "metadata": {
        "id": "view-in-github",
        "colab_type": "text"
      },
      "source": [
        "<a href=\"https://colab.research.google.com/github/Wata-Naoki/atcoder/blob/main/ABC188b.ipynb\" target=\"_parent\"><img src=\"https://colab.research.google.com/assets/colab-badge.svg\" alt=\"Open In Colab\"/></a>"
      ]
    },
    {
      "cell_type": "code",
      "execution_count": 13,
      "metadata": {
        "colab": {
          "base_uri": "https://localhost:8080/"
        },
        "id": "0svYYoQDCfAQ",
        "outputId": "1658129a-4dfc-4bd7-fedb-9b2926eb31b6"
      },
      "outputs": [
        {
          "output_type": "stream",
          "name": "stdout",
          "text": [
            "2\n",
            "-3 6\n",
            "4 2\n",
            "Yes\n"
          ]
        }
      ],
      "source": [
        "n=int(input())\n",
        "a_list=[int(n)  for n in input().split()]\n",
        "b_list=[int(n)  for n in input().split()]\n",
        "ans=0\n",
        "\n",
        "for val1, val2 in zip(a_list, b_list):\n",
        "  ans+=val1*val2\n",
        "\n",
        "print('Yes' if ans==0 else 'No') "
      ]
    }
  ]
}