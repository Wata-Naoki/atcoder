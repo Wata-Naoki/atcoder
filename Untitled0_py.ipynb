{
  "nbformat": 4,
  "nbformat_minor": 0,
  "metadata": {
    "colab": {
      "provenance": [],
      "authorship_tag": "ABX9TyPSnDOcRdX176sgmynv8TSn",
      "include_colab_link": true
    },
    "kernelspec": {
      "name": "python3",
      "display_name": "Python 3"
    },
    "language_info": {
      "name": "python"
    }
  },
  "cells": [
    {
      "cell_type": "markdown",
      "metadata": {
        "id": "view-in-github",
        "colab_type": "text"
      },
      "source": [
        "<a href=\"https://colab.research.google.com/github/Wata-Naoki/atcoder/blob/atcoder-paractice/Untitled0_py.ipynb\" target=\"_parent\"><img src=\"https://colab.research.google.com/assets/colab-badge.svg\" alt=\"Open In Colab\"/></a>"
      ]
    },
    {
      "cell_type": "code",
      "execution_count": 6,
      "metadata": {
        "colab": {
          "base_uri": "https://localhost:8080/"
        },
        "id": "K1vB9PoeVtPL",
        "outputId": "a8fa6f8f-fa8c-4584-9293-f1013664a1b4"
      },
      "outputs": [
        {
          "output_type": "stream",
          "name": "stdout",
          "text": [
            "5 3\n",
            "7\n"
          ]
        }
      ],
      "source": [
        "a = int(input())\n",
        "\n",
        "b, c = map(int, input().split())\n",
        "\n",
        "s = input()\n",
        "\n",
        "print('{} {}'.format())"
      ]
    },
    {
      "cell_type": "code",
      "source": [
        "a,b = map(int, input().split())\n",
        "\n",
        "c = a * b\n",
        "\n",
        "if c%2 == 0:\n",
        "  print('Even')\n",
        "\n",
        "elif c%2 == 1:\n",
        "  print('Odd')"
      ],
      "metadata": {
        "colab": {
          "base_uri": "https://localhost:8080/"
        },
        "id": "u7BDqqHAfk2h",
        "outputId": "3cd947ab-079a-42fb-a871-c10a9312fce5"
      },
      "execution_count": 8,
      "outputs": [
        {
          "output_type": "stream",
          "name": "stdout",
          "text": [
            "3 3\n",
            "Odd\n"
          ]
        }
      ]
    },
    {
      "cell_type": "code",
      "source": [],
      "metadata": {
        "id": "Nb9b29s4hUrS"
      },
      "execution_count": null,
      "outputs": []
    },
    {
      "cell_type": "code",
      "source": [],
      "metadata": {
        "id": "F1Oyrf3AjLYc"
      },
      "execution_count": null,
      "outputs": []
    }
  ]
}