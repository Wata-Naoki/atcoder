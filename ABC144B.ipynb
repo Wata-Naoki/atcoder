{
  "nbformat": 4,
  "nbformat_minor": 0,
  "metadata": {
    "colab": {
      "provenance": [],
      "authorship_tag": "ABX9TyOlNBq2L4yWluUcUBqmQTwk",
      "include_colab_link": true
    },
    "kernelspec": {
      "name": "python3",
      "display_name": "Python 3"
    },
    "language_info": {
      "name": "python"
    }
  },
  "cells": [
    {
      "cell_type": "markdown",
      "metadata": {
        "id": "view-in-github",
        "colab_type": "text"
      },
      "source": [
        "<a href=\"https://colab.research.google.com/github/Wata-Naoki/atcoder/blob/main/ABC144B.ipynb\" target=\"_parent\"><img src=\"https://colab.research.google.com/assets/colab-badge.svg\" alt=\"Open In Colab\"/></a>"
      ]
    },
    {
      "cell_type": "code",
      "execution_count": 4,
      "metadata": {
        "id": "x8qV6-GpUA6V",
        "colab": {
          "base_uri": "https://localhost:8080/"
        },
        "outputId": "4d14fd70-8ccc-493c-e760-d1120a78b420"
      },
      "outputs": [
        {
          "output_type": "stream",
          "name": "stdout",
          "text": [
            "81\n",
            "9 9\n",
            "Yes\n"
          ]
        }
      ],
      "source": [
        "n=int(input())\n",
        "\n",
        "flag=False\n",
        "\n",
        "for i in range(1, 10):\n",
        "  for k in range(1, 10):\n",
        "    ans = i * k\n",
        "    if i * k == n:\n",
        "      flag=True\n",
        "\n",
        "print('Yes' if flag else 'No')\n",
        "\n",
        "\n",
        "  \n"
      ]
    }
  ]
}