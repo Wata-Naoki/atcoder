{
  "nbformat": 4,
  "nbformat_minor": 0,
  "metadata": {
    "colab": {
      "provenance": [],
      "authorship_tag": "ABX9TyNUbRnEOLDhYQYGVNBNX9Uq",
      "include_colab_link": true
    },
    "kernelspec": {
      "name": "python3",
      "display_name": "Python 3"
    },
    "language_info": {
      "name": "python"
    }
  },
  "cells": [
    {
      "cell_type": "markdown",
      "metadata": {
        "id": "view-in-github",
        "colab_type": "text"
      },
      "source": [
        "<a href=\"https://colab.research.google.com/github/Wata-Naoki/atcoder/blob/main/ABC157b.ipynb\" target=\"_parent\"><img src=\"https://colab.research.google.com/assets/colab-badge.svg\" alt=\"Open In Colab\"/></a>"
      ]
    },
    {
      "cell_type": "code",
      "execution_count": null,
      "metadata": {
        "id": "RuZCqvZSXhSa"
      },
      "outputs": [],
      "source": [
        "aaa = [list(map(int, input().split())) for _ in range(3)]\n",
        "print(aaa)\n",
        "n=int(input().split())\n",
        "\n",
        "input_list=[]\n",
        "for _ in range(n):\n",
        "  il=int(input())\n",
        "  input_list.append(li)\n",
        "\n",
        "\n",
        "\n"
      ]
    },
    {
      "cell_type": "code",
      "source": [
        "aaa = [list(map(int, input().split())) for _ in range(3)]\n",
        "n = int(input())\n",
        "for _ in range(n):\n",
        "    b = int(input())\n",
        "    for j in range(3):\n",
        "        for k in range(3):\n",
        "            if aaa[j][k] == b:\n",
        "                aaa[j][k] = 0\n",
        "\n",
        "ans = 'No'\n",
        "for i in range(3):\n",
        "    if aaa[i][0] == aaa[i][1] == aaa[i][2] == 0:\n",
        "        ans = 'Yes'\n",
        "    if aaa[0][i] == aaa[1][i] == aaa[2][i] == 0:\n",
        "        ans = 'Yes'\n",
        "if aaa[0][0] == aaa[1][1] == aaa[2][2] == 0:\n",
        "    ans = 'Yes'\n",
        "if aaa[2][0] == aaa[1][1] == aaa[0][2] == 0:\n",
        "    ans = 'Yes'\n",
        "print(ans)"
      ],
      "metadata": {
        "colab": {
          "base_uri": "https://localhost:8080/"
        },
        "id": "6N8bJBfnhfBR",
        "outputId": "b3f7da3e-8848-465a-8dfc-82e47cba5d9f"
      },
      "execution_count": 2,
      "outputs": [
        {
          "output_type": "stream",
          "name": "stdout",
          "text": [
            "84 97 66\n",
            "79 89 11\n",
            "61 59 7\n",
            "7\n",
            "89\n",
            "7\n",
            "87\n",
            "79\n",
            "24\n",
            "84\n",
            "30\n",
            "Yes\n"
          ]
        }
      ]
    },
    {
      "cell_type": "code",
      "source": [
        "aaa=[list(map(int, input().split())) for _ in range(3)]\n",
        "n=int(input())\n",
        "for _ in range(n):\n",
        "  b=int(input())\n",
        "  for j in range(3):\n",
        "    for k in range(3):\n",
        "      if aaa[j][k] == b:\n",
        "        aaa[j][k] = 0\n",
        "\n",
        "ans='No'\n",
        "for i in range(3):\n",
        "    if aaa[i][0] == aaa[i][1] == aaa[i][2] == 0:\n",
        "        ans = 'Yes'\n",
        "    if aaa[0][i] == aaa[1][i] == aaa[2][i] == 0:\n",
        "        ans = 'Yes'\n",
        "if aaa[0][0] == aaa[1][1] == aaa[2][2] == 0:\n",
        "    ans = 'Yes'\n",
        "if aaa[2][0] == aaa[1][1] == aaa[0][2] == 0:\n",
        "    ans = 'Yes'\n",
        "print(ans)"
      ],
      "metadata": {
        "id": "rhVB6oXoi7kz"
      },
      "execution_count": null,
      "outputs": []
    }
  ]
}