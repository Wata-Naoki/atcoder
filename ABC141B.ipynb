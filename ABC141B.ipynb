{
  "nbformat": 4,
  "nbformat_minor": 0,
  "metadata": {
    "colab": {
      "provenance": [],
      "authorship_tag": "ABX9TyNy2wqFDMmml/lOOWtOrx/n",
      "include_colab_link": true
    },
    "kernelspec": {
      "name": "python3",
      "display_name": "Python 3"
    },
    "language_info": {
      "name": "python"
    }
  },
  "cells": [
    {
      "cell_type": "markdown",
      "metadata": {
        "id": "view-in-github",
        "colab_type": "text"
      },
      "source": [
        "<a href=\"https://colab.research.google.com/github/Wata-Naoki/atcoder/blob/main/ABC141B.ipynb\" target=\"_parent\"><img src=\"https://colab.research.google.com/assets/colab-badge.svg\" alt=\"Open In Colab\"/></a>"
      ]
    },
    {
      "cell_type": "code",
      "execution_count": 21,
      "metadata": {
        "colab": {
          "base_uri": "https://localhost:8080/"
        },
        "id": "tAeOFNKwCm2R",
        "outputId": "80bb3705-b258-4d7b-9c55-86f3547833ba"
      },
      "outputs": [
        {
          "output_type": "stream",
          "name": "stdout",
          "text": [
            "DULL\n",
            "['D', 'U', 'L', 'L']\n",
            "4\n",
            "3\n",
            "No\n"
          ]
        }
      ],
      "source": [
        "# S の各文字は L, R, U, D \n",
        "s = list(input())\n",
        "count=0\n",
        "i=1\n",
        "for v in s:\n",
        "  if i%2==0:\n",
        "    even_judge = v in ['L', 'U', 'D']\n",
        "    if even_judge:\n",
        "      count+=1\n",
        "  else:\n",
        "    odd_judge= v in ['R', 'U', 'D']\n",
        "    if odd_judge:\n",
        "      count+=1\n",
        "  i+=1\n",
        "print('Yes' if count==len(s) else 'No')"
      ]
    },
    {
      "cell_type": "code",
      "source": [
        "lists=['aa', 'bb']\n",
        "\n",
        "even= 'aa' in ['aa', 'bb']\n",
        "print(even)"
      ],
      "metadata": {
        "colab": {
          "base_uri": "https://localhost:8080/"
        },
        "id": "-A_5t-yOGIrN",
        "outputId": "c835a9e4-d7a7-42ec-f32a-d174511885d2"
      },
      "execution_count": 2,
      "outputs": [
        {
          "output_type": "stream",
          "name": "stdout",
          "text": [
            "True\n"
          ]
        }
      ]
    }
  ]
}