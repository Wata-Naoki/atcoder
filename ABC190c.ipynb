{
  "nbformat": 4,
  "nbformat_minor": 0,
  "metadata": {
    "colab": {
      "provenance": [],
      "authorship_tag": "ABX9TyPR8anZhjVj+owm4k91lkzS",
      "include_colab_link": true
    },
    "kernelspec": {
      "name": "python3",
      "display_name": "Python 3"
    },
    "language_info": {
      "name": "python"
    }
  },
  "cells": [
    {
      "cell_type": "markdown",
      "metadata": {
        "id": "view-in-github",
        "colab_type": "text"
      },
      "source": [
        "<a href=\"https://colab.research.google.com/github/Wata-Naoki/atcoder/blob/main/ABC190c.ipynb\" target=\"_parent\"><img src=\"https://colab.research.google.com/assets/colab-badge.svg\" alt=\"Open In Colab\"/></a>"
      ]
    },
    {
      "cell_type": "code",
      "execution_count": null,
      "metadata": {
        "colab": {
          "base_uri": "https://localhost:8080/"
        },
        "id": "foz05-w7sBDd",
        "outputId": "c2c099fb-65b4-4df8-f8fb-b87ca0f19589"
      },
      "outputs": [
        {
          "output_type": "stream",
          "name": "stdout",
          "text": [
            "6 12\n",
            "2 3\n",
            "4 6\n",
            "1 2\n",
            "4 5\n",
            "2 6\n",
            "1 5\n",
            "4 5\n",
            "1 3\n",
            "1 2\n",
            "2 6\n",
            "2 3\n",
            "2 5\n",
            "5\n",
            "3 5\n",
            "1 4\n",
            "2 6\n",
            "4 6\n",
            "5 6\n",
            "[3, 1, 2, 4, 5]   [[2, 3], [4, 6], [1, 2], [4, 5], [2, 6], [1, 5], [4, 5], [1, 3], [1, 2], [2, 6], [2, 3], [2, 5]]\n",
            "9\n"
          ]
        }
      ],
      "source": [
        "n ,m=map(int, input().split())\n",
        "\n",
        "cond_list=[list(map(int, input().split())) for _ in range(m)]\n",
        "\n",
        "k=int(input())\n",
        "\n",
        "bowl_list=[]\n",
        "for _ in range(k):\n",
        "  c,d=map(int, input().split())\n",
        "  if c not in bowl_list and d not in bowl_list:\n",
        "    bowl_list.append(min(c, d))\n",
        "  else:\n",
        "    if c not in bowl_list:\n",
        "      bowl_list.append(c)\n",
        "    elif d not in bowl_list:\n",
        "      bowl_list.append(d)\n",
        "# print(bowl_list, ' ', cond_list)\n",
        "\n",
        "count=0\n",
        "for vals in cond_list:\n",
        "  and_list=set(bowl_list) & set(vals)\n",
        "  if len(and_list)==2:\n",
        "    count+=1\n",
        "print(count)\n",
        "\n",
        "\n",
        "\n"
      ]
    },
    {
      "cell_type": "code",
      "source": [
        "\n",
        "\n",
        "def solve():\n",
        "  from itertools import product\n",
        "  ans=0\n",
        "\n",
        "  for bit in product((0, 1), repeat=k):\n",
        "    cnt = [0]*(N+1)\n",
        "    for i in range(k):\n",
        "      ball = people[i][bit[i]]\n",
        "      cnt[ball] +=1\n",
        "    score = 0\n",
        "    for i in range(M):\n",
        "      c, d = conditions[i]\n",
        "      if cnt[c] > 0 and cnt[d] > 0:\n",
        "        score += 1\n",
        "    ans = max(ans, score)\n",
        "  return ans\n",
        "\n",
        "\n",
        "\n",
        "N, M=map(int, input().split())\n",
        "conditions=[]\n",
        "for _ in range(M):\n",
        "  a, b = map(int, input().split())\n",
        "  conditions.append((a, b))\n",
        "\n",
        "people = []\n",
        "k = int(input())\n",
        "for _ in range(k):\n",
        "  c, d = map(int, input().split())\n",
        "  people.append((c,d))\n",
        "\n",
        "print(solve())"
      ],
      "metadata": {
        "id": "k4Trdl0muQC3",
        "colab": {
          "base_uri": "https://localhost:8080/",
          "height": 133
        },
        "outputId": "45b2add1-6f7f-4ead-cef8-4e7830e2ac48"
      },
      "execution_count": null,
      "outputs": [
        {
          "output_type": "error",
          "ename": "SyntaxError",
          "evalue": "ignored",
          "traceback": [
            "\u001b[0;36m  File \u001b[0;32m\"<ipython-input-5-ff7a4f84eaf4>\"\u001b[0;36m, line \u001b[0;32m9\u001b[0m\n\u001b[0;31m    for _ in range(k):\u001b[0m\n\u001b[0m                      ^\u001b[0m\n\u001b[0;31mSyntaxError\u001b[0m\u001b[0;31m:\u001b[0m unexpected EOF while parsing\n"
          ]
        }
      ]
    },
    {
      "cell_type": "code",
      "source": [],
      "metadata": {
        "id": "VUasr4dnuQFQ"
      },
      "execution_count": null,
      "outputs": []
    },
    {
      "cell_type": "code",
      "source": [],
      "metadata": {
        "id": "_snu4mVCuQHZ"
      },
      "execution_count": null,
      "outputs": []
    }
  ]
}