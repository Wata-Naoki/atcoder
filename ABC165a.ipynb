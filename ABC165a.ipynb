{
  "nbformat": 4,
  "nbformat_minor": 0,
  "metadata": {
    "colab": {
      "provenance": [],
      "authorship_tag": "ABX9TyNz0VqaSm4YQDLTIu+NoGFu",
      "include_colab_link": true
    },
    "kernelspec": {
      "name": "python3",
      "display_name": "Python 3"
    },
    "language_info": {
      "name": "python"
    }
  },
  "cells": [
    {
      "cell_type": "markdown",
      "metadata": {
        "id": "view-in-github",
        "colab_type": "text"
      },
      "source": [
        "<a href=\"https://colab.research.google.com/github/Wata-Naoki/atcoder/blob/main/ABC165a.ipynb\" target=\"_parent\"><img src=\"https://colab.research.google.com/assets/colab-badge.svg\" alt=\"Open In Colab\"/></a>"
      ]
    },
    {
      "cell_type": "code",
      "execution_count": 5,
      "metadata": {
        "colab": {
          "base_uri": "https://localhost:8080/"
        },
        "id": "ehnaQrtCwwX0",
        "outputId": "ac0c2fc4-6560-42e5-ad2e-b634e39f1c18"
      },
      "outputs": [
        {
          "output_type": "stream",
          "name": "stdout",
          "text": [
            "4\n",
            "5 7\n",
            "NG\n"
          ]
        }
      ],
      "source": [
        "k=int(input())\n",
        "a, b=map(int, input().split())\n",
        "flag=False\n",
        "for i in range(a, b+1):\n",
        "  if i%k==0:\n",
        "    flag=True\n",
        "    break\n",
        "print('OK' if flag else 'NG')"
      ]
    },
    {
      "cell_type": "code",
      "source": [
        "for i in range(5, 8):\n",
        "  print(i)"
      ],
      "metadata": {
        "colab": {
          "base_uri": "https://localhost:8080/"
        },
        "id": "xtzvrZChxlz6",
        "outputId": "4c8adb87-c7ec-4516-db11-fba8dd5aaa55"
      },
      "execution_count": 3,
      "outputs": [
        {
          "output_type": "stream",
          "name": "stdout",
          "text": [
            "5\n",
            "6\n",
            "7\n"
          ]
        }
      ]
    },
    {
      "cell_type": "code",
      "source": [],
      "metadata": {
        "id": "LoXrnigOxoK2"
      },
      "execution_count": null,
      "outputs": []
    }
  ]
}