{
  "nbformat": 4,
  "nbformat_minor": 0,
  "metadata": {
    "colab": {
      "provenance": [],
      "authorship_tag": "ABX9TyPoy8/pE0u8ZpM8QWr5U+N5",
      "include_colab_link": true
    },
    "kernelspec": {
      "name": "python3",
      "display_name": "Python 3"
    },
    "language_info": {
      "name": "python"
    }
  },
  "cells": [
    {
      "cell_type": "markdown",
      "metadata": {
        "id": "view-in-github",
        "colab_type": "text"
      },
      "source": [
        "<a href=\"https://colab.research.google.com/github/Wata-Naoki/atcoder/blob/main/ABC189b.ipynb\" target=\"_parent\"><img src=\"https://colab.research.google.com/assets/colab-badge.svg\" alt=\"Open In Colab\"/></a>"
      ]
    },
    {
      "cell_type": "code",
      "execution_count": 10,
      "metadata": {
        "colab": {
          "base_uri": "https://localhost:8080/"
        },
        "id": "-dV4f2X9Nauh",
        "outputId": "58984b83-b583-4e02-f7f0-e6df2dd44ab2"
      },
      "outputs": [
        {
          "output_type": "stream",
          "name": "stdout",
          "text": [
            "2 15\n",
            "200 5\n",
            "350 3\n",
            "1\n"
          ]
        }
      ],
      "source": [
        "n, x=map(int, input().split())\n",
        "\n",
        "value=0\n",
        "count=0\n",
        "for i in range(n):\n",
        "  v, p=map(int, input().split())\n",
        "  if value > x*100:\n",
        "    break\n",
        "  value+=v*p\n",
        "  count+=1\n",
        "\n",
        "print( -1 if value <= x*100 else count )\n"
      ]
    },
    {
      "cell_type": "markdown",
      "source": [],
      "metadata": {
        "id": "fdeBlvOyUzFI"
      }
    },
    {
      "cell_type": "markdown",
      "source": [
        "3 1000000\n",
        "1000 100\n",
        "1000 100\n",
        "1000 100\n",
        "-1"
      ],
      "metadata": {
        "id": "b65TQuewUzL-"
      }
    },
    {
      "cell_type": "code",
      "source": [
        "2 15\n",
        "200 5\n",
        "350 3"
      ],
      "metadata": {
        "id": "ZPYThGaIP8B9"
      },
      "execution_count": null,
      "outputs": []
    }
  ]
}