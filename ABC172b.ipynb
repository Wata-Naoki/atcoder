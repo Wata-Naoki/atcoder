{
  "nbformat": 4,
  "nbformat_minor": 0,
  "metadata": {
    "colab": {
      "provenance": [],
      "authorship_tag": "ABX9TyNgti4y+Zn23/zJe7p5kcaU",
      "include_colab_link": true
    },
    "kernelspec": {
      "name": "python3",
      "display_name": "Python 3"
    },
    "language_info": {
      "name": "python"
    }
  },
  "cells": [
    {
      "cell_type": "markdown",
      "metadata": {
        "id": "view-in-github",
        "colab_type": "text"
      },
      "source": [
        "<a href=\"https://colab.research.google.com/github/Wata-Naoki/atcoder/blob/main/ABC172b.ipynb\" target=\"_parent\"><img src=\"https://colab.research.google.com/assets/colab-badge.svg\" alt=\"Open In Colab\"/></a>"
      ]
    },
    {
      "cell_type": "code",
      "execution_count": 3,
      "metadata": {
        "colab": {
          "base_uri": "https://localhost:8080/"
        },
        "id": "VEsprJtT9WCj",
        "outputId": "1817ae14-4a9e-4136-ddd9-442f62279c34"
      },
      "outputs": [
        {
          "output_type": "stream",
          "name": "stdout",
          "text": [
            "bcdea\n",
            "bcdea\n",
            "0\n"
          ]
        }
      ],
      "source": [
        "s=list(input())\n",
        "t=list(input())\n",
        "count=0\n",
        "\n",
        "for v1, v2 in zip(s, t):\n",
        "  if v1 != v2:\n",
        "    count+=1\n",
        "\n",
        "print(count)"
      ]
    }
  ]
}