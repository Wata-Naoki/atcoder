{
  "nbformat": 4,
  "nbformat_minor": 0,
  "metadata": {
    "colab": {
      "provenance": [],
      "authorship_tag": "ABX9TyOLKtq+YcnkiB8BREinsF9N",
      "include_colab_link": true
    },
    "kernelspec": {
      "name": "python3",
      "display_name": "Python 3"
    },
    "language_info": {
      "name": "python"
    }
  },
  "cells": [
    {
      "cell_type": "markdown",
      "metadata": {
        "id": "view-in-github",
        "colab_type": "text"
      },
      "source": [
        "<a href=\"https://colab.research.google.com/github/Wata-Naoki/atcoder/blob/main/ABC178b.ipynb\" target=\"_parent\"><img src=\"https://colab.research.google.com/assets/colab-badge.svg\" alt=\"Open In Colab\"/></a>"
      ]
    },
    {
      "cell_type": "code",
      "source": [
        "a, b, c, d = map(int, input().split())\n",
        "ans = max(a*c, a*d, b*c, b*d)\n",
        "print(ans)"
      ],
      "metadata": {
        "colab": {
          "base_uri": "https://localhost:8080/"
        },
        "id": "_FxryrRx10pL",
        "outputId": "e2289fcf-e411-4108-de70-be4e41de99e5"
      },
      "execution_count": 20,
      "outputs": [
        {
          "output_type": "stream",
          "name": "stdout",
          "text": [
            "-1000000000 0 -1000000000 0\n",
            "1000000000000000000\n"
          ]
        }
      ]
    },
    {
      "cell_type": "code",
      "execution_count": 10,
      "metadata": {
        "colab": {
          "base_uri": "https://localhost:8080/"
        },
        "id": "1mgKiJRywHxp",
        "outputId": "b0c93e49-c7dd-4708-c3fc-81b9a7514ecd"
      },
      "outputs": [
        {
          "output_type": "stream",
          "name": "stdout",
          "text": [
            "-1000000000 0 -1000000000 0\n",
            "-1000000000 0 0\n",
            "-1000000000 0 0\n",
            "0\n"
          ]
        }
      ],
      "source": [
        "a, b, c, d=map(int, input().split())\n",
        "x=b\n",
        "y=d\n",
        "i=1\n",
        "\n",
        "for i in range(a, b+1):\n",
        "  if a<=x and x<=b:\n",
        "    print(a,x,b)\n",
        "    break\n",
        "  x-=1\n",
        "\n",
        "for k in range(c, d+1):\n",
        "  if c <= y and y <= d:\n",
        "    print(c,y,d)\n",
        "    break\n",
        "  y-=1\n",
        "\n",
        "print(x*y)"
      ]
    },
    {
      "cell_type": "code",
      "source": [
        "for i in range(3,5+1):\n",
        "  print(i)\n",
        "\n",
        "for i in range(-4, -2+1):\n",
        "  print(i)"
      ],
      "metadata": {
        "colab": {
          "base_uri": "https://localhost:8080/"
        },
        "id": "uhwje-7Aw2ff",
        "outputId": "b223a4d2-d196-4dc4-ef6b-978984787dfc"
      },
      "execution_count": 6,
      "outputs": [
        {
          "output_type": "stream",
          "name": "stdout",
          "text": [
            "3\n",
            "4\n",
            "5\n",
            "-4\n",
            "-3\n",
            "-2\n"
          ]
        }
      ]
    }
  ]
}