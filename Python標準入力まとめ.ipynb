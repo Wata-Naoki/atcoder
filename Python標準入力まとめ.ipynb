{
  "nbformat": 4,
  "nbformat_minor": 0,
  "metadata": {
    "colab": {
      "provenance": [],
      "authorship_tag": "ABX9TyOTpRdfe9jToyk2K7RUrbg5",
      "include_colab_link": true
    },
    "kernelspec": {
      "name": "python3",
      "display_name": "Python 3"
    },
    "language_info": {
      "name": "python"
    }
  },
  "cells": [
    {
      "cell_type": "markdown",
      "metadata": {
        "id": "view-in-github",
        "colab_type": "text"
      },
      "source": [
        "<a href=\"https://colab.research.google.com/github/Wata-Naoki/atcoder/blob/main/Python%E6%A8%99%E6%BA%96%E5%85%A5%E5%8A%9B%E3%81%BE%E3%81%A8%E3%82%81.ipynb\" target=\"_parent\"><img src=\"https://colab.research.google.com/assets/colab-badge.svg\" alt=\"Open In Colab\"/></a>"
      ]
    },
    {
      "cell_type": "markdown",
      "source": [],
      "metadata": {
        "id": "TYAD5HtCWsKK"
      }
    },
    {
      "cell_type": "code",
      "source": [
        "s = input()"
      ],
      "metadata": {
        "id": "cHae5n3hHee2"
      },
      "execution_count": null,
      "outputs": []
    },
    {
      "cell_type": "code",
      "source": [
        "b, c = map(int, input().split())"
      ],
      "metadata": {
        "id": "p7EgNMbkHehX"
      },
      "execution_count": null,
      "outputs": []
    },
    {
      "cell_type": "code",
      "source": [
        "s = list(map(int, input().split()))\n",
        "print (s)"
      ],
      "metadata": {
        "id": "wuDraGYiHkCL"
      },
      "execution_count": null,
      "outputs": []
    },
    {
      "cell_type": "code",
      "source": [
        "s = int(input())\n",
        "\n",
        "for i in range(s):\n",
        "    s_list = list(map(int, input().split()))\n",
        "    \n",
        "print(s_list)"
      ],
      "metadata": {
        "id": "wdYBG7heHoTg"
      },
      "execution_count": null,
      "outputs": []
    },
    {
      "cell_type": "code",
      "source": [
        "s = int(input())\n",
        "\n",
        "for i in range(s):\n",
        "    s_list = int(input())\n",
        "    \n",
        "print(s_list)"
      ],
      "metadata": {
        "id": "sDnhP6JWH7nT"
      },
      "execution_count": null,
      "outputs": []
    },
    {
      "cell_type": "code",
      "source": [
        "input_line = int(input())\n",
        "\n",
        "val = []\n",
        "for i in range(input_line):\n",
        "    val.append(input())\n",
        "\n",
        "print(val)"
      ],
      "metadata": {
        "id": "6fH0cZlDu8Jl"
      },
      "execution_count": null,
      "outputs": []
    },
    {
      "cell_type": "code",
      "source": [
        "word = list(input())\n",
        "print(word)"
      ],
      "metadata": {
        "id": "EhbgnmXIvAJt"
      },
      "execution_count": null,
      "outputs": []
    }
  ]
}