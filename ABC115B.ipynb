{
  "nbformat": 4,
  "nbformat_minor": 0,
  "metadata": {
    "colab": {
      "provenance": [],
      "authorship_tag": "ABX9TyOZzUQ1GBlufPAVQBzbWt/S",
      "include_colab_link": true
    },
    "kernelspec": {
      "name": "python3",
      "display_name": "Python 3"
    },
    "language_info": {
      "name": "python"
    }
  },
  "cells": [
    {
      "cell_type": "markdown",
      "metadata": {
        "id": "view-in-github",
        "colab_type": "text"
      },
      "source": [
        "<a href=\"https://colab.research.google.com/github/Wata-Naoki/atcoder/blob/main/ABC115B.ipynb\" target=\"_parent\"><img src=\"https://colab.research.google.com/assets/colab-badge.svg\" alt=\"Open In Colab\"/></a>"
      ]
    },
    {
      "cell_type": "code",
      "execution_count": null,
      "metadata": {
        "id": "irC9esj0dJB5"
      },
      "outputs": [],
      "source": [
        "n=int(input())\n",
        "items_list=[]\n",
        "count = 0\n",
        "for i in range(n):\n",
        "  items_list.append(int(input()))\n",
        "\n",
        "items_list.sort(reverse=True)\n",
        "\n",
        "for i, num in enumerate(items_list):\n",
        "  if i==0:\n",
        "    count += num//2\n",
        "  else:\n",
        "    count += num\n",
        "print(count)\n",
        "\n"
      ]
    }
  ]
}