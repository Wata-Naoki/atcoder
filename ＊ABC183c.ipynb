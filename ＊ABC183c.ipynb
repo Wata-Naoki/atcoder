{
  "nbformat": 4,
  "nbformat_minor": 0,
  "metadata": {
    "colab": {
      "provenance": [],
      "authorship_tag": "ABX9TyOWf1zZwb1lytJWFDqSxlQ6",
      "include_colab_link": true
    },
    "kernelspec": {
      "name": "python3",
      "display_name": "Python 3"
    },
    "language_info": {
      "name": "python"
    }
  },
  "cells": [
    {
      "cell_type": "markdown",
      "metadata": {
        "id": "view-in-github",
        "colab_type": "text"
      },
      "source": [
        "<a href=\"https://colab.research.google.com/github/Wata-Naoki/atcoder/blob/main/%EF%BC%8AABC183c.ipynb\" target=\"_parent\"><img src=\"https://colab.research.google.com/assets/colab-badge.svg\" alt=\"Open In Colab\"/></a>"
      ]
    },
    {
      "cell_type": "code",
      "execution_count": 3,
      "metadata": {
        "colab": {
          "base_uri": "https://localhost:8080/"
        },
        "id": "I_RhHFSu022L",
        "outputId": "2bce728f-5c61-4f61-d9e0-0222638cdb71"
      },
      "outputs": [
        {
          "output_type": "stream",
          "name": "stdout",
          "text": [
            "4 330\n",
            "0 1 10 100\n",
            "1 0 20 200\n",
            "10 20 0 300\n",
            "100 200 300 0\n",
            "2\n"
          ]
        }
      ],
      "source": [
        "from itertools import permutations\n",
        "n, k = map(int, input().split())\n",
        "T=[]\n",
        "for i in range(n):\n",
        "  s = list(map(int, input().split()))\n",
        "  T.append(s)\n",
        "\n",
        "ans=0\n",
        "\n",
        "for per in permutations(range(1, n)):\n",
        "  score=0\n",
        "  prev=0\n",
        "  for i in range(n-1):\n",
        "    cur=per[i]\n",
        "    score += T[prev][cur]\n",
        "    prev = cur\n",
        "  score += T[prev][0]\n",
        "\n",
        "  if score == k:\n",
        "    ans += 1\n",
        "print(ans)"
      ]
    }
  ]
}