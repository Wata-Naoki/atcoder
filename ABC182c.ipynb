{
  "nbformat": 4,
  "nbformat_minor": 0,
  "metadata": {
    "colab": {
      "provenance": [],
      "authorship_tag": "ABX9TyPF8siS6ELXubK7M3Hg7mcZ",
      "include_colab_link": true
    },
    "kernelspec": {
      "name": "python3",
      "display_name": "Python 3"
    },
    "language_info": {
      "name": "python"
    }
  },
  "cells": [
    {
      "cell_type": "markdown",
      "metadata": {
        "id": "view-in-github",
        "colab_type": "text"
      },
      "source": [
        "<a href=\"https://colab.research.google.com/github/Wata-Naoki/atcoder/blob/main/ABC182c.ipynb\" target=\"_parent\"><img src=\"https://colab.research.google.com/assets/colab-badge.svg\" alt=\"Open In Colab\"/></a>"
      ]
    },
    {
      "cell_type": "code",
      "source": [
        "import itertools\n",
        " \n",
        "n = list(input())\n",
        "ans = 0\n",
        " \n",
        "for i in range(1, len(n) + 1):\n",
        "    for j in itertools.combinations(n, i):\n",
        "        print(n, i)\n",
        "        print(j)\n",
        "        if int(\"\".join(j)) % 3 == 0:\n",
        "            ans = i\n",
        " \n",
        "print(len(n) - ans if ans else -1)"
      ],
      "metadata": {
        "colab": {
          "base_uri": "https://localhost:8080/"
        },
        "id": "VtDXbvDktHFL",
        "outputId": "734758fc-078b-4cb3-f12d-82b266b64e11"
      },
      "execution_count": 26,
      "outputs": [
        {
          "output_type": "stream",
          "name": "stdout",
          "text": [
            "35\n",
            "['3', '5'] 1\n",
            "('3',)\n",
            "['3', '5'] 1\n",
            "('5',)\n",
            "['3', '5'] 2\n",
            "('3', '5')\n",
            "1\n"
          ]
        }
      ]
    },
    {
      "cell_type": "code",
      "execution_count": 24,
      "metadata": {
        "colab": {
          "base_uri": "https://localhost:8080/"
        },
        "id": "Rd1L2l-DhX4s",
        "outputId": "6a9dd432-b357-48f0-9c35-ea30ea506ff2"
      },
      "outputs": [
        {
          "output_type": "stream",
          "name": "stdout",
          "text": [
            "2423\n",
            "1\n"
          ]
        }
      ],
      "source": [
        "N = input()\n",
        "t = [int(c)%3 for c in list(N)]\n",
        "# print(t)\n",
        "x = sum(t)\n",
        "# print(x)\n",
        "\n",
        "if x % 3 == 0:\n",
        "    print(0)\n",
        "elif x % 3 == 1:\n",
        "    if 1 in t:\n",
        "        print(1)\n",
        "    else:\n",
        "        print(2)\n",
        "elif x % 3 == 2:\n",
        "    if 2 in t:\n",
        "        print(1)\n",
        "    else:\n",
        "      print(2)"
      ]
    },
    {
      "cell_type": "code",
      "source": [
        "print(622713814%3)"
      ],
      "metadata": {
        "colab": {
          "base_uri": "https://localhost:8080/"
        },
        "id": "ayXLmac9qDMb",
        "outputId": "28da1a8e-e638-4ef5-9523-ef57013da869"
      },
      "execution_count": 7,
      "outputs": [
        {
          "output_type": "stream",
          "name": "stdout",
          "text": [
            "1\n"
          ]
        }
      ]
    },
    {
      "cell_type": "code",
      "source": [
        "n=int(input())\n",
        "n_str=str(n)\n",
        "n_list=list(n_str)\n",
        "count=0\n",
        "if n%3==0:\n",
        "  print(0)\n",
        "else:\n",
        "  for i, v in enumerate(n_list):\n",
        "    for i_sec, v_sec in enumerate(n_list):\n",
        "\n",
        "\n"
      ],
      "metadata": {
        "id": "L3v4oRfkjsSg"
      },
      "execution_count": null,
      "outputs": []
    },
    {
      "cell_type": "code",
      "source": [
        "n=int(input())\n",
        "n_str=str(n)\n",
        "n_list=list(n_str)\n",
        "\n",
        "print(n_list)"
      ],
      "metadata": {
        "colab": {
          "base_uri": "https://localhost:8080/"
        },
        "id": "yZEPdVAnnM2P",
        "outputId": "bc5abede-2d3d-4fef-9e89-f7bbeb9fae77"
      },
      "execution_count": 4,
      "outputs": [
        {
          "output_type": "stream",
          "name": "stdout",
          "text": [
            "344\n",
            "['3', '4', '4']\n"
          ]
        }
      ]
    }
  ]
}