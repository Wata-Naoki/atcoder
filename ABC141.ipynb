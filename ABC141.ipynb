{
  "nbformat": 4,
  "nbformat_minor": 0,
  "metadata": {
    "colab": {
      "provenance": [],
      "authorship_tag": "ABX9TyPbxh1WB8YDFsVBlf6Wkdli",
      "include_colab_link": true
    },
    "kernelspec": {
      "name": "python3",
      "display_name": "Python 3"
    },
    "language_info": {
      "name": "python"
    }
  },
  "cells": [
    {
      "cell_type": "markdown",
      "metadata": {
        "id": "view-in-github",
        "colab_type": "text"
      },
      "source": [
        "<a href=\"https://colab.research.google.com/github/Wata-Naoki/atcoder/blob/main/ABC141.ipynb\" target=\"_parent\"><img src=\"https://colab.research.google.com/assets/colab-badge.svg\" alt=\"Open In Colab\"/></a>"
      ]
    },
    {
      "cell_type": "code",
      "execution_count": 2,
      "metadata": {
        "id": "Ty00Qa5EBCv7",
        "colab": {
          "base_uri": "https://localhost:8080/"
        },
        "outputId": "db54675c-1862-42d7-9012-037f5d5302b4"
      },
      "outputs": [
        {
          "output_type": "stream",
          "name": "stdout",
          "text": [
            "Sunny\n",
            "Cloudy\n"
          ]
        }
      ],
      "source": [
        "s=input()\n",
        "\n",
        "if s=='Sunny':\n",
        "  print('Cloudy')\n",
        "elif s=='Cloudy':\n",
        "  print('Rainy')\n",
        "else:\n",
        "  print('Sunny')"
      ]
    },
    {
      "cell_type": "code",
      "source": [],
      "metadata": {
        "id": "cYTI3M-qCOQ-"
      },
      "execution_count": null,
      "outputs": []
    }
  ]
}