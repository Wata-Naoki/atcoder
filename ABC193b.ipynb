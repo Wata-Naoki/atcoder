{
  "nbformat": 4,
  "nbformat_minor": 0,
  "metadata": {
    "colab": {
      "provenance": [],
      "authorship_tag": "ABX9TyOJY6Pwt/Xmwlf3o+7QWRtv",
      "include_colab_link": true
    },
    "kernelspec": {
      "name": "python3",
      "display_name": "Python 3"
    },
    "language_info": {
      "name": "python"
    }
  },
  "cells": [
    {
      "cell_type": "markdown",
      "metadata": {
        "id": "view-in-github",
        "colab_type": "text"
      },
      "source": [
        "<a href=\"https://colab.research.google.com/github/Wata-Naoki/atcoder/blob/main/ABC193b.ipynb\" target=\"_parent\"><img src=\"https://colab.research.google.com/assets/colab-badge.svg\" alt=\"Open In Colab\"/></a>"
      ]
    },
    {
      "cell_type": "code",
      "execution_count": 4,
      "metadata": {
        "colab": {
          "base_uri": "https://localhost:8080/"
        },
        "id": "kp2zNv_3qXao",
        "outputId": "ee16c8ba-5b09-49d9-aa0d-855add864a93"
      },
      "outputs": [
        {
          "output_type": "stream",
          "name": "stdout",
          "text": [
            "3\n",
            "3 9 5\n",
            "4 8 5\n",
            "5 7 5\n",
            "8\n"
          ]
        }
      ],
      "source": [
        "N = int(input())\n",
        "\n",
        "INF = float('INF')  # 正の無限大です\n",
        "ans = INF\n",
        "\n",
        "for _ in range(N):\n",
        "    A, P, X = map(int, input().split())\n",
        "    if A < X:\n",
        "        # A < X なら買えます\n",
        "        ans = min(ans, P)\n",
        "\n",
        "if ans == INF:\n",
        "    # 買えない場合、ansはINFのままです\n",
        "    print(-1)\n",
        "else:\n",
        "    print(ans)"
      ]
    },
    {
      "cell_type": "code",
      "source": [
        "\n",
        "\n",
        "f=0\n",
        "print('ff' if f else 'ffffg')"
      ],
      "metadata": {
        "colab": {
          "base_uri": "https://localhost:8080/"
        },
        "id": "jbpNxiewwqvf",
        "outputId": "73a19a13-acff-40dc-8a69-497841095eab"
      },
      "execution_count": 3,
      "outputs": [
        {
          "output_type": "stream",
          "name": "stdout",
          "text": [
            "ffffg\n"
          ]
        }
      ]
    }
  ]
}