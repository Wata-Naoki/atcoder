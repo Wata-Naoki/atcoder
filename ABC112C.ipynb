{
  "nbformat": 4,
  "nbformat_minor": 0,
  "metadata": {
    "colab": {
      "provenance": [],
      "authorship_tag": "ABX9TyMiaWZ0AKRnxehl9DizZ2Qw",
      "include_colab_link": true
    },
    "kernelspec": {
      "name": "python3",
      "display_name": "Python 3"
    },
    "language_info": {
      "name": "python"
    }
  },
  "cells": [
    {
      "cell_type": "markdown",
      "metadata": {
        "id": "view-in-github",
        "colab_type": "text"
      },
      "source": [
        "<a href=\"https://colab.research.google.com/github/Wata-Naoki/atcoder/blob/main/ABC112C.ipynb\" target=\"_parent\"><img src=\"https://colab.research.google.com/assets/colab-badge.svg\" alt=\"Open In Colab\"/></a>"
      ]
    },
    {
      "cell_type": "code",
      "source": [
        "N = int(input())\n",
        "\n",
        "data = []\n",
        "x1, y1, h1 = -1, -1, -1\n",
        "for i in range(N):\n",
        "    x, y, h = map(int, input().split())\n",
        "    data.append((x, y, h))\n",
        "    if h > 0: x1, y1, h1 = x, y, h\n",
        "\n",
        "for Cx in range(101):\n",
        "    for Cy in range(101):\n",
        "        H = h1 + abs(x1 - Cx) + abs(y1 - Cy)\n",
        "\n",
        "        flag = True\n",
        "        for i in range(N):\n",
        "            x, y, h = data[i]\n",
        "            if h != max(H - abs(x - Cx) - abs(y - Cy), 0):\n",
        "                flag = False\n",
        "                break\n",
        "        \n",
        "        if flag: exit(print(Cx, Cy, H))"
      ],
      "metadata": {
        "id": "TSkfRVGkmBcg"
      },
      "execution_count": null,
      "outputs": []
    },
    {
      "cell_type": "code",
      "execution_count": null,
      "metadata": {
        "id": "RwAC0Z4CgBMc"
      },
      "outputs": [],
      "source": [
        "n=int(input().split())\n",
        "\n",
        "\n",
        "list_x = []\n",
        "list_y = []\n",
        "list_h = []\n",
        "\n",
        "for i in range(n):\n",
        "  x, y, h=map(int, input().split())\n",
        "  list_x.append(x)\n",
        "  list_y.appned(y)\n",
        "  list_h.append(h)\n",
        "\n",
        "ave_x=math.floor(sum(list_x) / len(list_x))\n",
        "ave_y=math.floor(sum(list_x) / len(list_x))\n",
        "ave_h=math.floor(sum(list_x) / len(list_x))\n",
        "\n",
        "\n"
      ]
    }
  ]
}