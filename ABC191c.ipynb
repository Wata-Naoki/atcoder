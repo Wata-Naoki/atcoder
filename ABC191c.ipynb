{
  "nbformat": 4,
  "nbformat_minor": 0,
  "metadata": {
    "colab": {
      "provenance": [],
      "authorship_tag": "ABX9TyNLn63ut4cXv1Dcs6QegBFJ",
      "include_colab_link": true
    },
    "kernelspec": {
      "name": "python3",
      "display_name": "Python 3"
    },
    "language_info": {
      "name": "python"
    }
  },
  "cells": [
    {
      "cell_type": "markdown",
      "metadata": {
        "id": "view-in-github",
        "colab_type": "text"
      },
      "source": [
        "<a href=\"https://colab.research.google.com/github/Wata-Naoki/atcoder/blob/main/ABC191c.ipynb\" target=\"_parent\"><img src=\"https://colab.research.google.com/assets/colab-badge.svg\" alt=\"Open In Colab\"/></a>"
      ]
    },
    {
      "cell_type": "code",
      "execution_count": 1,
      "metadata": {
        "colab": {
          "base_uri": "https://localhost:8080/",
          "height": 133
        },
        "id": "ODVsaUJc0x9a",
        "outputId": "55c20824-d729-4fac-d182-cfecaa8be99b"
      },
      "outputs": [
        {
          "output_type": "error",
          "ename": "SyntaxError",
          "evalue": "ignored",
          "traceback": [
            "\u001b[0;36m  File \u001b[0;32m\"<ipython-input-1-f7492023c69b>\"\u001b[0;36m, line \u001b[0;32m6\u001b[0m\n\u001b[0;31m    for val in vals:\u001b[0m\n\u001b[0m                     ^\u001b[0m\n\u001b[0;31mSyntaxError\u001b[0m\u001b[0;31m:\u001b[0m unexpected EOF while parsing\n"
          ]
        }
      ],
      "source": [
        "h, w=map(int, input().split())\n",
        "all_input = [list(map(int, input().split())) for _ in range(h)]\n",
        "count_list=[]\n",
        "\n",
        "for vals in all_input:\n",
        "  count=vals.count('#')\n",
        "  count_list.append(count)\n",
        "\n",
        "ht_count=0\n",
        "hb_count=0\n",
        "\n",
        "for val in count_list:\n",
        "  if val >=2:\n",
        "    hb_count+=1\n",
        "  else:\n",
        "    val \n",
        "\n"
      ]
    },
    {
      "cell_type": "code",
      "source": [
        "H, W = map(int, input().split())\n",
        "S = [input() for _ in range(H)]\n",
        "ans = 0\n",
        "for h in range(1, H):\n",
        "    for w in range(1, W):\n",
        "        cnt = 0\n",
        "        for i in range(2):\n",
        "            for j in range(2):\n",
        "                if S[h - i][w - j] == '#':\n",
        "                    cnt += 1\n",
        "        if cnt % 2 == 1:\n",
        "            ans += 1\n",
        "print(ans)"
      ],
      "metadata": {
        "colab": {
          "base_uri": "https://localhost:8080/"
        },
        "id": "Zr0cnOEK8L_B",
        "outputId": "47caa247-4b38-41ba-ef9c-d81734343c04"
      },
      "execution_count": 6,
      "outputs": [
        {
          "output_type": "stream",
          "name": "stdout",
          "text": [
            "5 5\n",
            ".....\n",
            ".###.\n",
            ".###.\n",
            ".###.\n",
            ".....\n",
            "4\n"
          ]
        }
      ]
    }
  ]
}