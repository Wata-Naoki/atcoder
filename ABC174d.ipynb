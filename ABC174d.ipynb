{
  "nbformat": 4,
  "nbformat_minor": 0,
  "metadata": {
    "colab": {
      "provenance": [],
      "authorship_tag": "ABX9TyP5jKcW63sSkufrOMTFcrHk",
      "include_colab_link": true
    },
    "kernelspec": {
      "name": "python3",
      "display_name": "Python 3"
    },
    "language_info": {
      "name": "python"
    }
  },
  "cells": [
    {
      "cell_type": "markdown",
      "metadata": {
        "id": "view-in-github",
        "colab_type": "text"
      },
      "source": [
        "<a href=\"https://colab.research.google.com/github/Wata-Naoki/atcoder/blob/main/ABC174d.ipynb\" target=\"_parent\"><img src=\"https://colab.research.google.com/assets/colab-badge.svg\" alt=\"Open In Colab\"/></a>"
      ]
    },
    {
      "cell_type": "code",
      "execution_count": null,
      "metadata": {
        "id": "MWRqLu31Mezr"
      },
      "outputs": [],
      "source": [
        "s=int(input())\n"
      ]
    },
    {
      "cell_type": "code",
      "source": [
        "s = int(input())\n",
        "mod = 10 ** 9 + 7\n",
        "\n",
        "dp = [0] * (s + 1)\n",
        "dp[0] = 1\n",
        "x = 0\n",
        "\n",
        "#　全ての項が3以上なのでrange(3, )\n",
        "for i in range(3, s + 1):\n",
        "    x += dp[i - 3]\n",
        "    dp[i] = x % mod\n",
        "\n",
        "ans = dp[s] % mod\n",
        "print(ans)"
      ],
      "metadata": {
        "id": "39YzZ-L2Nvhv"
      },
      "execution_count": null,
      "outputs": []
    },
    {
      "cell_type": "code",
      "source": [
        "s = int(input())\n",
        "mod = 10 ** 9 + 7\n",
        "\n",
        "dp = [0] * (s + 1)\n",
        "print(dp)\n",
        "dp[0] = 1\n",
        "print(dp)\n",
        "x = 0\n",
        "\n",
        "#　全ての項が3以上なのでrange(3, )\n",
        "for i in range(3, s + 1):\n",
        "    x += dp[i - 3]\n",
        "    dp[i] = x % mod\n",
        "\n",
        "ans = dp[s] % mod\n",
        "print(ans)"
      ],
      "metadata": {
        "colab": {
          "base_uri": "https://localhost:8080/"
        },
        "id": "PdxrzRmBNvkw",
        "outputId": "ba49b57a-a1cd-4605-9ee7-74f134ae1221"
      },
      "execution_count": 4,
      "outputs": [
        {
          "output_type": "stream",
          "name": "stdout",
          "text": [
            "7\n",
            "[0, 0, 0, 0, 0, 0, 0, 0]\n",
            "[1, 0, 0, 0, 0, 0, 0, 0]\n",
            "3\n"
          ]
        }
      ]
    },
    {
      "cell_type": "code",
      "source": [
        "ex_list=[0]*5\n",
        "print(ex_list)"
      ],
      "metadata": {
        "colab": {
          "base_uri": "https://localhost:8080/"
        },
        "id": "G7_NIunUOHn5",
        "outputId": "c0a6a57b-1d0f-4325-89a9-b9ef54fc5187"
      },
      "execution_count": 2,
      "outputs": [
        {
          "output_type": "stream",
          "name": "stdout",
          "text": [
            "[0, 0, 0, 0, 0]\n"
          ]
        }
      ]
    }
  ]
}