{
  "nbformat": 4,
  "nbformat_minor": 0,
  "metadata": {
    "colab": {
      "provenance": [],
      "authorship_tag": "ABX9TyOBxZWhrOlVkpitIif7FzDR",
      "include_colab_link": true
    },
    "kernelspec": {
      "name": "python3",
      "display_name": "Python 3"
    },
    "language_info": {
      "name": "python"
    }
  },
  "cells": [
    {
      "cell_type": "markdown",
      "metadata": {
        "id": "view-in-github",
        "colab_type": "text"
      },
      "source": [
        "<a href=\"https://colab.research.google.com/github/Wata-Naoki/atcoder/blob/main/ABC201a%2B.ipynb\" target=\"_parent\"><img src=\"https://colab.research.google.com/assets/colab-badge.svg\" alt=\"Open In Colab\"/></a>"
      ]
    },
    {
      "cell_type": "code",
      "execution_count": 9,
      "metadata": {
        "colab": {
          "base_uri": "https://localhost:8080/"
        },
        "id": "Rhq5649nD_FD",
        "outputId": "08c669cf-0097-4e56-a22d-cefd83c7a6cd"
      },
      "outputs": [
        {
          "output_type": "stream",
          "name": "stdout",
          "text": [
            "5 5 5\n",
            "Yes\n"
          ]
        }
      ],
      "source": [
        "a=[int(n) for n in input().split()]\n",
        "\n",
        "cal=[]\n",
        "a.sort()\n",
        "cal.append(a[0]-a[1])\n",
        "cal.append(a[1]-a[2])\n",
        "\n",
        "print('Yes' if cal[0] ==cal[1] else 'No')"
      ]
    }
  ]
}