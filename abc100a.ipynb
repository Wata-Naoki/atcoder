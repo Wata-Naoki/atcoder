{
  "nbformat": 4,
  "nbformat_minor": 0,
  "metadata": {
    "colab": {
      "provenance": [],
      "authorship_tag": "ABX9TyNwlIYbf4VoNSDGz6dZ0k0L",
      "include_colab_link": true
    },
    "kernelspec": {
      "name": "python3",
      "display_name": "Python 3"
    },
    "language_info": {
      "name": "python"
    }
  },
  "cells": [
    {
      "cell_type": "markdown",
      "metadata": {
        "id": "view-in-github",
        "colab_type": "text"
      },
      "source": [
        "<a href=\"https://colab.research.google.com/github/Wata-Naoki/atcoder/blob/main/abc100a.ipynb\" target=\"_parent\"><img src=\"https://colab.research.google.com/assets/colab-badge.svg\" alt=\"Open In Colab\"/></a>"
      ]
    },
    {
      "cell_type": "code",
      "execution_count": 11,
      "metadata": {
        "colab": {
          "base_uri": "https://localhost:8080/"
        },
        "id": "1qFDbY2rnYAd",
        "outputId": "48ba9285-765e-4333-a2e0-b53949e50631"
      },
      "outputs": [
        {
          "output_type": "stream",
          "name": "stdout",
          "text": [
            "11 4\n",
            ":(\n"
          ]
        }
      ],
      "source": [
        "\n",
        "# もうすぐ E869120 君と square1001 君の 16 才の誕生日が来る.\n",
        "# そこで, AtCoder 王国の高橋君は, 円形のケーキ 1 個に放射状に切れ目を入れ 16 等分したものを, 彼らにプレゼントした.\n",
        "\n",
        "# E869120 君はそのうち A 切れ、square1001 君は B 切れを食べようとした.\n",
        "# しかし, ケーキと一緒についていた紙を見ると, 「同じ人が隣り合う 2 切れのケーキを両方取ってはならない」と書かれていた.\n",
        "\n",
        "# さて、彼らは紙に書かれたことを守って、2 人とも食べたい数のケーキを取ることができるだろうか？\n",
        "\n",
        "\n",
        "A, B = map(int, input().split())\n",
        "# B = int(input())\n",
        "\n",
        "if A <= 8 and B <= 8:\n",
        "  print('Yay!')\n",
        "else:\n",
        "  print(':(')\n",
        "\n",
        "\n",
        "\n",
        "\n"
      ]
    }
  ]
}