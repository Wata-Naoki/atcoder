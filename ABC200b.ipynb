{
  "nbformat": 4,
  "nbformat_minor": 0,
  "metadata": {
    "colab": {
      "provenance": [],
      "authorship_tag": "ABX9TyM64eeBqzWjnB+ZOsA4x7bX",
      "include_colab_link": true
    },
    "kernelspec": {
      "name": "python3",
      "display_name": "Python 3"
    },
    "language_info": {
      "name": "python"
    }
  },
  "cells": [
    {
      "cell_type": "markdown",
      "metadata": {
        "id": "view-in-github",
        "colab_type": "text"
      },
      "source": [
        "<a href=\"https://colab.research.google.com/github/Wata-Naoki/atcoder/blob/main/ABC200b.ipynb\" target=\"_parent\"><img src=\"https://colab.research.google.com/assets/colab-badge.svg\" alt=\"Open In Colab\"/></a>"
      ]
    },
    {
      "cell_type": "code",
      "execution_count": 1,
      "metadata": {
        "colab": {
          "base_uri": "https://localhost:8080/"
        },
        "id": "bDiqiTueUDqa",
        "outputId": "91172733-18fc-4667-9ba4-a9b033cf37a0"
      },
      "outputs": [
        {
          "output_type": "stream",
          "name": "stdout",
          "text": [
            "2021 4\n",
            "50531\n"
          ]
        }
      ],
      "source": [
        "n, k=map(int, input().split())\n",
        "\n",
        "for _ in range(k):\n",
        "  if n%200 ==0:\n",
        "    n //= 200\n",
        "  else:\n",
        "    s=str(n) + \"200\"\n",
        "    n=int(s)\n",
        "print(n)"
      ]
    }
  ]
}