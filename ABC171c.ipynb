{
  "nbformat": 4,
  "nbformat_minor": 0,
  "metadata": {
    "colab": {
      "provenance": [],
      "authorship_tag": "ABX9TyPOvBkgqPRaOgxdM+iVZt6i",
      "include_colab_link": true
    },
    "kernelspec": {
      "name": "python3",
      "display_name": "Python 3"
    },
    "language_info": {
      "name": "python"
    }
  },
  "cells": [
    {
      "cell_type": "markdown",
      "metadata": {
        "id": "view-in-github",
        "colab_type": "text"
      },
      "source": [
        "<a href=\"https://colab.research.google.com/github/Wata-Naoki/atcoder/blob/main/ABC171c.ipynb\" target=\"_parent\"><img src=\"https://colab.research.google.com/assets/colab-badge.svg\" alt=\"Open In Colab\"/></a>"
      ]
    },
    {
      "cell_type": "code",
      "source": [
        "n = int(input())\n",
        "chars = \"Xabcdefghijklmnopqrstuvwxyz\"  # x番目がほしいときにchars[x-1]としたくないので、chars[0]は使わないことにします\n",
        "\n",
        "n_rem = n  # 入力を直接操作すると、もし後々必要になったときに面倒なので\n",
        "res = \"\"\n",
        "\n",
        "while True:\n",
        "    x = n_rem % 26\n",
        "    print(x, '余り')\n",
        "    # 余りが0、つまりzの場合は、26にします\n",
        "    if x == 0:\n",
        "        x = 26\n",
        "    res += chars[x]\n",
        "    print(res , '文字列')\n",
        "\n",
        "    # xを引いて、26で割ります\n",
        "    n_rem -= x\n",
        "\n",
        "    # 0なら終了します\n",
        "    if n_rem == 0:\n",
        "        break\n",
        "\n",
        "    n_rem //= 26\n",
        "    print(n_rem, '割った値')\n",
        "\n",
        "print(res)\n",
        "# 0桁目が先頭で、最後の桁が末尾になっているので、反転させます\n",
        "print(res[::-1])\n"
      ],
      "metadata": {
        "colab": {
          "base_uri": "https://localhost:8080/"
        },
        "id": "C3J_2jfXDBbc",
        "outputId": "2d5a5b96-8b9f-4587-894b-768048f5bf68"
      },
      "execution_count": 19,
      "outputs": [
        {
          "output_type": "stream",
          "name": "stdout",
          "text": [
            "123456789\n",
            "1 余り\n",
            "a 文字列\n",
            "4748338 割った値\n",
            "10 余り\n",
            "aj 文字列\n",
            "182628 割った値\n",
            "4 余り\n",
            "ajd 文字列\n",
            "7024 割った値\n",
            "4 余り\n",
            "ajdd 文字列\n",
            "270 割った値\n",
            "10 余り\n",
            "ajddj 文字列\n",
            "10 割った値\n",
            "10 余り\n",
            "ajddjj 文字列\n",
            "ajddjj\n",
            "jjddja\n"
          ]
        }
      ]
    },
    {
      "cell_type": "code",
      "execution_count": 4,
      "metadata": {
        "colab": {
          "base_uri": "https://localhost:8080/"
        },
        "id": "cnmUgNoa8hsd",
        "outputId": "aa47b3a1-cc8a-4be4-d31a-ba78c511341a"
      },
      "outputs": [
        {
          "output_type": "stream",
          "name": "stdout",
          "text": [
            "['a', 'b', 'c', 'd', 'e', 'f', 'g', 'h', 'i', 'j', 'k', 'l', 'm', 'n', 'o', 'p', 'q', 'r', 's', 't', 'u', 'v', 'w', 'x', 'y', 'z']\n"
          ]
        }
      ],
      "source": [
        "lower_case = [chr(i) for i in range(ord('a'),ord('z')+1)]\n",
        "print(lower_case)"
      ]
    },
    {
      "cell_type": "code",
      "source": [
        "\n",
        "\n",
        "count=0\n",
        "val=0\n",
        "num=26\n",
        "i=0\n",
        "while n <0:\n",
        "  if n <= 26:\n",
        "    print(lower_case[n+1])\n",
        "    break\n",
        "  else:\n",
        "    count=n//26\n",
        "    val=n%26    \n",
        "\n"
      ],
      "metadata": {
        "id": "q6p6x4_T9qQN"
      },
      "execution_count": null,
      "outputs": []
    },
    {
      "cell_type": "code",
      "source": [
        "n=123456789\n",
        "count=0\n",
        "val=0\n",
        "\n",
        "while n <0:\n",
        "  n=n/26\n",
        "  count+=1\n",
        "  \n",
        "val=count%26   \n",
        "\n",
        "print(count, val)"
      ],
      "metadata": {
        "colab": {
          "base_uri": "https://localhost:8080/"
        },
        "id": "6q_ujEKjAGIf",
        "outputId": "6ffb1257-61d4-4099-a629-20408cf616b6"
      },
      "execution_count": 5,
      "outputs": [
        {
          "output_type": "stream",
          "name": "stdout",
          "text": [
            "4748338 1\n"
          ]
        }
      ]
    },
    {
      "cell_type": "code",
      "source": [
        "n=123456789\n",
        "count=0\n",
        "val=0\n",
        "\n",
        "while n >0:\n",
        "  n=n//26\n",
        "  count+=1\n",
        "\n",
        "val=n%26  \n",
        "print(count, val)"
      ],
      "metadata": {
        "colab": {
          "base_uri": "https://localhost:8080/"
        },
        "id": "i3ERyDpMBDxD",
        "outputId": "ce48838e-bcbf-4f90-e3ec-0e1b01d7100a"
      },
      "execution_count": 11,
      "outputs": [
        {
          "output_type": "stream",
          "name": "stdout",
          "text": [
            "6 0\n"
          ]
        }
      ]
    }
  ]
}