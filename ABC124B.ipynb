{
  "nbformat": 4,
  "nbformat_minor": 0,
  "metadata": {
    "colab": {
      "provenance": [],
      "authorship_tag": "ABX9TyPiVA2BVyOVpTeFsJB909ve",
      "include_colab_link": true
    },
    "kernelspec": {
      "name": "python3",
      "display_name": "Python 3"
    },
    "language_info": {
      "name": "python"
    }
  },
  "cells": [
    {
      "cell_type": "markdown",
      "metadata": {
        "id": "view-in-github",
        "colab_type": "text"
      },
      "source": [
        "<a href=\"https://colab.research.google.com/github/Wata-Naoki/atcoder/blob/main/ABC124B.ipynb\" target=\"_parent\"><img src=\"https://colab.research.google.com/assets/colab-badge.svg\" alt=\"Open In Colab\"/></a>"
      ]
    },
    {
      "cell_type": "code",
      "execution_count": 17,
      "metadata": {
        "colab": {
          "base_uri": "https://localhost:8080/"
        },
        "id": "Hn8-cjfQFg8O",
        "outputId": "52df513d-b20d-4a04-f414-4a3c7e9bfd03"
      },
      "outputs": [
        {
          "output_type": "stream",
          "name": "stdout",
          "text": [
            "5\n",
            "9 5 6 8 4\n",
            "1\n"
          ]
        }
      ],
      "source": [
        "n=int(input())\n",
        "\n",
        "s_list=list(map(int, input().split()))\n",
        "\n",
        "count=0\n",
        "max_num=[0]\n",
        "for i in range(n):\n",
        "  try: \n",
        "    max_num.append(s_list[i])\n",
        "    if s_list[i] < s_list[i+1] and s_list[i+1] >= max(max_num):\n",
        "      count +=1\n",
        "    if len(s_list)-1 == i+1:\n",
        "      break\n",
        "  except:\n",
        "    break\n",
        "  \n",
        "print(count+1)"
      ]
    }
  ]
}