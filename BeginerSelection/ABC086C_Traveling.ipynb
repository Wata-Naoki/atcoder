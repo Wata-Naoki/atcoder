{
  "nbformat": 4,
  "nbformat_minor": 0,
  "metadata": {
    "colab": {
      "provenance": [],
      "authorship_tag": "ABX9TyOpY62f/F1iH1IpyvcxXeB9",
      "include_colab_link": true
    },
    "kernelspec": {
      "name": "python3",
      "display_name": "Python 3"
    },
    "language_info": {
      "name": "python"
    }
  },
  "cells": [
    {
      "cell_type": "markdown",
      "metadata": {
        "id": "view-in-github",
        "colab_type": "text"
      },
      "source": [
        "<a href=\"https://colab.research.google.com/github/Wata-Naoki/atcoder/blob/main/ABC086C_Traveling.ipynb\" target=\"_parent\"><img src=\"https://colab.research.google.com/assets/colab-badge.svg\" alt=\"Open In Colab\"/></a>"
      ]
    },
    {
      "cell_type": "code",
      "execution_count": 2,
      "metadata": {
        "colab": {
          "base_uri": "https://localhost:8080/"
        },
        "id": "1Xe5Q7ImFW4b",
        "outputId": "b9f9dee0-8c1b-4d60-ac3a-5167b996a713"
      },
      "outputs": [
        {
          "output_type": "stream",
          "name": "stdout",
          "text": [
            "1\n",
            "2 100 100\n",
            "No\n"
          ]
        }
      ],
      "source": [
        "N = int(input())\n",
        "t_old = 0\n",
        "x_old = 0\n",
        "y_old = 0\n",
        "\n",
        "flag = True\n",
        "\n",
        "for _ in range(N):\n",
        "  t, x, y = map(int, input().split())\n",
        "\n",
        "  distance = abs(x-x_old) + abs(y-y_old)\n",
        "  time = t-t_old\n",
        "\n",
        "  t_old = t\n",
        "  x_old = x\n",
        "  y_old = y\n",
        "\n",
        "  if time < distance:\n",
        "    flag = False\n",
        "  elif time%2 != distance%2:\n",
        "    flag = False\n",
        "\n",
        "\n",
        "if flag:\n",
        "  print('Yes')\n",
        "\n",
        "else:\n",
        "  print('No')\n",
        "  "
      ]
    }
  ]
}