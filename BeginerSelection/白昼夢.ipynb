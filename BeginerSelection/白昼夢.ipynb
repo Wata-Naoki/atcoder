{
  "nbformat": 4,
  "nbformat_minor": 0,
  "metadata": {
    "colab": {
      "provenance": [],
      "collapsed_sections": [],
      "authorship_tag": "ABX9TyNV86Y9qTY8m46YzI5w+7Pp",
      "include_colab_link": true
    },
    "kernelspec": {
      "name": "python3",
      "display_name": "Python 3"
    },
    "language_info": {
      "name": "python"
    }
  },
  "cells": [
    {
      "cell_type": "markdown",
      "metadata": {
        "id": "view-in-github",
        "colab_type": "text"
      },
      "source": [
        "<a href=\"https://colab.research.google.com/github/Wata-Naoki/atcoder/blob/main/%E7%99%BD%E6%98%BC%E5%A4%A2.ipynb\" target=\"_parent\"><img src=\"https://colab.research.google.com/assets/colab-badge.svg\" alt=\"Open In Colab\"/></a>"
      ]
    },
    {
      "cell_type": "code",
      "execution_count": 8,
      "metadata": {
        "colab": {
          "base_uri": "https://localhost:8080/"
        },
        "id": "h_gYz6n-4Zto",
        "outputId": "6b33754f-9e37-4fb6-baca-6beaf3bf8b4f"
      },
      "outputs": [
        {
          "output_type": "stream",
          "name": "stdout",
          "text": [
            "dream\n",
            "YES\n"
          ]
        }
      ],
      "source": [
        "S = input()\n",
        "\n",
        "word_list = ['eraser', 'erase', 'dreamer', 'dream']\n",
        "for word in word_list:\n",
        "    S = S.replace(word, '')\n",
        "if S:\n",
        "    print('NO')\n",
        "else:\n",
        "    print('YES')"
      ]
    },
    {
      "cell_type": "code",
      "source": [
        "S = input()\n",
        " \n",
        "while len(S)>=5:\n",
        "    if S[-5:]=='dream':\n",
        "        S = S[:-5]\n",
        "    elif S[-7:]=='dreamer':\n",
        "        S = S[:-7]\n",
        "    elif S[-5:]=='erase':\n",
        "        S = S[:-5]\n",
        "    elif S[-6:]=='eraser':\n",
        "        S = S[:-6]\n",
        "    else:\n",
        "        break\n",
        " \n",
        "if len(S)==0:\n",
        "    print('YES')\n",
        "else:\n",
        "    print('NO')"
      ],
      "metadata": {
        "id": "v1asZhZS-GS7"
      },
      "execution_count": null,
      "outputs": []
    }
  ]
}