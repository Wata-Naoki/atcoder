{
  "nbformat": 4,
  "nbformat_minor": 0,
  "metadata": {
    "colab": {
      "provenance": [],
      "authorship_tag": "ABX9TyNmd5SpR3OgHD0iDKUQiocU",
      "include_colab_link": true
    },
    "kernelspec": {
      "name": "python3",
      "display_name": "Python 3"
    },
    "language_info": {
      "name": "python"
    }
  },
  "cells": [
    {
      "cell_type": "markdown",
      "metadata": {
        "id": "view-in-github",
        "colab_type": "text"
      },
      "source": [
        "<a href=\"https://colab.research.google.com/github/Wata-Naoki/atcoder/blob/main/otoshidama.ipynb\" target=\"_parent\"><img src=\"https://colab.research.google.com/assets/colab-badge.svg\" alt=\"Open In Colab\"/></a>"
      ]
    },
    {
      "cell_type": "code",
      "source": [
        "\n",
        "# 日本でよく使われる紙幣は、10000 円札、5000 円札、1000 円札です。以下、「お札」とはこれらのみを指します。\n",
        "# 青橋くんが言うには、彼が祖父から受け取ったお年玉袋にはお札が N 枚入っていて、合計で Y 円だったそうですが、嘘かもしれません。このような状況がありうるか判定し、ありうる場合はお年玉袋の中身の候補を一つ見つけてください。なお、彼の祖父は十分裕福であり、お年玉袋は十分大きかったものとします。\n",
        "\n",
        "N,Y = map(int, input().split())\n",
        " \n",
        "sum = 0\n",
        "for i in range (0,N+1):\n",
        "    for j in range (0,N-i+1):\n",
        "        if 10000*i+5000*j+1000*(N-j-i) == Y:\n",
        "            print(i,j,(N-j-i))\n",
        "            sum +=1\n",
        "            break\n",
        "    if sum >0 :\n",
        "            break\n",
        " \n",
        "if sum == 0:\n",
        "    print(-1,-1,-1)    "
      ],
      "metadata": {
        "colab": {
          "base_uri": "https://localhost:8080/"
        },
        "id": "1064DjmhQoMP",
        "outputId": "5bd5c288-4c85-4a40-c58a-602e64631dc9"
      },
      "execution_count": 17,
      "outputs": [
        {
          "output_type": "stream",
          "name": "stdout",
          "text": [
            "9 45000\n",
            "0 9 0\n"
          ]
        }
      ]
    }
  ]
}