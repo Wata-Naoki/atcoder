{
  "nbformat": 4,
  "nbformat_minor": 0,
  "metadata": {
    "colab": {
      "provenance": [],
      "authorship_tag": "ABX9TyP33/KMMdTYP3+4qJZhKsVY",
      "include_colab_link": true
    },
    "kernelspec": {
      "name": "python3",
      "display_name": "Python 3"
    },
    "language_info": {
      "name": "python"
    }
  },
  "cells": [
    {
      "cell_type": "markdown",
      "metadata": {
        "id": "view-in-github",
        "colab_type": "text"
      },
      "source": [
        "<a href=\"https://colab.research.google.com/github/Wata-Naoki/atcoder/blob/main/ABC181b.ipynb\" target=\"_parent\"><img src=\"https://colab.research.google.com/assets/colab-badge.svg\" alt=\"Open In Colab\"/></a>"
      ]
    },
    {
      "cell_type": "code",
      "source": [
        "\n",
        "n=int(input())\n",
        "ans_v=0\n",
        "for i in range(n):\n",
        "  a,b=map(int, input().split())\n",
        "  ans_v += ((b*(b+1)//2) - (((a-1)*a)//2))\n",
        "\n",
        "print(ans_v)"
      ],
      "metadata": {
        "colab": {
          "base_uri": "https://localhost:8080/"
        },
        "id": "UAHiHSG7WpN4",
        "outputId": "bf6c1be2-c008-411b-a379-640f3bfdc63f"
      },
      "execution_count": 15,
      "outputs": [
        {
          "output_type": "stream",
          "name": "stdout",
          "text": [
            "2\n",
            "1 3\n",
            "3 5\n",
            "18\n"
          ]
        }
      ]
    },
    {
      "cell_type": "code",
      "execution_count": 13,
      "metadata": {
        "colab": {
          "base_uri": "https://localhost:8080/"
        },
        "id": "zjPjvcNnMxrr",
        "outputId": "861310f2-cf3b-44d3-b5c9-7471c92216f6"
      },
      "outputs": [
        {
          "output_type": "stream",
          "name": "stdout",
          "text": [
            "2\n",
            "1 3\n",
            "3 5\n",
            "18\n"
          ]
        }
      ],
      "source": [
        "\n",
        "def solve(n):\n",
        "  ans_v=0\n",
        "  for i in range(n):\n",
        "    a,b=map(int, input().split())\n",
        "    ans_v += sum(range(a, b+1))\n",
        "  return ans_v\n",
        "\n",
        "n=int(input())\n",
        "ans=solve(n)\n",
        "print(ans)\n"
      ]
    },
    {
      "cell_type": "code",
      "source": [
        "ex_list=[1]*5\n",
        "print(ex_list)\n",
        "\n",
        "# [0, 0, 0, 0, 0]"
      ],
      "metadata": {
        "id": "9yxKRVrORtDr"
      },
      "execution_count": null,
      "outputs": []
    },
    {
      "cell_type": "code",
      "source": [
        "n=int(input())\n",
        "ans=0\n",
        "\n",
        "for i in range(n):\n",
        "  a,b=map(int, input().split())\n",
        "  for v in range(a, b+1):\n",
        "    ans+=v\n",
        "print(ans)\n"
      ],
      "metadata": {
        "id": "pQriVXMDR2lM"
      },
      "execution_count": null,
      "outputs": []
    },
    {
      "cell_type": "code",
      "source": [
        "a=1\n",
        "b=3\n",
        "print((b-a)+1)"
      ],
      "metadata": {
        "colab": {
          "base_uri": "https://localhost:8080/"
        },
        "id": "tHWsDdvgQNl9",
        "outputId": "4f50e3a5-2438-439e-9939-f494c20adf32"
      },
      "execution_count": 8,
      "outputs": [
        {
          "output_type": "stream",
          "name": "stdout",
          "text": [
            "3\n"
          ]
        }
      ]
    }
  ]
}