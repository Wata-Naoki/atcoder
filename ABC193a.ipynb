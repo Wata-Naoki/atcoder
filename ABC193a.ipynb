{
  "nbformat": 4,
  "nbformat_minor": 0,
  "metadata": {
    "colab": {
      "provenance": [],
      "authorship_tag": "ABX9TyMKKJ4ek8erMBg5VmhbOFUj",
      "include_colab_link": true
    },
    "kernelspec": {
      "name": "python3",
      "display_name": "Python 3"
    },
    "language_info": {
      "name": "python"
    }
  },
  "cells": [
    {
      "cell_type": "markdown",
      "metadata": {
        "id": "view-in-github",
        "colab_type": "text"
      },
      "source": [
        "<a href=\"https://colab.research.google.com/github/Wata-Naoki/atcoder/blob/main/ABC193a.ipynb\" target=\"_parent\"><img src=\"https://colab.research.google.com/assets/colab-badge.svg\" alt=\"Open In Colab\"/></a>"
      ]
    },
    {
      "cell_type": "code",
      "execution_count": 5,
      "metadata": {
        "colab": {
          "base_uri": "https://localhost:8080/"
        },
        "id": "B3L3_jvd0KBz",
        "outputId": "e42a870e-3a1a-4a7e-ce6e-e5cbdd3bc133"
      },
      "outputs": [
        {
          "output_type": "stream",
          "name": "stdout",
          "text": [
            "99999 99998\n",
            "0.0010000100000979728\n"
          ]
        }
      ],
      "source": [
        "a, b=map(int, input().split())\n",
        "print(100 - ( (b / a)*100))"
      ]
    },
    {
      "cell_type": "code",
      "source": [
        "print(100 - ( (6 / 7)*100))"
      ],
      "metadata": {
        "colab": {
          "base_uri": "https://localhost:8080/"
        },
        "id": "HPGCZnRA0x2o",
        "outputId": "58c67172-1f19-4d0e-c1b2-e0ef6fade637"
      },
      "execution_count": 4,
      "outputs": [
        {
          "output_type": "stream",
          "name": "stdout",
          "text": [
            "14.285714285714292\n"
          ]
        }
      ]
    }
  ]
}