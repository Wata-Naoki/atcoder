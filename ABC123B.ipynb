{
  "nbformat": 4,
  "nbformat_minor": 0,
  "metadata": {
    "colab": {
      "provenance": [],
      "authorship_tag": "ABX9TyP4fXWsAYDXEiOARGJaEYHY",
      "include_colab_link": true
    },
    "kernelspec": {
      "name": "python3",
      "display_name": "Python 3"
    },
    "language_info": {
      "name": "python"
    }
  },
  "cells": [
    {
      "cell_type": "markdown",
      "metadata": {
        "id": "view-in-github",
        "colab_type": "text"
      },
      "source": [
        "<a href=\"https://colab.research.google.com/github/Wata-Naoki/atcoder/blob/main/ABC123B.ipynb\" target=\"_parent\"><img src=\"https://colab.research.google.com/assets/colab-badge.svg\" alt=\"Open In Colab\"/></a>"
      ]
    },
    {
      "cell_type": "code",
      "execution_count": null,
      "metadata": {
        "id": "Y0f72kIsRDNu"
      },
      "outputs": [],
      "source": []
    },
    {
      "cell_type": "code",
      "source": [
        "a=[int(input()) for i in range(5)]\n",
        "\n",
        "b=[]"
      ],
      "metadata": {
        "id": "SX7kh72WWb-_"
      },
      "execution_count": null,
      "outputs": []
    },
    {
      "cell_type": "code",
      "source": [
        "X = []\n",
        "Y = []\n",
        "ans = 0\n",
        "for _ in range(5):\n",
        "  x = int(input())\n",
        "  if x%10!=0:\n",
        "    Y.append(x%10)\n",
        "  ans += x\n",
        "if len(Y)!=0:\n",
        "  Y.sort()\n",
        "  m = Y.pop(0)\n",
        "  for i in range(len(Y)):\n",
        "    ans += 10-Y[i]\n",
        "print(ans)"
      ],
      "metadata": {
        "id": "CeKku4t3YAGX"
      },
      "execution_count": null,
      "outputs": []
    }
  ]
}