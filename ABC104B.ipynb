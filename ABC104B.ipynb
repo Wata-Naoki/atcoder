{
  "nbformat": 4,
  "nbformat_minor": 0,
  "metadata": {
    "colab": {
      "provenance": [],
      "authorship_tag": "ABX9TyOG+fMm6BGZry0Zij7h3zor",
      "include_colab_link": true
    },
    "kernelspec": {
      "name": "python3",
      "display_name": "Python 3"
    },
    "language_info": {
      "name": "python"
    }
  },
  "cells": [
    {
      "cell_type": "markdown",
      "metadata": {
        "id": "view-in-github",
        "colab_type": "text"
      },
      "source": [
        "<a href=\"https://colab.research.google.com/github/Wata-Naoki/atcoder/blob/main/ABC104B.ipynb\" target=\"_parent\"><img src=\"https://colab.research.google.com/assets/colab-badge.svg\" alt=\"Open In Colab\"/></a>"
      ]
    },
    {
      "cell_type": "code",
      "execution_count": 12,
      "metadata": {
        "colab": {
          "base_uri": "https://localhost:8080/"
        },
        "id": "drSDQqtYG0kT",
        "outputId": "ddf08ffc-c56b-43b7-9b6f-04859265b9a7"
      },
      "outputs": [
        {
          "output_type": "stream",
          "name": "stdout",
          "text": [
            "Atcoder\n",
            "WA\n"
          ]
        }
      ],
      "source": [
        "s = input()\n",
        "\n",
        "s_list = list(s)\n",
        "s_list_count = s_list[2:-1].count('C')\n",
        "s_list_upper_count = sum(map(str.isupper, s))\n",
        "\n",
        "if s[:1] == 'A' and s_list_count == 1 and s_list_upper_count==2:\n",
        "  print('AC')\n",
        "else:\n",
        "  print('WA')\n"
      ]
    },
    {
      "cell_type": "code",
      "source": [
        "s = input()\n",
        "\n",
        "if s[0] != 'A' or s[2:-1].count('C') != 1 or sum(map(str.isupper, s)) != 2:\n",
        "  ans = False\n",
        "else:\n",
        "  ans = True\n",
        "\n",
        "print('AC' if ans else 'WA')\n"
      ],
      "metadata": {
        "colab": {
          "base_uri": "https://localhost:8080/"
        },
        "id": "VvoXaXfnUYsk",
        "outputId": "a1afbf0a-e055-4613-9a30-1058d13af158"
      },
      "execution_count": 14,
      "outputs": [
        {
          "output_type": "stream",
          "name": "stdout",
          "text": [
            "AtCoder\n",
            "AC\n"
          ]
        }
      ]
    },
    {
      "cell_type": "code",
      "source": [],
      "metadata": {
        "id": "WnYtYU9RWyEs"
      },
      "execution_count": null,
      "outputs": []
    }
  ]
}