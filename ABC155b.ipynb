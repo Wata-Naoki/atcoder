{
  "nbformat": 4,
  "nbformat_minor": 0,
  "metadata": {
    "colab": {
      "provenance": [],
      "authorship_tag": "ABX9TyP8UCgqNWkix6Yfd0f0Ij9H",
      "include_colab_link": true
    },
    "kernelspec": {
      "name": "python3",
      "display_name": "Python 3"
    },
    "language_info": {
      "name": "python"
    }
  },
  "cells": [
    {
      "cell_type": "markdown",
      "metadata": {
        "id": "view-in-github",
        "colab_type": "text"
      },
      "source": [
        "<a href=\"https://colab.research.google.com/github/Wata-Naoki/atcoder/blob/main/ABC155b.ipynb\" target=\"_parent\"><img src=\"https://colab.research.google.com/assets/colab-badge.svg\" alt=\"Open In Colab\"/></a>"
      ]
    },
    {
      "cell_type": "code",
      "execution_count": 4,
      "metadata": {
        "colab": {
          "base_uri": "https://localhost:8080/"
        },
        "id": "AseVKbHdNsPF",
        "outputId": "12d43530-b8f7-48ed-d777-e4ce1780d66d"
      },
      "outputs": [
        {
          "output_type": "stream",
          "name": "stdout",
          "text": [
            "3\n",
            "28 27 24\n",
            "[28, 24]\n",
            "DENIED\n"
          ]
        }
      ],
      "source": [
        "n=int(input())\n",
        "n_list=[int(v) for v in input().split() if int(v)%2==0]\n",
        "flag=True\n",
        "for v in n_list:\n",
        "  if v%3==0 or v%5==0:\n",
        "    continue\n",
        "  else:\n",
        "    flag=False\n",
        "    break\n",
        "print('APPROVED' if flag else 'DENIED')\n"
      ]
    }
  ]
}