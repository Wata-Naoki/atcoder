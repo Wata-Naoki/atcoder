{
  "nbformat": 4,
  "nbformat_minor": 0,
  "metadata": {
    "colab": {
      "provenance": [],
      "authorship_tag": "ABX9TyMt+/YMz0zp09mKjJwJaitb",
      "include_colab_link": true
    },
    "kernelspec": {
      "name": "python3",
      "display_name": "Python 3"
    },
    "language_info": {
      "name": "python"
    }
  },
  "cells": [
    {
      "cell_type": "markdown",
      "metadata": {
        "id": "view-in-github",
        "colab_type": "text"
      },
      "source": [
        "<a href=\"https://colab.research.google.com/github/Wata-Naoki/atcoder/blob/main/ABC157c.ipynb\" target=\"_parent\"><img src=\"https://colab.research.google.com/assets/colab-badge.svg\" alt=\"Open In Colab\"/></a>"
      ]
    },
    {
      "cell_type": "code",
      "execution_count": 2,
      "metadata": {
        "colab": {
          "base_uri": "https://localhost:8080/"
        },
        "id": "ns46S1J03KQB",
        "outputId": "8861e54e-4aa9-4610-e140-4eac31bc5611"
      },
      "outputs": [
        {
          "output_type": "stream",
          "name": "stdout",
          "text": [
            "3 3\n",
            "1 7\n",
            "3 2\n",
            "1 7\n",
            "702\n"
          ]
        }
      ],
      "source": [
        "n,m=map(int, input().split())\n",
        "\n",
        "sc_list=[list(map(int, input().split())) for _ in range(m)]\n",
        "ans=-1\n",
        "for i in range(10 ** n):\n",
        "  str_i=str(i)\n",
        "  if len(str_i) != n:\n",
        "    continue\n",
        "  if all(str_i[s-1] == str(c) for s, c in sc_list):\n",
        "    ans=i\n",
        "    break\n",
        "print(ans)\n",
        "\n"
      ]
    }
  ]
}