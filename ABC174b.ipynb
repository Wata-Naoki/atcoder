{
  "nbformat": 4,
  "nbformat_minor": 0,
  "metadata": {
    "colab": {
      "provenance": [],
      "authorship_tag": "ABX9TyNwES00lOjRSqQ+rCTjMu8W",
      "include_colab_link": true
    },
    "kernelspec": {
      "name": "python3",
      "display_name": "Python 3"
    },
    "language_info": {
      "name": "python"
    }
  },
  "cells": [
    {
      "cell_type": "markdown",
      "metadata": {
        "id": "view-in-github",
        "colab_type": "text"
      },
      "source": [
        "<a href=\"https://colab.research.google.com/github/Wata-Naoki/atcoder/blob/main/ABC174b.ipynb\" target=\"_parent\"><img src=\"https://colab.research.google.com/assets/colab-badge.svg\" alt=\"Open In Colab\"/></a>"
      ]
    },
    {
      "cell_type": "markdown",
      "source": [
        "https://atcoder.jp/contests/abc174/tasks/abc174_b"
      ],
      "metadata": {
        "id": "v7tFXBWpXB-W"
      }
    },
    {
      "cell_type": "code",
      "execution_count": 11,
      "metadata": {
        "colab": {
          "base_uri": "https://localhost:8080/"
        },
        "id": "4WyaTDzARND7",
        "outputId": "882fb2e5-9b9b-4764-facd-87f9c7db6ddf"
      },
      "outputs": [
        {
          "output_type": "stream",
          "name": "stdout",
          "text": [
            "2 3\n",
            "2 4\n",
            "2 5\n",
            "0\n"
          ]
        }
      ],
      "source": [
        "import math\n",
        "repeat_num, distance=map(int, input().split())\n",
        "count=0\n",
        "for i in range(repeat_num):\n",
        "  x, y=map(int, input().split())\n",
        "  if (math.sqrt(x**2+y**2))<=distance:\n",
        "    count+=1\n",
        "\n",
        "print(count)\n",
        "\n",
        "  "
      ]
    },
    {
      "cell_type": "markdown",
      "source": [],
      "metadata": {
        "id": "S0JZUVtzXBAi"
      }
    },
    {
      "cell_type": "code",
      "source": [
        "import math\n",
        "import numpy\n",
        "\n",
        "print(math.sqrt(4))\n",
        "print(math.sqrt(5))\n",
        "print(int(math.sqrt(4)))\n",
        "print(int(math.sqrt(5)))\n"
      ],
      "metadata": {
        "colab": {
          "base_uri": "https://localhost:8080/"
        },
        "id": "DDLAPax1ShgB",
        "outputId": "c611b393-c7ea-4b00-bdb5-9e4a8cb2e7ce"
      },
      "execution_count": 5,
      "outputs": [
        {
          "output_type": "stream",
          "name": "stdout",
          "text": [
            "2.0\n",
            "2.23606797749979\n",
            "2\n",
            "2\n"
          ]
        }
      ]
    }
  ]
}