{
  "nbformat": 4,
  "nbformat_minor": 0,
  "metadata": {
    "colab": {
      "provenance": [],
      "authorship_tag": "ABX9TyP+kXaIW8rIcZRJMn6kXJUD",
      "include_colab_link": true
    },
    "kernelspec": {
      "name": "python3",
      "display_name": "Python 3"
    },
    "language_info": {
      "name": "python"
    }
  },
  "cells": [
    {
      "cell_type": "markdown",
      "metadata": {
        "id": "view-in-github",
        "colab_type": "text"
      },
      "source": [
        "<a href=\"https://colab.research.google.com/github/Wata-Naoki/atcoder/blob/main/ABC131A.ipynb\" target=\"_parent\"><img src=\"https://colab.research.google.com/assets/colab-badge.svg\" alt=\"Open In Colab\"/></a>"
      ]
    },
    {
      "cell_type": "code",
      "execution_count": 4,
      "metadata": {
        "colab": {
          "base_uri": "https://localhost:8080/"
        },
        "id": "i58ubas9Oe1S",
        "outputId": "e6293d9e-aa49-4ce6-e087-d2b765890396"
      },
      "outputs": [
        {
          "output_type": "stream",
          "name": "stdout",
          "text": [
            "8080\n",
            "Good\n"
          ]
        }
      ],
      "source": [
        "s=list(input())\n",
        "\n",
        "count=0\n",
        "\n",
        "if s != '':\n",
        "  for i in range(1, len(s)):\n",
        "    if s[i] == s[i-1]:\n",
        "      count=+1\n",
        "\n",
        "print(\"Bad\" if count != 0 else 'Good')\n",
        "\n",
        "\n",
        "#連続する文字列を数える"
      ]
    }
  ]
}