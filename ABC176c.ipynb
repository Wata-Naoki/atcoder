{
  "nbformat": 4,
  "nbformat_minor": 0,
  "metadata": {
    "colab": {
      "provenance": [],
      "authorship_tag": "ABX9TyMsyfFKVOy5HmODaMLDTQdY",
      "include_colab_link": true
    },
    "kernelspec": {
      "name": "python3",
      "display_name": "Python 3"
    },
    "language_info": {
      "name": "python"
    }
  },
  "cells": [
    {
      "cell_type": "markdown",
      "metadata": {
        "id": "view-in-github",
        "colab_type": "text"
      },
      "source": [
        "<a href=\"https://colab.research.google.com/github/Wata-Naoki/atcoder/blob/main/ABC176c.ipynb\" target=\"_parent\"><img src=\"https://colab.research.google.com/assets/colab-badge.svg\" alt=\"Open In Colab\"/></a>"
      ]
    },
    {
      "cell_type": "code",
      "source": [
        "n = int(input())\n",
        "A = [int(x) for x in input().split()]\n",
        "maxv = 0\n",
        "ans = 0\n",
        "for a in A:\n",
        "    if maxv > a:\n",
        "        ans += maxv - a\n",
        "    else:\n",
        "        maxv = a  \n",
        "print(ans)"
      ],
      "metadata": {
        "colab": {
          "base_uri": "https://localhost:8080/"
        },
        "id": "m3kArNu-YZfh",
        "outputId": "f99bab8a-a0d0-4fdf-cf5f-652483c39251"
      },
      "execution_count": 1,
      "outputs": [
        {
          "output_type": "stream",
          "name": "stdout",
          "text": [
            "5\n",
            "2 1 5 4 3\n",
            "4\n"
          ]
        }
      ]
    },
    {
      "cell_type": "code",
      "execution_count": null,
      "metadata": {
        "id": "4YwWd6ZyjsGF"
      },
      "outputs": [],
      "source": [
        "n=map(int, input().split())\n",
        "a_list=[int(num) for num in input().split()]\n",
        "i=1\n",
        "max_temp=0\n",
        "cal_val=0\n",
        "for ind,val in enumerate(a_list):\n",
        "  if ind > 0:\n",
        "    if max_temp == 0:\n",
        "      if val <= a_list[ind-1]:\n",
        "        max_temp=max(a_list[:val])\n",
        "    else:\n",
        "      \n",
        "      if val <= max_temp:\n",
        "        cal_val=max_temp-val\n",
        "\n",
        "\n",
        "\n",
        "\n",
        "\n"
      ]
    },
    {
      "cell_type": "code",
      "source": [
        "# a_list=[1,2,3,4]\n",
        "# for val, ind in enumerate(a_list):\n",
        "#   print(val, ind)"
      ],
      "metadata": {
        "colab": {
          "base_uri": "https://localhost:8080/"
        },
        "id": "NS2sW9kkmLgr",
        "outputId": "868d9b0d-e8be-42a7-fef4-ac08c58eac57"
      },
      "execution_count": 1,
      "outputs": [
        {
          "output_type": "stream",
          "name": "stdout",
          "text": [
            "0 1\n",
            "1 2\n",
            "2 3\n",
            "3 4\n"
          ]
        }
      ]
    }
  ]
}