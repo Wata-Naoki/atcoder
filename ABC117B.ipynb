{
  "nbformat": 4,
  "nbformat_minor": 0,
  "metadata": {
    "colab": {
      "provenance": [],
      "authorship_tag": "ABX9TyOZQG67I6OsnCxgvWqlFUfY",
      "include_colab_link": true
    },
    "kernelspec": {
      "name": "python3",
      "display_name": "Python 3"
    },
    "language_info": {
      "name": "python"
    }
  },
  "cells": [
    {
      "cell_type": "markdown",
      "metadata": {
        "id": "view-in-github",
        "colab_type": "text"
      },
      "source": [
        "<a href=\"https://colab.research.google.com/github/Wata-Naoki/atcoder/blob/main/ABC117B.ipynb\" target=\"_parent\"><img src=\"https://colab.research.google.com/assets/colab-badge.svg\" alt=\"Open In Colab\"/></a>"
      ]
    },
    {
      "cell_type": "markdown",
      "source": [
        "問題文\n",
        "2 次元平面上に辺の長さがそれぞれ L \n",
        "1\n",
        "​\n",
        " ,L \n",
        "2\n",
        "​\n",
        " ,...,L \n",
        "N\n",
        "​\n",
        "  の N 角形(凸多角形でなくてもよい)が描けるかを判定してください。\n",
        "\n",
        "ここで、次の定理を利用しても構いません。\n",
        "\n",
        "定理 : 一番長い辺が他の N−1 辺の長さの合計よりも真に短い場合に限り、条件を満たす N 角形が描ける。\n",
        "\n",
        "入力\n",
        "入力は以下の形式で標準入力から与えられる。\n",
        "\n",
        "N\n",
        "L \n",
        "1\n",
        "​\n",
        "  L \n",
        "2\n",
        "​\n",
        "  ... L \n",
        "N\n",
        "​\n",
        " \n",
        "出力\n",
        "条件を満たす N 角形が描けるなら Yes、そうでないなら No を出力せよ。\n"
      ],
      "metadata": {
        "id": "Ar8XdLVw_wiY"
      }
    },
    {
      "cell_type": "code",
      "execution_count": 5,
      "metadata": {
        "colab": {
          "base_uri": "https://localhost:8080/"
        },
        "id": "jvmwE9A_9F0d",
        "outputId": "ef1c1707-962c-41dd-acd7-7a74d4f3fe8e"
      },
      "outputs": [
        {
          "output_type": "stream",
          "name": "stdout",
          "text": [
            "4\n",
            "3 8 4 1\n",
            "No\n"
          ]
        }
      ],
      "source": [
        "n=int(input())\n",
        "n_list=list(map(int, input().split()))\n",
        "\n",
        "n_list.sort(reverse=True)\n",
        "\n",
        "print(\"Yes\" if n_list[0] < sum(n_list[1:]) else \"No\")"
      ]
    }
  ]
}