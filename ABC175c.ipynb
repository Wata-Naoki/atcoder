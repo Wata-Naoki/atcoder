{
  "nbformat": 4,
  "nbformat_minor": 0,
  "metadata": {
    "colab": {
      "provenance": [],
      "authorship_tag": "ABX9TyOa13a9DT5dBFt/YcY4WWwe",
      "include_colab_link": true
    },
    "kernelspec": {
      "name": "python3",
      "display_name": "Python 3"
    },
    "language_info": {
      "name": "python"
    }
  },
  "cells": [
    {
      "cell_type": "markdown",
      "metadata": {
        "id": "view-in-github",
        "colab_type": "text"
      },
      "source": [
        "<a href=\"https://colab.research.google.com/github/Wata-Naoki/atcoder/blob/main/ABC175c.ipynb\" target=\"_parent\"><img src=\"https://colab.research.google.com/assets/colab-badge.svg\" alt=\"Open In Colab\"/></a>"
      ]
    },
    {
      "cell_type": "code",
      "execution_count": 1,
      "metadata": {
        "colab": {
          "base_uri": "https://localhost:8080/"
        },
        "id": "mCVNUPx45bFZ",
        "outputId": "9d2fb7ee-6cb2-45db-9d09-910951268db2"
      },
      "outputs": [
        {
          "output_type": "stream",
          "name": "stdout",
          "text": [
            "6 2 4\n",
            "2\n"
          ]
        }
      ],
      "source": [
        "x, k, d = map(int, input().split())\n",
        "# xを正の数として考えても問題ない\n",
        "x = abs(x)\n",
        "# xから0へ向かって、マイナス方向に超えない範囲で最小の値になるために必要な移動数\n",
        "count = x // d\n",
        "# kがcountより小さかったら、0へ向かって動けるだけ動く\n",
        "if count >= k:\n",
        "    ans = x - (k*d)\n",
        "else:\n",
        "    # 動ける回数が余って、かつ余りが偶数なら同じ位置に戻るように動き続ければいい。\n",
        "    if (k - count) % 2 == 0:\n",
        "        ans = x - (count*d)\n",
        "    # 動ける回数が余って、かつ余りが奇数なら+dより-dへ進む\n",
        "    # a = abs(x - (count*d))とすると |a - d| ≦ |a + d| だから\n",
        "    else:\n",
        "        ans = x - (count+1) * d\n",
        "print(abs(ans))"
      ]
    }
  ]
}