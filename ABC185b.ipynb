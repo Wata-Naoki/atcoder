{
  "nbformat": 4,
  "nbformat_minor": 0,
  "metadata": {
    "colab": {
      "provenance": [],
      "authorship_tag": "ABX9TyOi1CW+Y3Fz787+vBLbUd68",
      "include_colab_link": true
    },
    "kernelspec": {
      "name": "python3",
      "display_name": "Python 3"
    },
    "language_info": {
      "name": "python"
    }
  },
  "cells": [
    {
      "cell_type": "markdown",
      "metadata": {
        "id": "view-in-github",
        "colab_type": "text"
      },
      "source": [
        "<a href=\"https://colab.research.google.com/github/Wata-Naoki/atcoder/blob/main/ABC185b.ipynb\" target=\"_parent\"><img src=\"https://colab.research.google.com/assets/colab-badge.svg\" alt=\"Open In Colab\"/></a>"
      ]
    },
    {
      "cell_type": "code",
      "execution_count": 14,
      "metadata": {
        "colab": {
          "base_uri": "https://localhost:8080/"
        },
        "id": "jfB0XDnn2nMY",
        "outputId": "0808c909-8e68-484a-df8e-0d34f6d7ac4e"
      },
      "outputs": [
        {
          "output_type": "stream",
          "name": "stdout",
          "text": [
            "10 2 20\n",
            "9 11\n",
            "13 17\n",
            "Yes\n"
          ]
        }
      ],
      "source": [
        "n, m, t=map(int, input().split())\n",
        "temp_n=n\n",
        "flag=True\n",
        "fl=[]\n",
        "for i in range(m):\n",
        "  a, b=map(int,input().split())\n",
        "  if i == 0:\n",
        "    temp_n=temp_n - a\n",
        "  else:\n",
        "    temp_n=temp_n - (a-fl[i-1][1])\n",
        "    # print(fl[i-1][1])\n",
        "  if temp_n <=0:\n",
        "    # print('1でfalseになった')\n",
        "    flag=False\n",
        "    break\n",
        "  temp_n=temp_n + (b-a)\n",
        "  if temp_n >n:\n",
        "    temp_n = n\n",
        "  if temp_n <=0:\n",
        "    # print('2でfalseになった')\n",
        "    flag=False\n",
        "    break\n",
        "  if i==(m-1) and (temp_n - (t-b)) <=0:\n",
        "    # print('3でfalseになった')\n",
        "    flag=False\n",
        "  fl += [[a, b]]\n",
        "  # print(fl)\n",
        "\n",
        "print('Yes' if flag else 'No')\n"
      ]
    },
    {
      "cell_type": "code",
      "source": [],
      "metadata": {
        "id": "wp0BA6oGHiFZ"
      },
      "execution_count": null,
      "outputs": []
    },
    {
      "cell_type": "code",
      "source": [
        "m=4\n",
        "for i in range(m):\n",
        "  a, b=map(int,input().split())\n",
        "  print(a,b)\n",
        "\n",
        "print(a,b, 'ffffffffff')"
      ],
      "metadata": {
        "colab": {
          "base_uri": "https://localhost:8080/"
        },
        "id": "4Pd_flCx_GvL",
        "outputId": "3086180e-2987-4ffa-81e7-d33ee9ab0f76"
      },
      "execution_count": 1,
      "outputs": [
        {
          "output_type": "stream",
          "name": "stdout",
          "text": [
            "2 4\n",
            "2 4\n",
            "2 4\n",
            "2 4\n",
            "2 4\n",
            "2 4\n",
            "4 6\n",
            "4 6\n",
            "4 b'ffffffffff'\n"
          ]
        }
      ]
    }
  ]
}