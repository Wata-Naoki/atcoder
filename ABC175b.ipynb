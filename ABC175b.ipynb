{
  "nbformat": 4,
  "nbformat_minor": 0,
  "metadata": {
    "colab": {
      "provenance": [],
      "authorship_tag": "ABX9TyPkmZK4I4iSe+MWX8zuOaia",
      "include_colab_link": true
    },
    "kernelspec": {
      "name": "python3",
      "display_name": "Python 3"
    },
    "language_info": {
      "name": "python"
    }
  },
  "cells": [
    {
      "cell_type": "markdown",
      "metadata": {
        "id": "view-in-github",
        "colab_type": "text"
      },
      "source": [
        "<a href=\"https://colab.research.google.com/github/Wata-Naoki/atcoder/blob/main/ABC175b.ipynb\" target=\"_parent\"><img src=\"https://colab.research.google.com/assets/colab-badge.svg\" alt=\"Open In Colab\"/></a>"
      ]
    },
    {
      "cell_type": "code",
      "source": [
        "N = int(input())\n",
        "L = list(map(int,input().split()))\n",
        "L.sort()\n",
        "ans = 0\n",
        " \n",
        "for i in range(N-2):\n",
        "    for j in range(i+1,N-1):\n",
        "        for k in range(j+1,N):\n",
        "            if L[i]<L[j] and L[j]<L[k] and L[i]+L[j]>L[k]:\n",
        "                ans += 1\n",
        "print(ans)"
      ],
      "metadata": {
        "id": "i2IB4mti0jZ7"
      },
      "execution_count": null,
      "outputs": []
    },
    {
      "cell_type": "code",
      "source": [
        "n-int(input())\n",
        "input_list=[int(x) for x in input().split()]\n",
        "ans=0\n",
        "for i in range(n):\n",
        "  for k in range(i+1, n):\n",
        "    a = min(input_list[i], input_list[j])"
      ],
      "metadata": {
        "id": "v6r4VgTgwSxy"
      },
      "execution_count": null,
      "outputs": []
    },
    {
      "cell_type": "code",
      "source": [
        "N=int(input())\n",
        "L=list(map(int,input().split()))\n",
        "\n",
        "ans=0\n",
        "\n",
        "for i in range (N):\n",
        "    for j in range (i+1,N):\n",
        "        for k in range (j+1,N):\n",
        "            a=min(L[i],L[j],L[k])\n",
        "            c=max(L[i],L[j],L[k])\n",
        "            b=(L[i]+L[j]+L[k]-a-c)\n",
        "            if a+b>c and a<b<c:\n",
        "              ans+=1\n",
        "\n",
        "print(ans)"
      ],
      "metadata": {
        "colab": {
          "base_uri": "https://localhost:8080/"
        },
        "id": "lDckVAHHytBA",
        "outputId": "6b53658c-adc3-4dde-bd68-a5e5d8309ff6"
      },
      "execution_count": 9,
      "outputs": [
        {
          "output_type": "stream",
          "name": "stdout",
          "text": [
            "5\n",
            "4 4 9 7 5\n",
            "4 0   4 1   9 2  \n",
            "4 0   4 1   7 3  \n",
            "4 0   4 1   5 4  \n",
            "4 0   7 2   9 3  \n",
            "クリア 4 7 9 1 3 4\n",
            "4 0   5 2   9 4  \n",
            "4 0   5 3   7 4  \n",
            "クリア 4 5 7 1 4 5\n",
            "4 1   7 2   9 3  \n",
            "クリア 4 7 9 2 3 4\n",
            "4 1   5 2   9 4  \n",
            "4 1   5 3   7 4  \n",
            "クリア 4 5 7 2 4 5\n",
            "5 2   7 3   9 4  \n",
            "クリア 5 7 9 3 4 5\n",
            "5\n"
          ]
        }
      ]
    }
  ]
}