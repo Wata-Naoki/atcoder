{
  "nbformat": 4,
  "nbformat_minor": 0,
  "metadata": {
    "colab": {
      "provenance": [],
      "authorship_tag": "ABX9TyMHx7e9QQ9kHylpkjho0JtD",
      "include_colab_link": true
    },
    "kernelspec": {
      "name": "python3",
      "display_name": "Python 3"
    },
    "language_info": {
      "name": "python"
    }
  },
  "cells": [
    {
      "cell_type": "markdown",
      "metadata": {
        "id": "view-in-github",
        "colab_type": "text"
      },
      "source": [
        "<a href=\"https://colab.research.google.com/github/Wata-Naoki/atcoder/blob/main/ABC154a.ipynb\" target=\"_parent\"><img src=\"https://colab.research.google.com/assets/colab-badge.svg\" alt=\"Open In Colab\"/></a>"
      ]
    },
    {
      "cell_type": "code",
      "execution_count": 2,
      "metadata": {
        "colab": {
          "base_uri": "https://localhost:8080/"
        },
        "id": "tOdojJObJj9N",
        "outputId": "302c56f0-1b2a-43ab-a329-139c82367387"
      },
      "outputs": [
        {
          "output_type": "stream",
          "name": "stdout",
          "text": [
            "red blue\n",
            "3 4\n",
            "red\n",
            "2 4\n"
          ]
        }
      ],
      "source": [
        "s,m=map(str, input().split())\n",
        "a, b=map(int, input().split())\n",
        "st=input()\n",
        "if s==st:\n",
        "  print('{} {}'.format(a-1, b))\n",
        "else:\n",
        "  print('{} {}'.format(a, b-1))"
      ]
    }
  ]
}