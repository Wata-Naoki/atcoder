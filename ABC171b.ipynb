{
  "nbformat": 4,
  "nbformat_minor": 0,
  "metadata": {
    "colab": {
      "provenance": [],
      "authorship_tag": "ABX9TyMyzKVAuvRIFYxCbAu5LUkY",
      "include_colab_link": true
    },
    "kernelspec": {
      "name": "python3",
      "display_name": "Python 3"
    },
    "language_info": {
      "name": "python"
    }
  },
  "cells": [
    {
      "cell_type": "markdown",
      "metadata": {
        "id": "view-in-github",
        "colab_type": "text"
      },
      "source": [
        "<a href=\"https://colab.research.google.com/github/Wata-Naoki/atcoder/blob/main/ABC171b.ipynb\" target=\"_parent\"><img src=\"https://colab.research.google.com/assets/colab-badge.svg\" alt=\"Open In Colab\"/></a>"
      ]
    },
    {
      "cell_type": "code",
      "execution_count": 2,
      "metadata": {
        "colab": {
          "base_uri": "https://localhost:8080/"
        },
        "id": "us3sDnik4rM8",
        "outputId": "80e6c0ac-4667-456f-d860-dd0caa71f3a0"
      },
      "outputs": [
        {
          "output_type": "stream",
          "name": "stdout",
          "text": [
            "1 1\n",
            "1000\n",
            "1000\n"
          ]
        }
      ],
      "source": [
        "n, k=map(int, input().split())\n",
        "a_list=[int(x) for x in input().split()]\n",
        "total_price=0\n",
        "a_list.sort()\n",
        "for i in range(k):\n",
        "  total_price+=a_list[i]\n",
        "print(total_price)"
      ]
    }
  ]
}