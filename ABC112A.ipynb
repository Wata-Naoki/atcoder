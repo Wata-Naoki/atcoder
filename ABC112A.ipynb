{
  "nbformat": 4,
  "nbformat_minor": 0,
  "metadata": {
    "colab": {
      "provenance": [],
      "authorship_tag": "ABX9TyNuQxANFXmh3beG2A8zPjHI",
      "include_colab_link": true
    },
    "kernelspec": {
      "name": "python3",
      "display_name": "Python 3"
    },
    "language_info": {
      "name": "python"
    }
  },
  "cells": [
    {
      "cell_type": "markdown",
      "metadata": {
        "id": "view-in-github",
        "colab_type": "text"
      },
      "source": [
        "<a href=\"https://colab.research.google.com/github/Wata-Naoki/atcoder/blob/main/ABC112A.ipynb\" target=\"_parent\"><img src=\"https://colab.research.google.com/assets/colab-badge.svg\" alt=\"Open In Colab\"/></a>"
      ]
    },
    {
      "cell_type": "code",
      "execution_count": 3,
      "metadata": {
        "colab": {
          "base_uri": "https://localhost:8080/"
        },
        "id": "FzouC-DdOf3H",
        "outputId": "b775998b-d13b-4aa4-f66c-d5fd5d635cc3"
      },
      "outputs": [
        {
          "output_type": "stream",
          "name": "stdout",
          "text": [
            "2\n",
            "2\n",
            "4\n",
            "6\n"
          ]
        }
      ],
      "source": [
        "n=int(input())\n",
        "\n",
        "if n==1:\n",
        "  print(\"Hello World\")\n",
        "else:\n",
        "  a=int(input())\n",
        "  b=int(input())\n",
        "  print(a+b)"
      ]
    },
    {
      "cell_type": "code",
      "source": [],
      "metadata": {
        "id": "p2RxrY2TRQbo"
      },
      "execution_count": null,
      "outputs": []
    }
  ]
}