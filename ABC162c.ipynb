{
  "nbformat": 4,
  "nbformat_minor": 0,
  "metadata": {
    "colab": {
      "provenance": [],
      "authorship_tag": "ABX9TyPdXp7WHmee3PxPMZPSGXJN",
      "include_colab_link": true
    },
    "kernelspec": {
      "name": "python3",
      "display_name": "Python 3"
    },
    "language_info": {
      "name": "python"
    }
  },
  "cells": [
    {
      "cell_type": "markdown",
      "metadata": {
        "id": "view-in-github",
        "colab_type": "text"
      },
      "source": [
        "<a href=\"https://colab.research.google.com/github/Wata-Naoki/atcoder/blob/main/ABC162c.ipynb\" target=\"_parent\"><img src=\"https://colab.research.google.com/assets/colab-badge.svg\" alt=\"Open In Colab\"/></a>"
      ]
    },
    {
      "cell_type": "code",
      "source": [
        "from math import gcd\n",
        "K = int(input())\n",
        "\n",
        "score = 0\n",
        "for a in range(1,K+1):\n",
        "    for b in range(1,K+1):\n",
        "        for c in range(1,K+1):\n",
        "            score += gcd(gcd(a,b),c)\n",
        "print(score)"
      ],
      "metadata": {
        "colab": {
          "base_uri": "https://localhost:8080/"
        },
        "id": "Y2UmuED0YqKZ",
        "outputId": "4127b076-efd4-42b4-8972-6697b2f85d20"
      },
      "execution_count": 18,
      "outputs": [
        {
          "output_type": "stream",
          "name": "stdout",
          "text": [
            "2\n",
            "9\n"
          ]
        }
      ]
    },
    {
      "cell_type": "code",
      "source": [
        "def gcd_t(list_g1):\n",
        "    for i in reversed(range(1, min(list_g1)+1)):\n",
        "        for j in list_g1:\n",
        "            if j%i!=0:\n",
        "                break\n",
        "        else:\n",
        "            return i\n",
        "gcd_t([2, 2, 1])        "
      ],
      "metadata": {
        "colab": {
          "base_uri": "https://localhost:8080/"
        },
        "id": "s4ZEZSf6Vu8u",
        "outputId": "0b674259-125a-4d06-ac3a-458c6177d45a"
      },
      "execution_count": 8,
      "outputs": [
        {
          "output_type": "execute_result",
          "data": {
            "text/plain": [
              "1"
            ]
          },
          "metadata": {},
          "execution_count": 8
        }
      ]
    },
    {
      "cell_type": "code",
      "source": [
        "k=3\n",
        "\n",
        "for i in range(k):\n",
        "  for j in range(k):\n",
        "    if i!=j:\n",
        "      print([i,j])"
      ],
      "metadata": {
        "colab": {
          "base_uri": "https://localhost:8080/"
        },
        "id": "XWWOW-WxWoaK",
        "outputId": "023caf9e-ae0c-4278-b6f4-2e128f341c42"
      },
      "execution_count": 17,
      "outputs": [
        {
          "output_type": "stream",
          "name": "stdout",
          "text": [
            "[0, 1]\n",
            "[0, 2]\n",
            "[1, 0]\n",
            "[1, 2]\n",
            "[2, 0]\n",
            "[2, 1]\n"
          ]
        }
      ]
    }
  ]
}