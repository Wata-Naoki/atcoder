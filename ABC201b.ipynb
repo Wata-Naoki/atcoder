{
  "nbformat": 4,
  "nbformat_minor": 0,
  "metadata": {
    "colab": {
      "provenance": [],
      "authorship_tag": "ABX9TyMI9KW4Ctw7le6Uw9d2AZT/",
      "include_colab_link": true
    },
    "kernelspec": {
      "name": "python3",
      "display_name": "Python 3"
    },
    "language_info": {
      "name": "python"
    }
  },
  "cells": [
    {
      "cell_type": "markdown",
      "metadata": {
        "id": "view-in-github",
        "colab_type": "text"
      },
      "source": [
        "<a href=\"https://colab.research.google.com/github/Wata-Naoki/atcoder/blob/main/ABC201b.ipynb\" target=\"_parent\"><img src=\"https://colab.research.google.com/assets/colab-badge.svg\" alt=\"Open In Colab\"/></a>"
      ]
    },
    {
      "cell_type": "code",
      "execution_count": 4,
      "metadata": {
        "colab": {
          "base_uri": "https://localhost:8080/"
        },
        "id": "XKOKT8C_KLnX",
        "outputId": "82f00979-c20a-4b7c-c570-16a7a6b473af"
      },
      "outputs": [
        {
          "output_type": "stream",
          "name": "stdout",
          "text": [
            "3\n",
            "Everest 8849\n",
            "K2 8611\n",
            "Kangchenjunga 8586\n",
            "[8849, 8611, 8586]\n",
            "K2\n"
          ]
        }
      ],
      "source": [
        "n=int(input())\n",
        "\n",
        "n_dict={}\n",
        "num_list=[]\n",
        "for _ in range(n):\n",
        "  s, t=map(str, input().split())\n",
        "  n_dict[t]=s\n",
        "  num_list.append(int(t))\n",
        "  \n",
        "num_list.sort(reverse=True)\n",
        "# print(num_list)\n",
        "ans_key=str(num_list[1])\n",
        "print(n_dict[ans_key])\n",
        "\n"
      ]
    },
    {
      "cell_type": "code",
      "source": [],
      "metadata": {
        "id": "M1_jB_dNTyw2"
      },
      "execution_count": null,
      "outputs": []
    }
  ]
}