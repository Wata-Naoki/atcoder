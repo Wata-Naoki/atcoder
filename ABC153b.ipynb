{
  "nbformat": 4,
  "nbformat_minor": 0,
  "metadata": {
    "colab": {
      "provenance": [],
      "authorship_tag": "ABX9TyO7Wwk/oAuWLKWlD3mJeyL9",
      "include_colab_link": true
    },
    "kernelspec": {
      "name": "python3",
      "display_name": "Python 3"
    },
    "language_info": {
      "name": "python"
    }
  },
  "cells": [
    {
      "cell_type": "markdown",
      "metadata": {
        "id": "view-in-github",
        "colab_type": "text"
      },
      "source": [
        "<a href=\"https://colab.research.google.com/github/Wata-Naoki/atcoder/blob/main/ABC153b.ipynb\" target=\"_parent\"><img src=\"https://colab.research.google.com/assets/colab-badge.svg\" alt=\"Open In Colab\"/></a>"
      ]
    },
    {
      "cell_type": "code",
      "execution_count": 11,
      "metadata": {
        "colab": {
          "base_uri": "https://localhost:8080/"
        },
        "id": "wxGS19bM2fK8",
        "outputId": "356ef3d4-ac07-4fa9-a5a7-d0d341a9b46f"
      },
      "outputs": [
        {
          "output_type": "stream",
          "name": "stdout",
          "text": [
            "210 5\n",
            "31 41 59 26 53\n",
            "210\n",
            "Yes\n"
          ]
        }
      ],
      "source": [
        "h, n=map(int, input().split())\n",
        "a_list=[int(x) for x in input().split()]\n",
        "\n",
        "a_list.sort(reverse=True)\n",
        "ans=sum(a_list[:n])\n",
        "\n",
        "print('Yes' if h<=ans else 'No')"
      ]
    },
    {
      "cell_type": "code",
      "source": [],
      "metadata": {
        "id": "oJynp0XT66cn"
      },
      "execution_count": null,
      "outputs": []
    },
    {
      "cell_type": "code",
      "source": [
        "\n"
      ],
      "metadata": {
        "id": "DsRDnNVX43HS"
      },
      "execution_count": null,
      "outputs": []
    }
  ]
}