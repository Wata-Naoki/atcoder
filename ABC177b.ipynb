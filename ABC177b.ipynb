{
  "nbformat": 4,
  "nbformat_minor": 0,
  "metadata": {
    "colab": {
      "provenance": [],
      "authorship_tag": "ABX9TyM9vWbRAB0R9h5ng2ENv/kC",
      "include_colab_link": true
    },
    "kernelspec": {
      "name": "python3",
      "display_name": "Python 3"
    },
    "language_info": {
      "name": "python"
    }
  },
  "cells": [
    {
      "cell_type": "markdown",
      "metadata": {
        "id": "view-in-github",
        "colab_type": "text"
      },
      "source": [
        "<a href=\"https://colab.research.google.com/github/Wata-Naoki/atcoder/blob/main/ABC177b.ipynb\" target=\"_parent\"><img src=\"https://colab.research.google.com/assets/colab-badge.svg\" alt=\"Open In Colab\"/></a>"
      ]
    },
    {
      "cell_type": "code",
      "source": [
        "n=list(input())\n",
        "t=list(input())\n",
        "count_l=[]\n",
        "n=list(n)\n",
        "t=list(t)\n",
        "\n",
        "for i in range(len(n)-len(t)+1):\n",
        "  tp_count=0\n",
        "  for n_val, t_val in zip(n[i:len(t)+i], t):\n",
        "    if n_val != t_val:\n",
        "      tp_count +=1\n",
        "  count_l.append(tp_count)\n",
        "\n",
        "print(min(count_l))\n"
      ],
      "metadata": {
        "colab": {
          "base_uri": "https://localhost:8080/"
        },
        "id": "FSCfw3DH1mDj",
        "outputId": "8df1373a-3dce-405a-976f-46f91f724b53"
      },
      "execution_count": 10,
      "outputs": [
        {
          "output_type": "stream",
          "name": "stdout",
          "text": [
            "codeforces\n",
            "atcoder\n",
            "6\n"
          ]
        }
      ]
    },
    {
      "cell_type": "code",
      "execution_count": null,
      "metadata": {
        "id": "CWFPC24txrf9"
      },
      "outputs": [],
      "source": []
    },
    {
      "cell_type": "code",
      "source": [],
      "metadata": {
        "id": "y-Tbs3cT1l-H"
      },
      "execution_count": null,
      "outputs": []
    },
    {
      "cell_type": "code",
      "source": [],
      "metadata": {
        "id": "b7vrk-qG5MBa"
      },
      "execution_count": null,
      "outputs": []
    },
    {
      "cell_type": "code",
      "source": [
        "n='codeforces'\n",
        "t='atcoder'\n",
        "\n",
        "for i in range(len(n)-len(t)+1):\n",
        "  print(n[i:len(t)+i])"
      ],
      "metadata": {
        "colab": {
          "base_uri": "https://localhost:8080/"
        },
        "id": "g_Yq4T3B5MHK",
        "outputId": "bb36e773-4ef3-4c9d-ed38-dd3402d0e0b9"
      },
      "execution_count": 7,
      "outputs": [
        {
          "output_type": "stream",
          "name": "stdout",
          "text": [
            "codefor\n",
            "odeforc\n",
            "deforce\n",
            "eforces\n"
          ]
        }
      ]
    }
  ]
}