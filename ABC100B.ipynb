{
  "nbformat": 4,
  "nbformat_minor": 0,
  "metadata": {
    "colab": {
      "provenance": [],
      "authorship_tag": "ABX9TyNLqgS6hKCeFSz0HaWCJGb7",
      "include_colab_link": true
    },
    "kernelspec": {
      "name": "python3",
      "display_name": "Python 3"
    },
    "language_info": {
      "name": "python"
    }
  },
  "cells": [
    {
      "cell_type": "markdown",
      "metadata": {
        "id": "view-in-github",
        "colab_type": "text"
      },
      "source": [
        "<a href=\"https://colab.research.google.com/github/Wata-Naoki/atcoder/blob/main/ABC100B.ipynb\" target=\"_parent\"><img src=\"https://colab.research.google.com/assets/colab-badge.svg\" alt=\"Open In Colab\"/></a>"
      ]
    },
    {
      "cell_type": "code",
      "execution_count": 5,
      "metadata": {
        "colab": {
          "base_uri": "https://localhost:8080/"
        },
        "id": "DdNt9Q4gxHYv",
        "outputId": "8ad7e89a-7090-4ce9-a126-eb886fc5e90e"
      },
      "outputs": [
        {
          "output_type": "stream",
          "name": "stdout",
          "text": [
            "2 85\n",
            "850000\n"
          ]
        }
      ],
      "source": [
        "D, N = map(int, input().split())\n",
        "\n",
        "if N == 100:\n",
        "  print((N+1)*100**D)\n",
        "\n",
        "else:\n",
        "  print(N*100**D)\n",
        "\n"
      ]
    }
  ]
}