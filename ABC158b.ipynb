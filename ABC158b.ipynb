{
  "nbformat": 4,
  "nbformat_minor": 0,
  "metadata": {
    "colab": {
      "provenance": [],
      "authorship_tag": "ABX9TyPuCrJj2YIbk1Sek1waWRSr",
      "include_colab_link": true
    },
    "kernelspec": {
      "name": "python3",
      "display_name": "Python 3"
    },
    "language_info": {
      "name": "python"
    }
  },
  "cells": [
    {
      "cell_type": "markdown",
      "metadata": {
        "id": "view-in-github",
        "colab_type": "text"
      },
      "source": [
        "<a href=\"https://colab.research.google.com/github/Wata-Naoki/atcoder/blob/main/ABC158b.ipynb\" target=\"_parent\"><img src=\"https://colab.research.google.com/assets/colab-badge.svg\" alt=\"Open In Colab\"/></a>"
      ]
    },
    {
      "cell_type": "code",
      "source": [
        "N, blue, red = map(int, input().split())\n",
        "\n",
        "T = blue + red\n",
        "q, r = N // T, N % T \n",
        "\n",
        "ans = blue * q + min(blue, r)\n",
        "print(ans)"
      ],
      "metadata": {
        "colab": {
          "base_uri": "https://localhost:8080/"
        },
        "id": "xiMkrPfRrlxp",
        "outputId": "768eccb1-b76e-465a-b6ca-f5bf4f26dd51"
      },
      "execution_count": 2,
      "outputs": [
        {
          "output_type": "stream",
          "name": "stdout",
          "text": [
            "6 2 4\n",
            "2\n"
          ]
        }
      ]
    },
    {
      "cell_type": "code",
      "execution_count": 2,
      "metadata": {
        "colab": {
          "base_uri": "https://localhost:8080/"
        },
        "id": "yWR6NkQEeny2",
        "outputId": "86cb7f99-f643-4538-ff88-a55a536da7f0"
      },
      "outputs": [
        {
          "output_type": "stream",
          "name": "stdout",
          "text": [
            "1000 20 3\n",
            "871\n"
          ]
        }
      ],
      "source": [
        "n, a, b=map(int, input().split())\n",
        "count_list=[]\n",
        "\n",
        "for i in range(n):\n",
        "  for k in range(a):\n",
        "    if len(count_list)!=n:\n",
        "      count_list.append(1)\n",
        "    else:\n",
        "      exit()\n",
        "  for j in range(b):\n",
        "    if len(count_list)!=n:\n",
        "      count_list.append(0)\n",
        "    else:\n",
        "      exit()\n",
        "      \n",
        "print(count_list.count(1))"
      ]
    },
    {
      "cell_type": "code",
      "source": [
        "count=[]\n",
        "print(len(count))"
      ],
      "metadata": {
        "colab": {
          "base_uri": "https://localhost:8080/"
        },
        "id": "uY_jUM7Zmwbs",
        "outputId": "1d0f4614-3edd-4292-9345-84f03c3b4ced"
      },
      "execution_count": 14,
      "outputs": [
        {
          "output_type": "stream",
          "name": "stdout",
          "text": [
            "0\n"
          ]
        }
      ]
    }
  ]
}