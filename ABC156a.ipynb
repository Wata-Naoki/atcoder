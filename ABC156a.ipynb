{
  "nbformat": 4,
  "nbformat_minor": 0,
  "metadata": {
    "colab": {
      "provenance": [],
      "authorship_tag": "ABX9TyO2fImfIXLhP1u1VV1VVEcv",
      "include_colab_link": true
    },
    "kernelspec": {
      "name": "python3",
      "display_name": "Python 3"
    },
    "language_info": {
      "name": "python"
    }
  },
  "cells": [
    {
      "cell_type": "markdown",
      "metadata": {
        "id": "view-in-github",
        "colab_type": "text"
      },
      "source": [
        "<a href=\"https://colab.research.google.com/github/Wata-Naoki/atcoder/blob/main/ABC156a.ipynb\" target=\"_parent\"><img src=\"https://colab.research.google.com/assets/colab-badge.svg\" alt=\"Open In Colab\"/></a>"
      ]
    },
    {
      "cell_type": "code",
      "execution_count": 2,
      "metadata": {
        "colab": {
          "base_uri": "https://localhost:8080/"
        },
        "id": "VMGajq5_qy2K",
        "outputId": "cd528894-7074-4293-fa1f-8d39bfe6bb5e"
      },
      "outputs": [
        {
          "output_type": "stream",
          "name": "stdout",
          "text": [
            "22 3051\n",
            "3051\n"
          ]
        }
      ],
      "source": [
        "n, r=map(int, input().split())\n",
        "\n",
        "if n >10:\n",
        "  print(r)\n",
        "else:\n",
        "  print(r+(100*(10-n)))\n",
        "\n",
        "\n"
      ]
    }
  ]
}