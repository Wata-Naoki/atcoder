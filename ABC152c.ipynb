{
  "nbformat": 4,
  "nbformat_minor": 0,
  "metadata": {
    "colab": {
      "provenance": [],
      "authorship_tag": "ABX9TyMpSnj1Nnv7G7ZaCcl46mMh",
      "include_colab_link": true
    },
    "kernelspec": {
      "name": "python3",
      "display_name": "Python 3"
    },
    "language_info": {
      "name": "python"
    }
  },
  "cells": [
    {
      "cell_type": "markdown",
      "metadata": {
        "id": "view-in-github",
        "colab_type": "text"
      },
      "source": [
        "<a href=\"https://colab.research.google.com/github/Wata-Naoki/atcoder/blob/main/ABC152c.ipynb\" target=\"_parent\"><img src=\"https://colab.research.google.com/assets/colab-badge.svg\" alt=\"Open In Colab\"/></a>"
      ]
    },
    {
      "cell_type": "code",
      "execution_count": 14,
      "metadata": {
        "colab": {
          "base_uri": "https://localhost:8080/"
        },
        "id": "MeE2Num8JVYE",
        "outputId": "d7a3ea17-ce8a-402e-d379-f9cfae962de0"
      },
      "outputs": [
        {
          "output_type": "stream",
          "name": "stdout",
          "text": [
            "0\n",
            "0\n",
            "1\n"
          ]
        }
      ],
      "source": [
        "n=int(input())\n",
        "x_list=[int(x) for x in input().split()]\n",
        "\n",
        "c_list=[]\n",
        "\n",
        "for i, v in enumerate(x_list):\n",
        "  if 1<= i:\n",
        "    if min(c_list) >= v:\n",
        "      c_list.append(v)\n",
        "  else:\n",
        "    c_list.append(v)\n",
        "\n",
        "print(len(c_list))\n",
        "\n",
        "\n"
      ]
    },
    {
      "cell_type": "code",
      "source": [
        "n=int(input())\n",
        "pi=list(map(int,input().split()))\n",
        "num=pi[0]\n",
        "ans=1\n",
        "for i in range(1,n):\n",
        "    if(num>pi[i]):\n",
        "        num=pi[i]\n",
        "        ans+=1\n",
        "print(ans)   "
      ],
      "metadata": {
        "colab": {
          "base_uri": "https://localhost:8080/"
        },
        "id": "TsXioy5j-8JQ",
        "outputId": "0b9abf0d-63fb-4850-9670-86bcb2dec23d"
      },
      "execution_count": 16,
      "outputs": [
        {
          "output_type": "stream",
          "name": "stdout",
          "text": [
            "0\n",
            "0\n",
            "1\n"
          ]
        }
      ]
    }
  ]
}