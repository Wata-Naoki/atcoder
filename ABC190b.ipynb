{
  "nbformat": 4,
  "nbformat_minor": 0,
  "metadata": {
    "colab": {
      "provenance": [],
      "authorship_tag": "ABX9TyNi6bJeFaG+MUsMFll1AP7x",
      "include_colab_link": true
    },
    "kernelspec": {
      "name": "python3",
      "display_name": "Python 3"
    },
    "language_info": {
      "name": "python"
    }
  },
  "cells": [
    {
      "cell_type": "markdown",
      "metadata": {
        "id": "view-in-github",
        "colab_type": "text"
      },
      "source": [
        "<a href=\"https://colab.research.google.com/github/Wata-Naoki/atcoder/blob/main/ABC190b.ipynb\" target=\"_parent\"><img src=\"https://colab.research.google.com/assets/colab-badge.svg\" alt=\"Open In Colab\"/></a>"
      ]
    },
    {
      "cell_type": "code",
      "execution_count": 2,
      "metadata": {
        "colab": {
          "base_uri": "https://localhost:8080/"
        },
        "id": "No9AQnfHiCgb",
        "outputId": "11002dbf-6428-4126-9b1c-1dcf27a5eced"
      },
      "outputs": [
        {
          "output_type": "stream",
          "name": "stdout",
          "text": [
            "3 691 273\n",
            "691 997\n",
            "593 273\n",
            "691 273\n",
            "No\n"
          ]
        }
      ],
      "source": [
        "n, s, d=map(int, input().split())\n",
        "flag=False\n",
        "for i in range(n):\n",
        "  x,y=map(int, input().split())\n",
        "  if s>x and y>d:\n",
        "    flag=True\n",
        "\n",
        "print('Yes' if flag else 'No')"
      ]
    },
    {
      "cell_type": "code",
      "source": [],
      "metadata": {
        "id": "m0x-Q5LYiEmu"
      },
      "execution_count": null,
      "outputs": []
    },
    {
      "cell_type": "code",
      "source": [],
      "metadata": {
        "id": "UphfUzU-iEs3"
      },
      "execution_count": null,
      "outputs": []
    },
    {
      "cell_type": "code",
      "source": [],
      "metadata": {
        "id": "EZSwmwoSiEve"
      },
      "execution_count": null,
      "outputs": []
    }
  ]
}