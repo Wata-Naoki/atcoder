{
  "nbformat": 4,
  "nbformat_minor": 0,
  "metadata": {
    "colab": {
      "provenance": [],
      "authorship_tag": "ABX9TyOdIRaK2umNQ8CKZtXIRXuJ",
      "include_colab_link": true
    },
    "kernelspec": {
      "name": "python3",
      "display_name": "Python 3"
    },
    "language_info": {
      "name": "python"
    }
  },
  "cells": [
    {
      "cell_type": "markdown",
      "metadata": {
        "id": "view-in-github",
        "colab_type": "text"
      },
      "source": [
        "<a href=\"https://colab.research.google.com/github/Wata-Naoki/atcoder/blob/main/ABC169b.ipynb\" target=\"_parent\"><img src=\"https://colab.research.google.com/assets/colab-badge.svg\" alt=\"Open In Colab\"/></a>"
      ]
    },
    {
      "cell_type": "code",
      "source": [
        "n=int(input())\n",
        "a_list=[int(x) for x in input().split()]\n",
        "a_list.reverse()\n",
        "\n",
        "flag=True\n",
        "ans=1\n",
        "if a_list.count(0)>0:\n",
        "  print(0)\n",
        "else:\n",
        "  for val in a_list:\n",
        "    ans *= val\n",
        "    if ans > 10**18:\n",
        "      flag=False\n",
        "      break\n",
        "  print(ans if flag else -1)"
      ],
      "metadata": {
        "colab": {
          "base_uri": "https://localhost:8080/"
        },
        "id": "p2C3gXS4e1sm",
        "outputId": "f928e65c-8687-44bd-cd8c-1ca205938426"
      },
      "execution_count": 1,
      "outputs": [
        {
          "output_type": "stream",
          "name": "stdout",
          "text": [
            "31\n",
            "4 1 5 9 2 6 5 3 5 8 9 7 9 3 2 3 8 4 6 2 6 4 3 3 8 3 2 7 9 5 0\n",
            "0\n"
          ]
        }
      ]
    },
    {
      "cell_type": "code",
      "execution_count": 12,
      "metadata": {
        "colab": {
          "base_uri": "https://localhost:8080/"
        },
        "id": "uLCsdS6ZXgj2",
        "outputId": "a86ea538-90b1-40df-bfdb-e58df34fd1e1"
      },
      "outputs": [
        {
          "output_type": "stream",
          "name": "stdout",
          "text": [
            "3\n",
            "101 9901 999999000001\n",
            "-1\n"
          ]
        }
      ],
      "source": [
        "input_num=int(input())\n",
        "input_list=[int(num) for num in input().split()]\n",
        "ans_val=1\n",
        "flag=True\n",
        "for val in input_list:\n",
        "  ans_val *= val\n",
        "  \n",
        "if ans_val > 1000000000000000000:\n",
        "  flag=False\n",
        "\n",
        "print(ans_val if flag else -1 )\n",
        "  "
      ]
    },
    {
      "cell_type": "code",
      "source": [
        "import numpy as np\n",
        "input_num=int(input())\n",
        "input_list=[int(num) for num in input().split()]\n",
        "flag=True\n",
        "ans_val=np.prod(input_list)\n",
        "if ans_val > 1000000000000000000:\n",
        "  flag=False\n",
        "print(ans_val if flag else -1)"
      ],
      "metadata": {
        "colab": {
          "base_uri": "https://localhost:8080/"
        },
        "id": "hA--wMvdZmv2",
        "outputId": "447a77bf-0806-4a37-9b2b-97b98716d896"
      },
      "execution_count": 16,
      "outputs": [
        {
          "output_type": "stream",
          "name": "stdout",
          "text": [
            "31\n",
            "4 1 5 9 2 6 5 3 5 8 9 7 9 3 2 3 8 4 6 2 6 4 3 3 8 3 2 7 9 5 0\n",
            "0\n"
          ]
        }
      ]
    },
    {
      "cell_type": "code",
      "source": [
        "N = int(input())\n",
        "A = list(map(int,input().split()))\n",
        "A.sort()\n",
        "A.reverse()\n",
        "if A.count(0) > 0:\n",
        "  print(0)\n",
        "else:\n",
        "  f = 0\n",
        "  ans = 1\n",
        "  for i in range(N):\n",
        "    ans *= A[i]\n",
        "    if ans > 10**18:\n",
        "      f += 1\n",
        "      print(-1)\n",
        "      break\n",
        "  if f == 0:\n",
        "    print(ans)\n"
      ],
      "metadata": {
        "id": "KBGOw_E3dzs2"
      },
      "execution_count": null,
      "outputs": []
    },
    {
      "cell_type": "code",
      "source": [],
      "metadata": {
        "id": "2hEL9uA0fwy_"
      },
      "execution_count": null,
      "outputs": []
    }
  ]
}