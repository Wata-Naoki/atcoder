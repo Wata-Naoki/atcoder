{
  "nbformat": 4,
  "nbformat_minor": 0,
  "metadata": {
    "colab": {
      "provenance": [],
      "authorship_tag": "ABX9TyNbomFYpchpO66E57DSA959",
      "include_colab_link": true
    },
    "kernelspec": {
      "name": "python3",
      "display_name": "Python 3"
    },
    "language_info": {
      "name": "python"
    }
  },
  "cells": [
    {
      "cell_type": "markdown",
      "metadata": {
        "id": "view-in-github",
        "colab_type": "text"
      },
      "source": [
        "<a href=\"https://colab.research.google.com/github/Wata-Naoki/atcoder/blob/main/ABC178c.ipynb\" target=\"_parent\"><img src=\"https://colab.research.google.com/assets/colab-badge.svg\" alt=\"Open In Colab\"/></a>"
      ]
    },
    {
      "cell_type": "code",
      "source": [
        "n=int(input())\n",
        "mod = 10 ** 9 + 7\n",
        "total_event=pow(10, n, mod)\n",
        "two_event=2*pow(9, n, mod)\n",
        "and_event=pow(8, n, mod)\n",
        "ans=total_event - two_event+and_event\n",
        "print(ans%mod)"
      ],
      "metadata": {
        "colab": {
          "base_uri": "https://localhost:8080/"
        },
        "id": "oBFmzDCM60kY",
        "outputId": "9dbdb255-a15e-4c5e-fe16-a429f25634a0"
      },
      "execution_count": 7,
      "outputs": [
        {
          "output_type": "stream",
          "name": "stdout",
          "text": [
            "869121\n",
            "2511445\n"
          ]
        }
      ]
    }
  ]
}