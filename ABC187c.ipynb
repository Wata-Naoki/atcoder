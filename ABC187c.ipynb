{
  "nbformat": 4,
  "nbformat_minor": 0,
  "metadata": {
    "colab": {
      "provenance": [],
      "authorship_tag": "ABX9TyNMpzy7KHe5BjafMiMUv3mX",
      "include_colab_link": true
    },
    "kernelspec": {
      "name": "python3",
      "display_name": "Python 3"
    },
    "language_info": {
      "name": "python"
    }
  },
  "cells": [
    {
      "cell_type": "markdown",
      "metadata": {
        "id": "view-in-github",
        "colab_type": "text"
      },
      "source": [
        "<a href=\"https://colab.research.google.com/github/Wata-Naoki/atcoder/blob/main/ABC187c.ipynb\" target=\"_parent\"><img src=\"https://colab.research.google.com/assets/colab-badge.svg\" alt=\"Open In Colab\"/></a>"
      ]
    },
    {
      "cell_type": "code",
      "source": [
        "N = int(input())\n",
        "S = set(input() for _ in range(N))\n",
        "flag=True\n",
        "for s in S:\n",
        "  if \"!\" + s in S:\n",
        "    ans=s\n",
        "    flag=False\n",
        "    break\n",
        "print('satisfiable' if flag else ans)\n",
        "   "
      ],
      "metadata": {
        "colab": {
          "base_uri": "https://localhost:8080/"
        },
        "id": "KbmRCX0XZAZu",
        "outputId": "cdae4d8c-e2c4-4881-ade4-952b56a96cae"
      },
      "execution_count": 7,
      "outputs": [
        {
          "output_type": "stream",
          "name": "stdout",
          "text": [
            "10\n",
            "red\n",
            "red\n",
            "red\n",
            "!orange\n",
            "yellow\n",
            "!blue\n",
            "cyan\n",
            "!green\n",
            "brown\n",
            "!gray\n",
            "{'brown', 'red', '!blue', '!orange', '!gray', 'yellow', '!green', 'cyan'}\n",
            "satisfiable\n"
          ]
        }
      ]
    },
    {
      "cell_type": "code",
      "execution_count": 5,
      "metadata": {
        "colab": {
          "base_uri": "https://localhost:8080/"
        },
        "id": "5ZKJPetXVsaH",
        "outputId": "3a0b4819-cb6b-4084-e3d4-3acef4846200"
      },
      "outputs": [
        {
          "output_type": "stream",
          "name": "stdout",
          "text": [
            "6\n",
            "a\n",
            "!a\n",
            "b\n",
            "!c\n",
            "d\n",
            "!d\n",
            "a\n"
          ]
        }
      ],
      "source": [
        "n=int(input())\n",
        "n_list=[]\n",
        "comp_list=[]\n",
        "flag=True\n",
        "for k in range(n):\n",
        "  val=input()\n",
        "  n_list.append(val)\n",
        "  if len(val)==1:\n",
        "    comp_list.append(val)\n",
        "for val in comp_list:\n",
        "  if val in n_list and '!'+val in n_list:\n",
        "    flag=False\n",
        "    ans=val\n",
        "    break\n",
        "    \n",
        "print('satisfiable' if flag else ans)\n",
        "\n",
        "\n"
      ]
    }
  ]
}