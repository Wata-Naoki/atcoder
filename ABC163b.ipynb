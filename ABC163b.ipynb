{
  "nbformat": 4,
  "nbformat_minor": 0,
  "metadata": {
    "colab": {
      "provenance": [],
      "authorship_tag": "ABX9TyO11yqiziKrJBWzneJjO1ls",
      "include_colab_link": true
    },
    "kernelspec": {
      "name": "python3",
      "display_name": "Python 3"
    },
    "language_info": {
      "name": "python"
    }
  },
  "cells": [
    {
      "cell_type": "markdown",
      "metadata": {
        "id": "view-in-github",
        "colab_type": "text"
      },
      "source": [
        "<a href=\"https://colab.research.google.com/github/Wata-Naoki/atcoder/blob/main/ABC163b.ipynb\" target=\"_parent\"><img src=\"https://colab.research.google.com/assets/colab-badge.svg\" alt=\"Open In Colab\"/></a>"
      ]
    },
    {
      "cell_type": "code",
      "execution_count": 2,
      "metadata": {
        "colab": {
          "base_uri": "https://localhost:8080/"
        },
        "id": "DhxeSG08fBqW",
        "outputId": "d1447dae-fe27-4bb7-e168-3037b4cc5f88"
      },
      "outputs": [
        {
          "output_type": "stream",
          "name": "stdout",
          "text": [
            "10 2\n",
            "5 6\n",
            "-1\n"
          ]
        }
      ],
      "source": [
        "summer_day, task_num=map(int, input().split())\n",
        "task_cost=[int(c) for c in input().split()]\n",
        "task_total_cost = sum(task_cost)\n",
        "ans=summer_day-task_total_cost\n",
        "print(ans if ans>=0 else -1)"
      ]
    }
  ]
}