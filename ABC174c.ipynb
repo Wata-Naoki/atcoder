{
  "nbformat": 4,
  "nbformat_minor": 0,
  "metadata": {
    "colab": {
      "provenance": [],
      "authorship_tag": "ABX9TyOvM1WLkFEW93YVdcXHlNZw",
      "include_colab_link": true
    },
    "kernelspec": {
      "name": "python3",
      "display_name": "Python 3"
    },
    "language_info": {
      "name": "python"
    }
  },
  "cells": [
    {
      "cell_type": "markdown",
      "metadata": {
        "id": "view-in-github",
        "colab_type": "text"
      },
      "source": [
        "<a href=\"https://colab.research.google.com/github/Wata-Naoki/atcoder/blob/main/ABC174c.ipynb\" target=\"_parent\"><img src=\"https://colab.research.google.com/assets/colab-badge.svg\" alt=\"Open In Colab\"/></a>"
      ]
    },
    {
      "cell_type": "markdown",
      "source": [
        "https://atcoder.jp/contests/abc174/tasks/abc174_c"
      ],
      "metadata": {
        "id": "Ye3M6Opwjq9q"
      }
    },
    {
      "cell_type": "code",
      "execution_count": null,
      "metadata": {
        "id": "I29L5IQaXURl"
      },
      "outputs": [],
      "source": []
    },
    {
      "cell_type": "code",
      "source": [
        "print(10**6)\n",
        "\n"
      ],
      "metadata": {
        "colab": {
          "base_uri": "https://localhost:8080/"
        },
        "id": "u6PqJFXLXwQG",
        "outputId": "97786386-c1af-4df0-8679-6038edd3a589"
      },
      "execution_count": 3,
      "outputs": [
        {
          "output_type": "stream",
          "name": "stdout",
          "text": [
            "1000000\n"
          ]
        }
      ]
    },
    {
      "cell_type": "code",
      "source": [
        "n=int(input())\n",
        "ans=-1\n",
        "if n%2!=0:\n",
        "  target_num='7'\n",
        "  while int(target_num)<=7*999983:\n",
        "    if int(target_num)%n==0:\n",
        "      ans=len(target_num)\n",
        "      break\n",
        "    target_num += '7'\n",
        "    print(target_num)\n",
        "\n",
        "print(ans)\n",
        "  \n",
        "\n"
      ],
      "metadata": {
        "colab": {
          "base_uri": "https://localhost:8080/"
        },
        "id": "_i7hdHwKYTiI",
        "outputId": "343622aa-0d1e-4e88-8b3d-415a6097b917"
      },
      "execution_count": 14,
      "outputs": [
        {
          "output_type": "stream",
          "name": "stdout",
          "text": [
            "999983\n",
            "77\n",
            "777\n",
            "7777\n",
            "77777\n",
            "777777\n",
            "7777777\n",
            "-1\n"
          ]
        }
      ]
    },
    {
      "cell_type": "code",
      "source": [
        "print(707%101)"
      ],
      "metadata": {
        "colab": {
          "base_uri": "https://localhost:8080/"
        },
        "id": "GkLmPSeRf4mH",
        "outputId": "6775f764-2313-45ec-c082-b0bae5d4a9f2"
      },
      "execution_count": 19,
      "outputs": [
        {
          "output_type": "stream",
          "name": "stdout",
          "text": [
            "0\n"
          ]
        }
      ]
    },
    {
      "cell_type": "code",
      "source": [],
      "metadata": {
        "id": "eSHIO7lkd_re"
      },
      "execution_count": null,
      "outputs": []
    },
    {
      "cell_type": "code",
      "source": [
        "print(7777777//999983)"
      ],
      "metadata": {
        "colab": {
          "base_uri": "https://localhost:8080/"
        },
        "id": "VmrZgJjUcPTh",
        "outputId": "a95f2090-b95f-4890-b6f3-677ede6a4244"
      },
      "execution_count": 9,
      "outputs": [
        {
          "output_type": "stream",
          "name": "stdout",
          "text": [
            "7\n"
          ]
        }
      ]
    },
    {
      "cell_type": "code",
      "source": [
        "K = int(input())\n",
        "count = 1\n",
        "mod = 7\n",
        "answer = -1\n",
        "\n",
        "for _ in range(K):\n",
        "    if mod % K == 0:\n",
        "        answer = count\n",
        "        break\n",
        "    count += 1\n",
        "    mod = (mod * 10 + 7) % K\n",
        "\n",
        "print(answer)\n"
      ],
      "metadata": {
        "colab": {
          "base_uri": "https://localhost:8080/"
        },
        "id": "1WPJggcneRJy",
        "outputId": "6445c792-f241-4a63-e34e-b117272a5528"
      },
      "execution_count": 13,
      "outputs": [
        {
          "output_type": "stream",
          "name": "stdout",
          "text": [
            "999983\n",
            "999982\n"
          ]
        }
      ]
    },
    {
      "cell_type": "code",
      "source": [
        "k=int(input())\n",
        "count=1\n",
        "mod=7\n",
        "answer=-1\n",
        "for i in range(k):\n",
        "  if mod%k==0:\n",
        "    answer=count\n",
        "    break\n",
        "  count+=1\n",
        "  mod = (mod*10+7)%k\n",
        "print(answer)"
      ],
      "metadata": {
        "colab": {
          "base_uri": "https://localhost:8080/"
        },
        "id": "QUBsG6JdhrGY",
        "outputId": "c937b82b-514d-4257-9478-bd9adf52f166"
      },
      "execution_count": 22,
      "outputs": [
        {
          "output_type": "stream",
          "name": "stdout",
          "text": [
            "999983\n",
            "999982\n"
          ]
        }
      ]
    }
  ]
}