{
  "nbformat": 4,
  "nbformat_minor": 0,
  "metadata": {
    "colab": {
      "provenance": [],
      "authorship_tag": "ABX9TyPC0SajpLSDCUizvedb2uzh",
      "include_colab_link": true
    },
    "kernelspec": {
      "name": "python3",
      "display_name": "Python 3"
    },
    "language_info": {
      "name": "python"
    }
  },
  "cells": [
    {
      "cell_type": "markdown",
      "metadata": {
        "id": "view-in-github",
        "colab_type": "text"
      },
      "source": [
        "<a href=\"https://colab.research.google.com/github/Wata-Naoki/atcoder/blob/main/ABC148B.ipynb\" target=\"_parent\"><img src=\"https://colab.research.google.com/assets/colab-badge.svg\" alt=\"Open In Colab\"/></a>"
      ]
    },
    {
      "cell_type": "code",
      "execution_count": 10,
      "metadata": {
        "colab": {
          "base_uri": "https://localhost:8080/"
        },
        "id": "fqOl5_WeOnDo",
        "outputId": "be9e2866-c870-450b-e12c-3ccdd0089036"
      },
      "outputs": [
        {
          "output_type": "stream",
          "name": "stdout",
          "text": [
            "2\n",
            "ip cc\n",
            "ip cc\n",
            "icpc\n"
          ]
        }
      ],
      "source": [
        "n=int(input())\n",
        "a_list=[]\n",
        "b_list=[]\n",
        "\n",
        "a, b = map(str, input().split())\n",
        "a_list += list(a)\n",
        "b_list += list(b)\n",
        "\n",
        "ans=''\n",
        "for a_val, b_val in zip(a_list, b_list):\n",
        "  ans+=a_val+b_val\n",
        "print(ans)"
      ]
    },
    {
      "cell_type": "code",
      "source": [
        "\n",
        "c=[]\n",
        "a, b = map(str, input().split())\n",
        "print(a, b)\n",
        "\n",
        "c += list(a)\n",
        "\n",
        "print(c)"
      ],
      "metadata": {
        "colab": {
          "base_uri": "https://localhost:8080/"
        },
        "id": "NvY3dJmrRFHx",
        "outputId": "15251635-7aac-4716-d3de-2533ac394ba7"
      },
      "execution_count": 9,
      "outputs": [
        {
          "output_type": "stream",
          "name": "stdout",
          "text": [
            "feawfe fewafewa\n",
            "feawfe fewafewa\n",
            "['f', 'e', 'a', 'w', 'f', 'e']\n"
          ]
        }
      ]
    }
  ]
}