{
  "nbformat": 4,
  "nbformat_minor": 0,
  "metadata": {
    "colab": {
      "provenance": [],
      "authorship_tag": "ABX9TyM7x8WbHD8oYGZEQMK9vGqq",
      "include_colab_link": true
    },
    "kernelspec": {
      "name": "python3",
      "display_name": "Python 3"
    },
    "language_info": {
      "name": "python"
    }
  },
  "cells": [
    {
      "cell_type": "markdown",
      "metadata": {
        "id": "view-in-github",
        "colab_type": "text"
      },
      "source": [
        "<a href=\"https://colab.research.google.com/github/Wata-Naoki/atcoder/blob/main/ABC194b.ipynb\" target=\"_parent\"><img src=\"https://colab.research.google.com/assets/colab-badge.svg\" alt=\"Open In Colab\"/></a>"
      ]
    },
    {
      "cell_type": "code",
      "source": [
        "N = int(input())\n",
        "A = []\n",
        "B = []\n",
        "\n",
        "for _ in range(N):\n",
        "    a, b = map(int, input().split())\n",
        "    A.append(a)\n",
        "    B.append(b)\n",
        "\n",
        "ans = float('INF')  # 正の無限大を初期値にします\n",
        "\n",
        "for i in range(N):\n",
        "    for j in range(N):\n",
        "        if i == j:\n",
        "            score = A[i] + B[i]\n",
        "        else:\n",
        "            score = max(A[i], B[j])\n",
        "        # ↑のscoreが大きいなら、a+bの方が入って更新されて\n",
        "        ans = min(ans, score)\n",
        "         # ↑で小さい方をとっているので、\n",
        "\n",
        "print(ans)"
      ],
      "metadata": {
        "colab": {
          "base_uri": "https://localhost:8080/"
        },
        "id": "X9Oq18cya6OU",
        "outputId": "2094c8ea-85ab-4ff5-f970-7c60ccb55456"
      },
      "execution_count": 9,
      "outputs": [
        {
          "output_type": "stream",
          "name": "stdout",
          "text": [
            "3\n",
            "8 5\n",
            "4 4\n",
            "7 9\n",
            "13\n",
            "8\n",
            "8\n",
            "4\n",
            "8\n",
            "4\n",
            "9\n",
            "9\n",
            "16\n",
            "4\n"
          ]
        }
      ]
    },
    {
      "cell_type": "code",
      "execution_count": 8,
      "metadata": {
        "colab": {
          "base_uri": "https://localhost:8080/"
        },
        "id": "Rx9PoLYhVaRC",
        "outputId": "6d8bb19c-9f6c-495b-c2d6-98215b3cb06f"
      },
      "outputs": [
        {
          "output_type": "stream",
          "name": "stdout",
          "text": [
            "3\n",
            "11 7\n",
            "3 2\n",
            "6 7\n",
            "3\n",
            "2\n",
            "5\n",
            " \n",
            "3\n",
            "5\n",
            "3\n"
          ]
        }
      ],
      "source": [
        "n=int(input())\n",
        "\n",
        "ans_a_list=[]\n",
        "ans_b_list=[]\n",
        "ans_ab_list=[]\n",
        "for i in range(n):\n",
        "  a, b=map(int, input().split())\n",
        "  ans_a_list.append(a)\n",
        "  ans_b_list.append(b)\n",
        "  ans_ab_list.append(a+b)\n",
        "\n",
        "\n",
        "min_ans_ab=ans_ab_list.index(min(ans_ab_list))\n",
        "ans_a_list.pop(min_ans_ab)\n",
        "ans_b_list.pop(min_ans_ab)\n",
        "\n",
        "ans_a=min(ans_a_list)\n",
        "ans_b=min(ans_b_list)\n",
        "ans_ab=min(ans_ab_list)\n",
        "\n",
        "print(ans_a)\n",
        "print(ans_b)\n",
        "print(ans_ab)\n",
        "\n",
        "print(' ')\n",
        "\n",
        "\n",
        "ab_max=max(ans_a, ans_b)\n",
        "print(ans_ab if ans_ab<=ab_max else ab_max )\n",
        "print(ans_ab)\n",
        "print(ab_max)"
      ]
    }
  ]
}