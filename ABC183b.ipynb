{
  "nbformat": 4,
  "nbformat_minor": 0,
  "metadata": {
    "colab": {
      "provenance": [],
      "authorship_tag": "ABX9TyNDEMScHKycKhONGnADXq+u",
      "include_colab_link": true
    },
    "kernelspec": {
      "name": "python3",
      "display_name": "Python 3"
    },
    "language_info": {
      "name": "python"
    }
  },
  "cells": [
    {
      "cell_type": "markdown",
      "metadata": {
        "id": "view-in-github",
        "colab_type": "text"
      },
      "source": [
        "<a href=\"https://colab.research.google.com/github/Wata-Naoki/atcoder/blob/main/ABC183b.ipynb\" target=\"_parent\"><img src=\"https://colab.research.google.com/assets/colab-badge.svg\" alt=\"Open In Colab\"/></a>"
      ]
    },
    {
      "cell_type": "code",
      "execution_count": null,
      "metadata": {
        "colab": {
          "base_uri": "https://localhost:8080/"
        },
        "id": "8Cg2c6IigQxr",
        "outputId": "40758546-5a2b-46b4-e4cf-7f2322657a81"
      },
      "outputs": [
        {
          "output_type": "stream",
          "name": "stdout",
          "text": [
            "1 1 3 2\n",
            "1.6666666666666665\n"
          ]
        }
      ],
      "source": [
        "sx, sy, gx, gy=map(int, input().split())\n",
        "\n",
        "total_x=gx-sx\n",
        "total_y=gy+sy\n",
        "dx=(sy*total_x)/total_y\n",
        "print(dx+sx)"
      ]
    }
  ]
}