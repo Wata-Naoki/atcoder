{
  "nbformat": 4,
  "nbformat_minor": 0,
  "metadata": {
    "colab": {
      "provenance": [],
      "authorship_tag": "ABX9TyMYW/g+4vxaBNMhh+MPrfYN",
      "include_colab_link": true
    },
    "kernelspec": {
      "name": "python3",
      "display_name": "Python 3"
    },
    "language_info": {
      "name": "python"
    }
  },
  "cells": [
    {
      "cell_type": "markdown",
      "metadata": {
        "id": "view-in-github",
        "colab_type": "text"
      },
      "source": [
        "<a href=\"https://colab.research.google.com/github/Wata-Naoki/atcoder/blob/main/ABC182b.ipynb\" target=\"_parent\"><img src=\"https://colab.research.google.com/assets/colab-badge.svg\" alt=\"Open In Colab\"/></a>"
      ]
    },
    {
      "cell_type": "code",
      "execution_count": null,
      "metadata": {
        "id": "LkXasEYgaf4X"
      },
      "outputs": [],
      "source": []
    },
    {
      "cell_type": "code",
      "source": [
        "n=int(input())\n",
        "a_list=[int(num) for num in input().split()]\n",
        "cal=0\n",
        "ans=0\n",
        "for i in range(2, max(a_list)+1):\n",
        "  count=0\n",
        "  for v in a_list:\n",
        "    if v%i==0:\n",
        "      count+=1\n",
        "  if cal <= count:\n",
        "    cal=count\n",
        "    ans=i\n",
        "\n",
        "print(ans)\n"
      ],
      "metadata": {
        "colab": {
          "base_uri": "https://localhost:8080/"
        },
        "id": "HtqmdkmTb47a",
        "outputId": "47c2d040-5b8a-40d0-87a1-eb34db1ce055"
      },
      "execution_count": 11,
      "outputs": [
        {
          "output_type": "stream",
          "name": "stdout",
          "text": [
            "5\n",
            "1000 1000 1000 1000 1000\n",
            "1000\n"
          ]
        }
      ]
    },
    {
      "cell_type": "code",
      "source": [
        "# a_list=[1000, 0]\n",
        "# for i in range(2, max(a_list)+1):\n",
        "#   print(i)"
      ],
      "metadata": {
        "id": "HdNRrr06ckWS"
      },
      "execution_count": 3,
      "outputs": []
    },
    {
      "cell_type": "code",
      "source": [],
      "metadata": {
        "id": "GKlFmMtwdmYt"
      },
      "execution_count": null,
      "outputs": []
    },
    {
      "cell_type": "code",
      "source": [],
      "metadata": {
        "id": "TprEa_YKdmeo"
      },
      "execution_count": null,
      "outputs": []
    }
  ]
}