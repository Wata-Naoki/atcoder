{
  "nbformat": 4,
  "nbformat_minor": 0,
  "metadata": {
    "colab": {
      "provenance": [],
      "authorship_tag": "ABX9TyMUA+aC0pZk0PguXqQj2SAl",
      "include_colab_link": true
    },
    "kernelspec": {
      "name": "python3",
      "display_name": "Python 3"
    },
    "language_info": {
      "name": "python"
    }
  },
  "cells": [
    {
      "cell_type": "markdown",
      "metadata": {
        "id": "view-in-github",
        "colab_type": "text"
      },
      "source": [
        "<a href=\"https://colab.research.google.com/github/Wata-Naoki/atcoder/blob/main/ABC121B.ipynb\" target=\"_parent\"><img src=\"https://colab.research.google.com/assets/colab-badge.svg\" alt=\"Open In Colab\"/></a>"
      ]
    },
    {
      "cell_type": "code",
      "execution_count": 3,
      "metadata": {
        "id": "AY825lhq9UvO",
        "colab": {
          "base_uri": "https://localhost:8080/"
        },
        "outputId": "311b0e62-4434-453e-cb39-9e6dc04a71da"
      },
      "outputs": [
        {
          "output_type": "stream",
          "name": "stdout",
          "text": [
            "2 3 -10\n",
            "1 2 3\n",
            "3 2 1\n",
            "1 2 2\n",
            "1\n"
          ]
        }
      ],
      "source": [
        "n, m, c=map(int, input().split())\n",
        "b_list=list(map(int, input().split()))\n",
        "total=0\n",
        "\n",
        "for i in range(n):\n",
        "  count=0\n",
        "  m_list=list(map(int, input().split()))\n",
        "  for i, v in enumerate(m_list):\n",
        "    count += v * b_list[i]\n",
        "  if count + c >0:\n",
        "    total +=1\n",
        "\n",
        "print(total)\n"
      ]
    },
    {
      "cell_type": "code",
      "source": [
        "n=[4,5,6]\n",
        "\n",
        "for index, item in enumerate(n):\n",
        "  print(index, item)"
      ],
      "metadata": {
        "colab": {
          "base_uri": "https://localhost:8080/"
        },
        "id": "6XOXQVyECf6u",
        "outputId": "e7c4ecca-0a36-49b4-bd28-297ad6dad4bf"
      },
      "execution_count": 1,
      "outputs": [
        {
          "output_type": "stream",
          "name": "stdout",
          "text": [
            "0 4\n",
            "1 5\n",
            "2 6\n"
          ]
        }
      ]
    }
  ]
}