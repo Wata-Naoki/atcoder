{
  "nbformat": 4,
  "nbformat_minor": 0,
  "metadata": {
    "colab": {
      "provenance": [],
      "authorship_tag": "ABX9TyP/GmVksqARlCB7/KvtRy9y",
      "include_colab_link": true
    },
    "kernelspec": {
      "name": "python3",
      "display_name": "Python 3"
    },
    "language_info": {
      "name": "python"
    }
  },
  "cells": [
    {
      "cell_type": "markdown",
      "metadata": {
        "id": "view-in-github",
        "colab_type": "text"
      },
      "source": [
        "<a href=\"https://colab.research.google.com/github/Wata-Naoki/atcoder/blob/main/ABC197b.ipynb\" target=\"_parent\"><img src=\"https://colab.research.google.com/assets/colab-badge.svg\" alt=\"Open In Colab\"/></a>"
      ]
    },
    {
      "cell_type": "code",
      "execution_count": 3,
      "metadata": {
        "colab": {
          "base_uri": "https://localhost:8080/"
        },
        "id": "SfMt6T8rb9r3",
        "outputId": "03bcef91-3515-43cd-e595-a0bf4228536f"
      },
      "outputs": [
        {
          "output_type": "stream",
          "name": "stdout",
          "text": [
            "4 4 2 2\n",
            "##..\n",
            "...#\n",
            "#.#.\n",
            ".#.#\n",
            "4\n"
          ]
        }
      ],
      "source": [
        "h, w, x, y = map(int,input().split())\n",
        "x -= 1\n",
        "y -= 1\n",
        "\n",
        "S = []\n",
        "for i in range(h):\n",
        "    S.append(input())\n",
        "\n",
        "# 座標(x,y)自身もカウントするので初期値は1\n",
        "ans = 1\n",
        "\n",
        "# 座標(x,y+1)から下方向の探索\n",
        "for i in range(1,101):\n",
        "    if y+i >= w or S[x][y+i] == \"#\":\n",
        "        break\n",
        "    if S[x][y+i] != \"#\":\n",
        "        ans += 1\n",
        "\n",
        "# 座標(x,y-1)から上方向の探索\n",
        "for i in range(1,101):\n",
        "    if y-i < 0 or S[x][y-i] == \"#\":\n",
        "        break\n",
        "    if S[x][y-i] != \"#\":\n",
        "        ans += 1\n",
        "\n",
        "# 座標(x+1,y)から右方向の探索\n",
        "for j in range(1,101):\n",
        "    if x+j >= h or S[x+j][y] == \"#\":\n",
        "        break\n",
        "    if S[x+j][y] != \"#\":\n",
        "        ans += 1\n",
        "\n",
        "# 座標(x-1,y)から左方向の探索\n",
        "for j in range(1,101):\n",
        "    if x-j < 0 or S[x-j][y] == \"#\":\n",
        "        break\n",
        "    if S[x-j][y] != \"#\":\n",
        "        ans += 1\n",
        "\n",
        "print(ans)"
      ]
    },
    {
      "cell_type": "code",
      "source": [],
      "metadata": {
        "id": "jRzMzuKTgfD7"
      },
      "execution_count": null,
      "outputs": []
    },
    {
      "cell_type": "code",
      "source": [
        "\n",
        "\n"
      ],
      "metadata": {
        "colab": {
          "base_uri": "https://localhost:8080/"
        },
        "id": "BkoJresdcvAm",
        "outputId": "382b9e20-4e53-48d9-ae61-664f7c5361c8"
      },
      "execution_count": 1,
      "outputs": [
        {
          "output_type": "stream",
          "name": "stdout",
          "text": [
            "##..\n",
            "##..\n",
            "##..\n",
            "##..\n",
            "##..\n",
            "['##..', '##..', '##..', '##..', '##..']\n"
          ]
        }
      ]
    }
  ]
}