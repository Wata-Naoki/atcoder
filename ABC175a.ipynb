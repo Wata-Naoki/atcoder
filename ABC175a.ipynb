{
  "nbformat": 4,
  "nbformat_minor": 0,
  "metadata": {
    "colab": {
      "provenance": [],
      "authorship_tag": "ABX9TyMFm70zSPlKOGymhP5vKWiS",
      "include_colab_link": true
    },
    "kernelspec": {
      "name": "python3",
      "display_name": "Python 3"
    },
    "language_info": {
      "name": "python"
    }
  },
  "cells": [
    {
      "cell_type": "markdown",
      "metadata": {
        "id": "view-in-github",
        "colab_type": "text"
      },
      "source": [
        "<a href=\"https://colab.research.google.com/github/Wata-Naoki/atcoder/blob/main/ABC175a.ipynb\" target=\"_parent\"><img src=\"https://colab.research.google.com/assets/colab-badge.svg\" alt=\"Open In Colab\"/></a>"
      ]
    },
    {
      "cell_type": "code",
      "source": [
        "s=input()\n",
        "if s=='RRR':\n",
        "  print(3)\n",
        "elif s.count('R')==0:\n",
        "  print(0)\n",
        "elif s=='RRS' or s=='SRR':\n",
        "  print(2)\n",
        "elif s.count('R')==1 or 'RSR':\n",
        "  print(1)\n"
      ],
      "metadata": {
        "colab": {
          "base_uri": "https://localhost:8080/"
        },
        "id": "PgZdzlT4qHDy",
        "outputId": "6734258f-9bc2-4771-db93-46bef3fa8319"
      },
      "execution_count": 13,
      "outputs": [
        {
          "output_type": "stream",
          "name": "stdout",
          "text": [
            "RSR\n",
            "1\n"
          ]
        }
      ]
    },
    {
      "cell_type": "code",
      "source": [
        "s=int(input())\n",
        "if s=='RRR':\n",
        "  print(3)\n",
        "elif s.count('R')==0:\n",
        "  print(0)\n",
        "elif s.count('R')==1:\n",
        "  print(1)\n",
        "else:\n",
        "  print(2)\n",
        "\n"
      ],
      "metadata": {
        "id": "MG68AoKGpaRQ"
      },
      "execution_count": null,
      "outputs": []
    },
    {
      "cell_type": "code",
      "source": [
        "s='RRR'\n",
        "print(s.count('R'))"
      ],
      "metadata": {
        "id": "TjF_utimpcYD",
        "colab": {
          "base_uri": "https://localhost:8080/"
        },
        "outputId": "fbf9f933-50e7-428e-e60f-9c02758e7c79"
      },
      "execution_count": 3,
      "outputs": [
        {
          "output_type": "stream",
          "name": "stdout",
          "text": [
            "3\n"
          ]
        }
      ]
    }
  ]
}