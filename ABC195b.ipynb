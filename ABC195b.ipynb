{
  "nbformat": 4,
  "nbformat_minor": 0,
  "metadata": {
    "colab": {
      "provenance": [],
      "authorship_tag": "ABX9TyM5nYTkNyILpQjUuqNEMCSr",
      "include_colab_link": true
    },
    "kernelspec": {
      "name": "python3",
      "display_name": "Python 3"
    },
    "language_info": {
      "name": "python"
    }
  },
  "cells": [
    {
      "cell_type": "markdown",
      "metadata": {
        "id": "view-in-github",
        "colab_type": "text"
      },
      "source": [
        "<a href=\"https://colab.research.google.com/github/Wata-Naoki/atcoder/blob/main/ABC195b.ipynb\" target=\"_parent\"><img src=\"https://colab.research.google.com/assets/colab-badge.svg\" alt=\"Open In Colab\"/></a>"
      ]
    },
    {
      "cell_type": "code",
      "execution_count": null,
      "metadata": {
        "id": "s04gmJ6voFZN"
      },
      "outputs": [],
      "source": [
        "A, B, _W = map(int, input().split())\n",
        "W = 1000 * _W  # 先にグラムに変換しておきます\n",
        "\n",
        "mn = float('INF')  # 正の無限大です\n",
        "mx = -1\n",
        "for n in range(1, 10 ** 6 + 100):\n",
        "    l = A * n\n",
        "    r = B * n\n",
        "    if l <= W <= r:\n",
        "        mn = min(mn, n)\n",
        "        mx = max(mx, n)\n",
        "\n",
        "if mx == -1:\n",
        "    print('UNSATISFIABLE')\n",
        "else:\n",
        "    # 最大値か最小値のどちらかしか見つからないことはありません\n",
        "    print(mn, mx)"
      ]
    }
  ]
}