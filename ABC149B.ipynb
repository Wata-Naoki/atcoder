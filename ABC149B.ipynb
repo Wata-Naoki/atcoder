{
  "nbformat": 4,
  "nbformat_minor": 0,
  "metadata": {
    "colab": {
      "provenance": [],
      "authorship_tag": "ABX9TyPbzoAz2sDPaDJq8IX2Y9zW",
      "include_colab_link": true
    },
    "kernelspec": {
      "name": "python3",
      "display_name": "Python 3"
    },
    "language_info": {
      "name": "python"
    }
  },
  "cells": [
    {
      "cell_type": "markdown",
      "metadata": {
        "id": "view-in-github",
        "colab_type": "text"
      },
      "source": [
        "<a href=\"https://colab.research.google.com/github/Wata-Naoki/atcoder/blob/main/ABC149B.ipynb\" target=\"_parent\"><img src=\"https://colab.research.google.com/assets/colab-badge.svg\" alt=\"Open In Colab\"/></a>"
      ]
    },
    {
      "cell_type": "code",
      "execution_count": 7,
      "metadata": {
        "id": "UKthJUKWfdxP",
        "colab": {
          "base_uri": "https://localhost:8080/"
        },
        "outputId": "aafaace6-c500-46c7-c984-5215277f4701"
      },
      "outputs": [
        {
          "output_type": "stream",
          "name": "stdout",
          "text": [
            "500000000000 500000000000 1000000000000\n",
            "0 0\n"
          ]
        }
      ],
      "source": [
        "a, b, k = map(int, input().split())\n",
        "if a >= k:\n",
        "  print(a-k, b)\n",
        "elif a < k and b >=k-a:\n",
        "  print(0, b-k+a)\n",
        "else:\n",
        "  print(0,0)"
      ]
    }
  ]
}