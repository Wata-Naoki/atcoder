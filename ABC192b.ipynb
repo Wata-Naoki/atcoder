{
  "nbformat": 4,
  "nbformat_minor": 0,
  "metadata": {
    "colab": {
      "provenance": [],
      "authorship_tag": "ABX9TyO53AR/QIlXXbQiCNjMb3lX",
      "include_colab_link": true
    },
    "kernelspec": {
      "name": "python3",
      "display_name": "Python 3"
    },
    "language_info": {
      "name": "python"
    }
  },
  "cells": [
    {
      "cell_type": "markdown",
      "metadata": {
        "id": "view-in-github",
        "colab_type": "text"
      },
      "source": [
        "<a href=\"https://colab.research.google.com/github/Wata-Naoki/atcoder/blob/main/ABC192b.ipynb\" target=\"_parent\"><img src=\"https://colab.research.google.com/assets/colab-badge.svg\" alt=\"Open In Colab\"/></a>"
      ]
    },
    {
      "cell_type": "code",
      "execution_count": 24,
      "metadata": {
        "colab": {
          "base_uri": "https://localhost:8080/"
        },
        "id": "UzUWezEfbEZ9",
        "outputId": "fe0162ff-b382-490f-db8f-4c659ff42bd8"
      },
      "outputs": [
        {
          "output_type": "stream",
          "name": "stdout",
          "text": [
            "V\n",
            "0\n",
            "No\n"
          ]
        }
      ],
      "source": [
        "s = input()\n",
        "\n",
        "for i in range(len(s)):\n",
        "    if i % 2 == 0:\n",
        "        if s[i].isupper():\n",
        "            print(\"No\")\n",
        "            break\n",
        "    elif i % 2 == 1:\n",
        "        if s[i].islower():\n",
        "            print(\"No\")\n",
        "            break\n",
        "else:\n",
        "    print(\"Yes\")"
      ]
    },
    {
      "cell_type": "code",
      "source": [
        "print(0%2)"
      ],
      "metadata": {
        "colab": {
          "base_uri": "https://localhost:8080/"
        },
        "id": "S_gIGN6xcox-",
        "outputId": "e40c1555-f02e-4fed-8bb8-7ba13faf3695"
      },
      "execution_count": 25,
      "outputs": [
        {
          "output_type": "stream",
          "name": "stdout",
          "text": [
            "0\n"
          ]
        }
      ]
    }
  ]
}