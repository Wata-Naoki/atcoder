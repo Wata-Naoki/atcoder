{
  "nbformat": 4,
  "nbformat_minor": 0,
  "metadata": {
    "colab": {
      "provenance": [],
      "authorship_tag": "ABX9TyP+ffB+BUHcRsJIH+t8fvaq",
      "include_colab_link": true
    },
    "kernelspec": {
      "name": "python3",
      "display_name": "Python 3"
    },
    "language_info": {
      "name": "python"
    }
  },
  "cells": [
    {
      "cell_type": "markdown",
      "metadata": {
        "id": "view-in-github",
        "colab_type": "text"
      },
      "source": [
        "<a href=\"https://colab.research.google.com/github/Wata-Naoki/atcoder/blob/main/ABC189c.ipynb\" target=\"_parent\"><img src=\"https://colab.research.google.com/assets/colab-badge.svg\" alt=\"Open In Colab\"/></a>"
      ]
    },
    {
      "cell_type": "code",
      "source": [
        "n = int(input())\n",
        "a =list(map(int,input().split()))\n",
        "ans = 0\n",
        "\n",
        "for l in range(n):\n",
        "    x = a[l]\n",
        "    for r in range(l,n):\n",
        "        x = min(x,a[r])\n",
        "        ans = max(x*(r-l+1),ans)\n",
        "print(ans)"
      ],
      "metadata": {
        "id": "LT4hXEuG3pM5"
      },
      "execution_count": null,
      "outputs": []
    },
    {
      "cell_type": "code",
      "execution_count": 24,
      "metadata": {
        "colab": {
          "base_uri": "https://localhost:8080/"
        },
        "id": "-rdi9CrCYjMj",
        "outputId": "79657c1f-a6c8-48e3-df5a-c037609744f1"
      },
      "outputs": [
        {
          "output_type": "stream",
          "name": "stdout",
          "text": [
            "6\n",
            "200 4 4 9 4 9\n",
            "200\n"
          ]
        }
      ],
      "source": [
        "cal_list=[]\n",
        "\n",
        "def main(n, n_list):\n",
        "\n",
        "  for i in range(n):\n",
        "    for k in range(1, (n-i)+1):\n",
        "      min_val=min(n_list[i:k+i])\n",
        "      # print(n_list[i:k+i])\n",
        "      min_total_val=min_val*len(n_list[i:k+i])\n",
        "      # print(min_total_val)\n",
        "      cal_list.append(min_total_val)\n",
        "  return max(cal_list)\n",
        "\n",
        "n=int(input())\n",
        "n_list=[int(n) for n in input().split()]\n",
        "print(main(n, n_list))\n",
        "\n"
      ]
    },
    {
      "cell_type": "code",
      "source": [
        "l = ['Alice', 'Bob', 'Charlie', 'Bob', 'Dave']\n",
        "l2=l\n",
        "l3=l2\n",
        "l3.remove('Alice')\n",
        "print(l2)\n",
        "print(l)"
      ],
      "metadata": {
        "colab": {
          "base_uri": "https://localhost:8080/"
        },
        "id": "5qvuv3od0Gpt",
        "outputId": "b9d76f32-f7ae-4ea4-f908-a4e8bfec0ceb"
      },
      "execution_count": 22,
      "outputs": [
        {
          "output_type": "stream",
          "name": "stdout",
          "text": [
            "['Bob', 'Charlie', 'Bob', 'Dave']\n",
            "['Bob', 'Charlie', 'Bob', 'Dave']\n"
          ]
        }
      ]
    },
    {
      "cell_type": "code",
      "source": [
        "a=[1, 2, 3, 4]\n",
        "print(a[0:1])\n",
        "print(a[1:2+1])\n",
        "print(a[0:3+1])\n",
        "print(a[0:1])"
      ],
      "metadata": {
        "colab": {
          "base_uri": "https://localhost:8080/"
        },
        "id": "Qqf-vrCorHzH",
        "outputId": "bf4af471-3e41-4527-a593-9a9be0e41b09"
      },
      "execution_count": 4,
      "outputs": [
        {
          "output_type": "stream",
          "name": "stdout",
          "text": [
            "[1]\n",
            "[2, 3]\n",
            "[1, 2, 3, 4]\n",
            "[1]\n"
          ]
        }
      ]
    }
  ]
}