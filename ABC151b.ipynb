{
  "nbformat": 4,
  "nbformat_minor": 0,
  "metadata": {
    "colab": {
      "provenance": [],
      "authorship_tag": "ABX9TyNVn49tO/X0Th4SSLSE6SJ+",
      "include_colab_link": true
    },
    "kernelspec": {
      "name": "python3",
      "display_name": "Python 3"
    },
    "language_info": {
      "name": "python"
    }
  },
  "cells": [
    {
      "cell_type": "markdown",
      "metadata": {
        "id": "view-in-github",
        "colab_type": "text"
      },
      "source": [
        "<a href=\"https://colab.research.google.com/github/Wata-Naoki/atcoder/blob/main/ABC151b.ipynb\" target=\"_parent\"><img src=\"https://colab.research.google.com/assets/colab-badge.svg\" alt=\"Open In Colab\"/></a>"
      ]
    },
    {
      "cell_type": "code",
      "source": [
        "n,k,m = map(int, input().split())\n",
        "a = list(map(int, input().split()))\n",
        "\n",
        "b=m*n-sum(a)\n",
        "\n",
        "if b <= k:\n",
        "  if b <= 0:\n",
        "    print(0)\n",
        "  else:\n",
        "    print(b)\n",
        "else:\n",
        "  print(-1)"
      ],
      "metadata": {
        "colab": {
          "base_uri": "https://localhost:8080/"
        },
        "id": "R12Oll2v5fze",
        "outputId": "e3ff1cf2-eece-41a6-bc08-26fd395b4586"
      },
      "execution_count": 15,
      "outputs": [
        {
          "output_type": "stream",
          "name": "stdout",
          "text": [
            "5 10 7\n",
            "8 10 3 6\n",
            "8\n"
          ]
        }
      ]
    }
  ]
}