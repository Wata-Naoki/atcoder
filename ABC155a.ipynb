{
  "nbformat": 4,
  "nbformat_minor": 0,
  "metadata": {
    "colab": {
      "provenance": [],
      "authorship_tag": "ABX9TyOSuJre+fH39pI/cJFjHaWK",
      "include_colab_link": true
    },
    "kernelspec": {
      "name": "python3",
      "display_name": "Python 3"
    },
    "language_info": {
      "name": "python"
    }
  },
  "cells": [
    {
      "cell_type": "markdown",
      "metadata": {
        "id": "view-in-github",
        "colab_type": "text"
      },
      "source": [
        "<a href=\"https://colab.research.google.com/github/Wata-Naoki/atcoder/blob/main/ABC155a.ipynb\" target=\"_parent\"><img src=\"https://colab.research.google.com/assets/colab-badge.svg\" alt=\"Open In Colab\"/></a>"
      ]
    },
    {
      "cell_type": "code",
      "execution_count": 4,
      "metadata": {
        "colab": {
          "base_uri": "https://localhost:8080/"
        },
        "id": "GBzLWMoDIzdx",
        "outputId": "8e14215a-4098-47d8-9814-3874d45fd207"
      },
      "outputs": [
        {
          "output_type": "stream",
          "name": "stdout",
          "text": [
            "5 7 5\n",
            "Yes\n"
          ]
        }
      ],
      "source": [
        "input_list=[int(v) for v in input().split()]\n",
        "print(\"Yes\" if len(set(input_list))==len(input_list)-1 else \"No\")"
      ]
    },
    {
      "cell_type": "code",
      "source": [
        "input_list=[0, 1, 1]\n",
        "print()"
      ],
      "metadata": {
        "id": "k52wV8aOLpb7"
      },
      "execution_count": null,
      "outputs": []
    }
  ]
}