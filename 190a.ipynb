{
  "nbformat": 4,
  "nbformat_minor": 0,
  "metadata": {
    "colab": {
      "provenance": [],
      "authorship_tag": "ABX9TyNqZqisEIsY4ZkJo7UFM7sA",
      "include_colab_link": true
    },
    "kernelspec": {
      "name": "python3",
      "display_name": "Python 3"
    },
    "language_info": {
      "name": "python"
    }
  },
  "cells": [
    {
      "cell_type": "markdown",
      "metadata": {
        "id": "view-in-github",
        "colab_type": "text"
      },
      "source": [
        "<a href=\"https://colab.research.google.com/github/Wata-Naoki/atcoder/blob/main/190a.ipynb\" target=\"_parent\"><img src=\"https://colab.research.google.com/assets/colab-badge.svg\" alt=\"Open In Colab\"/></a>"
      ]
    },
    {
      "cell_type": "code",
      "execution_count": 6,
      "metadata": {
        "colab": {
          "base_uri": "https://localhost:8080/"
        },
        "id": "EFAfh2zyY37p",
        "outputId": "3784e265-37df-429c-8b17-6bead504689d"
      },
      "outputs": [
        {
          "output_type": "stream",
          "name": "stdout",
          "text": [
            "2 2 1\n",
            "Takahashi\n"
          ]
        }
      ],
      "source": [
        "a, b, c=map(int, input().split())\n",
        "\n",
        "pare_dict={a:'Takahashi', b:'Aoki'}\n",
        "\n",
        "if a==b:\n",
        "  if c==0:\n",
        "    print('Aoki')\n",
        "  else:\n",
        "    print('Takahashi')\n",
        "else:\n",
        "  ans=(max(a, b))\n",
        "  print(pare_dict.get(ans, 0))\n"
      ]
    },
    {
      "cell_type": "code",
      "source": [
        "dict1={1:\"ooo\"}\n",
        "print(dict1.get(1, 0))"
      ],
      "metadata": {
        "colab": {
          "base_uri": "https://localhost:8080/"
        },
        "id": "CubFF8DBdWvU",
        "outputId": "98a37a49-1a2e-4df6-dff7-66a8e27cec91"
      },
      "execution_count": 3,
      "outputs": [
        {
          "output_type": "stream",
          "name": "stdout",
          "text": [
            "ooo\n"
          ]
        }
      ]
    }
  ]
}