{
  "nbformat": 4,
  "nbformat_minor": 0,
  "metadata": {
    "colab": {
      "provenance": [],
      "authorship_tag": "ABX9TyNr1Ovh5UQG8hWt1qv0Ru2w",
      "include_colab_link": true
    },
    "kernelspec": {
      "name": "python3",
      "display_name": "Python 3"
    },
    "language_info": {
      "name": "python"
    }
  },
  "cells": [
    {
      "cell_type": "markdown",
      "metadata": {
        "id": "view-in-github",
        "colab_type": "text"
      },
      "source": [
        "<a href=\"https://colab.research.google.com/github/Wata-Naoki/atcoder/blob/main/abc160b.ipynb\" target=\"_parent\"><img src=\"https://colab.research.google.com/assets/colab-badge.svg\" alt=\"Open In Colab\"/></a>"
      ]
    },
    {
      "cell_type": "code",
      "source": [
        "x = int(input())\n",
        "cnt = x//500*1000\n",
        "x %= 500\n",
        "cnt += x//5*5\n",
        "print(cnt)"
      ],
      "metadata": {
        "colab": {
          "base_uri": "https://localhost:8080/"
        },
        "id": "Oxuv3-lNCxVQ",
        "outputId": "0f2594c4-af71-4bff-c20a-484c2c9cfcd4"
      },
      "execution_count": 13,
      "outputs": [
        {
          "output_type": "stream",
          "name": "stdout",
          "text": [
            "1024\n",
            "4\n",
            "2020\n"
          ]
        }
      ]
    },
    {
      "cell_type": "code",
      "execution_count": 11,
      "metadata": {
        "colab": {
          "base_uri": "https://localhost:8080/"
        },
        "id": "mK1Z-DAgblV2",
        "outputId": "220c0978-19c3-4e0a-eef0-7786faf521a3"
      },
      "outputs": [
        {
          "output_type": "stream",
          "name": "stdout",
          "text": [
            "2439\n",
            "39\n",
            "7\n",
            "4\n",
            "4035\n"
          ]
        }
      ],
      "source": [
        "n=input()\n",
        "n_num = int(n)\n",
        "n_yen = int(n[-2:])\n",
        "five_hundred = n_num//500\n",
        "five_yen = n_yen//5\n",
        "print(n[-2:])\n",
        "print(five_yen)\n",
        "print(five_hundred)\n",
        "if n[-2:]=='00' or five_yen == 0:\n",
        "  print(five_hundred*1000)\n",
        "else:\n",
        "  print(five_hundred*1000 + five_yen*5)\n",
        "\n"
      ]
    },
    {
      "cell_type": "code",
      "source": [
        "s=str(1000)\n",
        "print(int(s[-2:]))"
      ],
      "metadata": {
        "colab": {
          "base_uri": "https://localhost:8080/"
        },
        "id": "QHERMD8oxwzq",
        "outputId": "71472206-2b7e-48f6-f528-4367856a9437"
      },
      "execution_count": 4,
      "outputs": [
        {
          "output_type": "stream",
          "name": "stdout",
          "text": [
            "0\n"
          ]
        }
      ]
    },
    {
      "cell_type": "code",
      "source": [
        "print(1024//500)"
      ],
      "metadata": {
        "colab": {
          "base_uri": "https://localhost:8080/"
        },
        "id": "N0kUMGHRr7LD",
        "outputId": "5fd2606b-d1ef-4702-dc99-ad916615d103"
      },
      "execution_count": null,
      "outputs": [
        {
          "output_type": "stream",
          "name": "stdout",
          "text": [
            "2\n"
          ]
        }
      ]
    },
    {
      "cell_type": "code",
      "source": [
        "print(24//5)"
      ],
      "metadata": {
        "colab": {
          "base_uri": "https://localhost:8080/"
        },
        "id": "mXPMDmQos0gR",
        "outputId": "e33fcacb-8bf3-46ca-b93e-cc84e7ddd9da"
      },
      "execution_count": null,
      "outputs": [
        {
          "output_type": "stream",
          "name": "stdout",
          "text": [
            "4\n"
          ]
        }
      ]
    }
  ]
}