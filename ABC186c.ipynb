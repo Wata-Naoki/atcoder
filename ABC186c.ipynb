{
  "nbformat": 4,
  "nbformat_minor": 0,
  "metadata": {
    "colab": {
      "provenance": [],
      "authorship_tag": "ABX9TyPZ3H0UmYP1oxYLChCXPibL",
      "include_colab_link": true
    },
    "kernelspec": {
      "name": "python3",
      "display_name": "Python 3"
    },
    "language_info": {
      "name": "python"
    }
  },
  "cells": [
    {
      "cell_type": "markdown",
      "metadata": {
        "id": "view-in-github",
        "colab_type": "text"
      },
      "source": [
        "<a href=\"https://colab.research.google.com/github/Wata-Naoki/atcoder/blob/main/ABC186c.ipynb\" target=\"_parent\"><img src=\"https://colab.research.google.com/assets/colab-badge.svg\" alt=\"Open In Colab\"/></a>"
      ]
    },
    {
      "cell_type": "code",
      "execution_count": null,
      "metadata": {
        "id": "kvn9Q6dNJeFY"
      },
      "outputs": [],
      "source": []
    },
    {
      "cell_type": "code",
      "source": [
        "n=int(input())\n",
        "\n",
        "count=0\n",
        "for i in range(1, n+1):\n",
        "  if '7' in str(i):\n",
        "    count+=1\n",
        "  else:\n",
        "    if '7' in format(i, 'o'):   \n",
        "      count +=1\n",
        "\n",
        "print(n-count)"
      ],
      "metadata": {
        "colab": {
          "base_uri": "https://localhost:8080/"
        },
        "id": "Xl6N7ghLU-aJ",
        "outputId": "58b50a5d-0740-4326-d13d-0e8137d24423"
      },
      "execution_count": 19,
      "outputs": [
        {
          "output_type": "stream",
          "name": "stdout",
          "text": [
            "100000\n",
            "30555\n"
          ]
        }
      ]
    },
    {
      "cell_type": "code",
      "source": [
        "n=int(input())\n",
        "\n",
        "count=0\n",
        "eight_list=[]\n",
        "for i in range(1, n+1):\n",
        "  if '7' in str(i):\n",
        "    count+=1\n",
        "  else:\n",
        "    if (8*i)-1 <= n:\n",
        "      eight_list.append((8*i)-1)\n",
        "    if i in eight_list:\n",
        "      count +=1\n",
        "\n",
        "print(n-count)\n",
        "\n",
        "\n"
      ],
      "metadata": {
        "colab": {
          "base_uri": "https://localhost:8080/"
        },
        "id": "eMU87wtpU-c8",
        "outputId": "d17b1d94-9468-4c53-f208-08f94ebdfe99"
      },
      "execution_count": 17,
      "outputs": [
        {
          "output_type": "stream",
          "name": "stdout",
          "text": [
            "100000\n",
            "55105\n"
          ]
        }
      ]
    },
    {
      "cell_type": "code",
      "source": [
        "a=1\n",
        "\n",
        "for i in range(100000):\n",
        "  a+=i\n",
        "\n",
        "print(a)"
      ],
      "metadata": {
        "colab": {
          "base_uri": "https://localhost:8080/"
        },
        "id": "KGg422LTU-fM",
        "outputId": "18434af1-4fd4-4933-bd8e-7f308cf35ecf"
      },
      "execution_count": 2,
      "outputs": [
        {
          "output_type": "stream",
          "name": "stdout",
          "text": [
            "4999950001\n"
          ]
        }
      ]
    }
  ]
}