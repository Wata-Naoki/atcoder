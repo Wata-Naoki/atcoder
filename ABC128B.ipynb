{
  "nbformat": 4,
  "nbformat_minor": 0,
  "metadata": {
    "colab": {
      "provenance": [],
      "authorship_tag": "ABX9TyO76TaQL+Z7BCbbWcBB26kZ",
      "include_colab_link": true
    },
    "kernelspec": {
      "name": "python3",
      "display_name": "Python 3"
    },
    "language_info": {
      "name": "python"
    }
  },
  "cells": [
    {
      "cell_type": "markdown",
      "metadata": {
        "id": "view-in-github",
        "colab_type": "text"
      },
      "source": [
        "<a href=\"https://colab.research.google.com/github/Wata-Naoki/atcoder/blob/main/ABC128B.ipynb\" target=\"_parent\"><img src=\"https://colab.research.google.com/assets/colab-badge.svg\" alt=\"Open In Colab\"/></a>"
      ]
    },
    {
      "cell_type": "code",
      "execution_count": 5,
      "metadata": {
        "id": "GimrqIAyx7fM",
        "colab": {
          "base_uri": "https://localhost:8080/"
        },
        "outputId": "c6728685-3339-4888-ccd3-06551475f6c5"
      },
      "outputs": [
        {
          "output_type": "stream",
          "name": "stdout",
          "text": [
            "6\n",
            "khabarovsk 20\n",
            "moscow 10\n",
            "kazan 50\n",
            "kazan 35\n",
            "moscow 60\n",
            "khabarovsk 40\n",
            "[['khabarovsk', 20, 1], ['moscow', 10, 2], ['kazan', 50, 3], ['kazan', 35, 4], ['moscow', 60, 5], ['khabarovsk', 40, 6]]\n",
            "[['kazan', 50, 3], ['kazan', 35, 4], ['khabarovsk', 40, 6], ['khabarovsk', 20, 1], ['moscow', 60, 5], ['moscow', 10, 2]]\n",
            "3\n",
            "4\n",
            "6\n",
            "1\n",
            "5\n",
            "2\n"
          ]
        }
      ],
      "source": [
        "n=int(input())\n",
        "\n",
        "data=[]\n",
        "\n",
        "for i in range(n):\n",
        "  name, num=map(str, input().split())\n",
        "  # print(name, num)\n",
        "  num=int(num)\n",
        "  data.append([name, num, i+1])\n",
        "\n",
        "# print(data)\n",
        "\n",
        "sorted_data=sorted(data, key=lambda x: (x[0], -x[1]))\n",
        "\n",
        "# print(sorted_data)\n",
        "\n",
        "for d in sorted_data:\n",
        "  print(d[2])\n",
        "\n",
        "\n"
      ]
    }
  ]
}