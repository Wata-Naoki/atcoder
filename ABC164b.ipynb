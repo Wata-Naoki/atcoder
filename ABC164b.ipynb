{
  "nbformat": 4,
  "nbformat_minor": 0,
  "metadata": {
    "colab": {
      "provenance": [],
      "authorship_tag": "ABX9TyOrwYLTDKeDGKhqw09irQU7",
      "include_colab_link": true
    },
    "kernelspec": {
      "name": "python3",
      "display_name": "Python 3"
    },
    "language_info": {
      "name": "python"
    }
  },
  "cells": [
    {
      "cell_type": "markdown",
      "metadata": {
        "id": "view-in-github",
        "colab_type": "text"
      },
      "source": [
        "<a href=\"https://colab.research.google.com/github/Wata-Naoki/atcoder/blob/main/ABC164b.ipynb\" target=\"_parent\"><img src=\"https://colab.research.google.com/assets/colab-badge.svg\" alt=\"Open In Colab\"/></a>"
      ]
    },
    {
      "cell_type": "code",
      "execution_count": 3,
      "metadata": {
        "colab": {
          "base_uri": "https://localhost:8080/"
        },
        "id": "ySdIGp5u_UqI",
        "outputId": "1df01ea8-3d52-43fb-f93c-4804c089fc9e"
      },
      "outputs": [
        {
          "output_type": "stream",
          "name": "stdout",
          "text": [
            "4\n",
            "aaaa\n",
            "a\n",
            "aaa\n",
            "aa\n",
            "4\n"
          ]
        }
      ],
      "source": [
        "n=int(input())\n",
        "selected_list = []\n",
        "for i in range(n):\n",
        "  selected_list.append(input())\n",
        "print(len(set(selected_list)))\n",
        "\n"
      ]
    }
  ]
}