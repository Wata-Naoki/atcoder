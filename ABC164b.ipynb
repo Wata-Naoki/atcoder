{
  "nbformat": 4,
  "nbformat_minor": 0,
  "metadata": {
    "colab": {
      "provenance": [],
      "authorship_tag": "ABX9TyPUubnA2kxyhGg84q7WIFnc",
      "include_colab_link": true
    },
    "kernelspec": {
      "name": "python3",
      "display_name": "Python 3"
    },
    "language_info": {
      "name": "python"
    }
  },
  "cells": [
    {
      "cell_type": "markdown",
      "metadata": {
        "id": "view-in-github",
        "colab_type": "text"
      },
      "source": [
        "<a href=\"https://colab.research.google.com/github/Wata-Naoki/atcoder/blob/main/ABC164b.ipynb\" target=\"_parent\"><img src=\"https://colab.research.google.com/assets/colab-badge.svg\" alt=\"Open In Colab\"/></a>"
      ]
    },
    {
      "cell_type": "code",
      "execution_count": 5,
      "metadata": {
        "colab": {
          "base_uri": "https://localhost:8080/"
        },
        "id": "5tn4KtSny9lJ",
        "outputId": "650cdfd0-4777-4b2d-ab17-f495eb8d092e"
      },
      "outputs": [
        {
          "output_type": "stream",
          "name": "stdout",
          "text": [
            "46 4 40 5\n",
            "36\n",
            "41\n",
            "32\n",
            "36\n",
            "28\n",
            "31\n",
            "24\n",
            "26\n",
            "20\n",
            "21\n",
            "16\n",
            "16\n",
            "12\n",
            "11\n",
            "8\n",
            "6\n",
            "4\n",
            "1\n",
            "0\n",
            "Yes\n"
          ]
        }
      ],
      "source": [
        "a,b,c,d=map(int, input().split())\n",
        "\n",
        "while a>0 or c>0:\n",
        "  c -= b\n",
        "  if c<=0:\n",
        "    print('Yes')\n",
        "    break\n",
        "  a -= d\n",
        "  if a<=0:\n",
        "    print('No')\n",
        "    break\n"
      ]
    },
    {
      "cell_type": "code",
      "source": [],
      "metadata": {
        "id": "2BxBMOUc4t8N"
      },
      "execution_count": null,
      "outputs": []
    }
  ]
}