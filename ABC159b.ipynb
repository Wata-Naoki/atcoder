{
  "nbformat": 4,
  "nbformat_minor": 0,
  "metadata": {
    "colab": {
      "provenance": [],
      "authorship_tag": "ABX9TyOoeXQlV3TytE2RIRwgUiv3",
      "include_colab_link": true
    },
    "kernelspec": {
      "name": "python3",
      "display_name": "Python 3"
    },
    "language_info": {
      "name": "python"
    }
  },
  "cells": [
    {
      "cell_type": "markdown",
      "metadata": {
        "id": "view-in-github",
        "colab_type": "text"
      },
      "source": [
        "<a href=\"https://colab.research.google.com/github/Wata-Naoki/atcoder/blob/main/ABC159b.ipynb\" target=\"_parent\"><img src=\"https://colab.research.google.com/assets/colab-badge.svg\" alt=\"Open In Colab\"/></a>"
      ]
    },
    {
      "cell_type": "code",
      "execution_count": 13,
      "metadata": {
        "id": "AdOoulguMEIJ",
        "colab": {
          "base_uri": "https://localhost:8080/"
        },
        "outputId": "d74e00b0-25b5-413f-b577-826508f18313"
      },
      "outputs": [
        {
          "output_type": "stream",
          "name": "stdout",
          "text": [
            "akasaka\n",
            "Yes\n"
          ]
        }
      ],
      "source": [
        "st=input()\n",
        "le=len(st)\n",
        "le_bf = (le-1)//2\n",
        "le_af = (le+3)//2\n",
        "st_be = st[:le_bf]\n",
        "st_af = st[le_af-1:] \n",
        "count=0\n",
        "if str(st_be) == \"\".join(reversed(st_be)) :\n",
        "    count += 1\n",
        "if str(st_af) == \"\".join(reversed(st_af)) :\n",
        "  count +=1\n",
        "\n",
        "print(\"Yes\" if count==2 else \"No\")"
      ]
    },
    {
      "cell_type": "code",
      "source": [
        "s = input()\n",
        "n = len(s)\n",
        "s = [s[i] for i in range(n)]\n",
        "\n",
        "l = (n - 1) // 2\n",
        "r = (n + 3) // 2\n",
        "\n",
        "left = s[:l]\n",
        "right = s[r - 1:]\n",
        "\n",
        "if s == list(reversed(s)) and left == list(reversed(left)) and right == list(reversed(right)):\n",
        "    print('Yes')\n",
        "else:\n",
        "    print('No')"
      ],
      "metadata": {
        "id": "-hlBb4G1sstl"
      },
      "execution_count": null,
      "outputs": []
    },
    {
      "cell_type": "code",
      "source": [
        "word = input()\n",
        "if str(word) == \"\".join(reversed(word)) :\n",
        "    print(\"Palindrome\")\n",
        "else:\n",
        "    print(\"Not Palindrome\")"
      ],
      "metadata": {
        "id": "hmC0cImocNAx"
      },
      "execution_count": null,
      "outputs": []
    }
  ]
}