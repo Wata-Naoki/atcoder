{
  "nbformat": 4,
  "nbformat_minor": 0,
  "metadata": {
    "colab": {
      "provenance": [],
      "authorship_tag": "ABX9TyN1BIWeHHMUyBo6Hm9fgN9t",
      "include_colab_link": true
    },
    "kernelspec": {
      "name": "python3",
      "display_name": "Python 3"
    },
    "language_info": {
      "name": "python"
    }
  },
  "cells": [
    {
      "cell_type": "markdown",
      "metadata": {
        "id": "view-in-github",
        "colab_type": "text"
      },
      "source": [
        "<a href=\"https://colab.research.google.com/github/Wata-Naoki/atcoder/blob/main/ABC194a.ipynb\" target=\"_parent\"><img src=\"https://colab.research.google.com/assets/colab-badge.svg\" alt=\"Open In Colab\"/></a>"
      ]
    },
    {
      "cell_type": "code",
      "execution_count": 1,
      "metadata": {
        "colab": {
          "base_uri": "https://localhost:8080/"
        },
        "id": "XMfimILsOzUL",
        "outputId": "e643c139-a373-4a09-88a9-8e5725f6121e"
      },
      "outputs": [
        {
          "output_type": "stream",
          "name": "stdout",
          "text": [
            "10 8\n",
            "1\n"
          ]
        }
      ],
      "source": [
        "a, b=map(int, input().split())\n",
        "\n",
        "if a+b>=15 and b >=8:\n",
        "  print(1)\n",
        "elif a+b>=10 and b>=3:\n",
        "  print(2)\n",
        "elif b>=3:\n",
        "  print(3)\n",
        "else:\n",
        "  print(4)"
      ]
    }
  ]
}