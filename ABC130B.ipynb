{
  "nbformat": 4,
  "nbformat_minor": 0,
  "metadata": {
    "colab": {
      "provenance": [],
      "authorship_tag": "ABX9TyOIewd18YorfkmdRve2ePHu",
      "include_colab_link": true
    },
    "kernelspec": {
      "name": "python3",
      "display_name": "Python 3"
    },
    "language_info": {
      "name": "python"
    }
  },
  "cells": [
    {
      "cell_type": "markdown",
      "metadata": {
        "id": "view-in-github",
        "colab_type": "text"
      },
      "source": [
        "<a href=\"https://colab.research.google.com/github/Wata-Naoki/atcoder/blob/main/ABC130B.ipynb\" target=\"_parent\"><img src=\"https://colab.research.google.com/assets/colab-badge.svg\" alt=\"Open In Colab\"/></a>"
      ]
    },
    {
      "cell_type": "code",
      "execution_count": 9,
      "metadata": {
        "id": "BGY4tw_h6IsB",
        "colab": {
          "base_uri": "https://localhost:8080/"
        },
        "outputId": "063a1f1f-f278-4c85-adde-6e574b271d24"
      },
      "outputs": [
        {
          "output_type": "stream",
          "name": "stdout",
          "text": [
            "4 9\n",
            "3 3 3 3\n",
            "[3, 3, 3, 3]\n",
            "3\n",
            "3\n",
            "3\n",
            "6\n",
            "3\n",
            "9\n",
            "3\n",
            "12\n",
            "4\n"
          ]
        }
      ],
      "source": [
        "n, x=map(int, input().split())\n",
        "\n",
        "l=[int(val) for val in input().split()]\n",
        "\n",
        "count=1\n",
        "# print(l)\n",
        "ans=0\n",
        "\n",
        "for i in l:\n",
        "  ans += i\n",
        "  # print(i)\n",
        "  # print(ans)\n",
        "  if x >= ans:\n",
        "    count+=1\n",
        "\n",
        "print(count)"
      ]
    },
    {
      "cell_type": "code",
      "source": [],
      "metadata": {
        "id": "-bdwHv2hORr5"
      },
      "execution_count": null,
      "outputs": []
    }
  ]
}