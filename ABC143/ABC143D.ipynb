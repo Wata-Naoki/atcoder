{
  "nbformat": 4,
  "nbformat_minor": 0,
  "metadata": {
    "colab": {
      "provenance": [],
      "authorship_tag": "ABX9TyPFuldDAiBDpSbXauFHrFzG",
      "include_colab_link": true
    },
    "kernelspec": {
      "name": "python3",
      "display_name": "Python 3"
    },
    "language_info": {
      "name": "python"
    }
  },
  "cells": [
    {
      "cell_type": "markdown",
      "metadata": {
        "id": "view-in-github",
        "colab_type": "text"
      },
      "source": [
        "<a href=\"https://colab.research.google.com/github/Wata-Naoki/atcoder/blob/main/ABC143D.ipynb\" target=\"_parent\"><img src=\"https://colab.research.google.com/assets/colab-badge.svg\" alt=\"Open In Colab\"/></a>"
      ]
    },
    {
      "cell_type": "code",
      "execution_count": null,
      "metadata": {
        "colab": {
          "base_uri": "https://localhost:8080/"
        },
        "id": "Vx39JPApt1wh",
        "outputId": "b2009c6d-3ee5-44f4-ea0e-9808438eb78f"
      },
      "outputs": [
        {
          "output_type": "stream",
          "name": "stdout",
          "text": [
            "4\n",
            "3 4 2 1\n",
            "[3, 4, 2, 1]\n",
            "[(3, 4, 2), (3, 4, 1), (3, 2, 1), (4, 2, 1)]\n",
            "[3, 4, 2]\n",
            "[3, 4, 1]\n",
            "[3, 2, 1]\n",
            "[4, 2, 1]\n"
          ]
        }
      ],
      "source": [
        "import itertools\n",
        "\n",
        "n=int(input())\n",
        "l_list=[int(l) for l in input().split()]\n",
        "print(l_list)\n",
        "\n",
        "l_comb=list(itertools.combinations(l_list, 3))\n",
        "print(l_comb)\n",
        "\n",
        "count=0\n",
        "\n",
        "for i, v in enumerate(l_comb):\n",
        "  ch_list=list(i)\n",
        "  print(ch_list)\n",
        "  for k in ch_list:\n",
        "    if ch_list[i] is not k:\n",
        "      if ch_list[i]\n",
        "\n",
        "\n"
      ]
    },
    {
      "cell_type": "code",
      "source": [
        "N = int(input())\n",
        "L = [int(x) for x in input().split()]\n",
        "L.sort()\n",
        "ans = 0\n",
        "for i in range(N-2):\n",
        "    for j in range(i+1, N-1):\n",
        "        A = L[i]+L[j]\n",
        "        ok = j\n",
        "        ng = N\n",
        "        while ng-ok > 1:\n",
        "            m = (ok+ng)>>1\n",
        "            if L[m] < A:\n",
        "                ok = m\n",
        "            else:\n",
        "                ng = m\n",
        "        ans += ok-j\n",
        "print(ans)"
      ],
      "metadata": {
        "colab": {
          "base_uri": "https://localhost:8080/"
        },
        "id": "uutX7s7T1jDP",
        "outputId": "5bd67efa-1da6-4a75-ead7-272db90b90ea"
      },
      "execution_count": 5,
      "outputs": [
        {
          "output_type": "stream",
          "name": "stdout",
          "text": [
            "4\n",
            "3 4 2 1\n",
            "1\n"
          ]
        }
      ]
    }
  ]
}