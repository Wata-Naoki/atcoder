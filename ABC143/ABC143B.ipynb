{
  "nbformat": 4,
  "nbformat_minor": 0,
  "metadata": {
    "colab": {
      "provenance": [],
      "authorship_tag": "ABX9TyPDHd4EreKGWRMTS+mTux7q",
      "include_colab_link": true
    },
    "kernelspec": {
      "name": "python3",
      "display_name": "Python 3"
    },
    "language_info": {
      "name": "python"
    }
  },
  "cells": [
    {
      "cell_type": "markdown",
      "metadata": {
        "id": "view-in-github",
        "colab_type": "text"
      },
      "source": [
        "<a href=\"https://colab.research.google.com/github/Wata-Naoki/atcoder/blob/main/ABC143B.ipynb\" target=\"_parent\"><img src=\"https://colab.research.google.com/assets/colab-badge.svg\" alt=\"Open In Colab\"/></a>"
      ]
    },
    {
      "cell_type": "code",
      "execution_count": 7,
      "metadata": {
        "colab": {
          "base_uri": "https://localhost:8080/"
        },
        "id": "UB7ZqNsliDpM",
        "outputId": "46d2e632-40a4-4b72-c9bd-28b087a6ae8b"
      },
      "outputs": [
        {
          "output_type": "stream",
          "name": "stdout",
          "text": [
            "7\n",
            "5 0 7 8 3 3 2\n",
            "312\n"
          ]
        }
      ],
      "source": [
        "import itertools\n",
        "n=int(input())\n",
        "d_list=[int(d) for d in input().split()]\n",
        "# print(d_list)\n",
        "d_comb = list(itertools.combinations(d_list, 2))\n",
        "ans =0\n",
        "for val in d_comb:\n",
        "  ans += val[0]*val[1]\n",
        "print(ans)"
      ]
    }
  ]
}