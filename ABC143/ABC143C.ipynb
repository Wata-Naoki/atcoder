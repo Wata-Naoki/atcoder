{
  "nbformat": 4,
  "nbformat_minor": 0,
  "metadata": {
    "colab": {
      "provenance": [],
      "collapsed_sections": [],
      "authorship_tag": "ABX9TyN8VPIvAbZmPQ0S1sfO9bfN",
      "include_colab_link": true
    },
    "kernelspec": {
      "name": "python3",
      "display_name": "Python 3"
    },
    "language_info": {
      "name": "python"
    }
  },
  "cells": [
    {
      "cell_type": "markdown",
      "metadata": {
        "id": "view-in-github",
        "colab_type": "text"
      },
      "source": [
        "<a href=\"https://colab.research.google.com/github/Wata-Naoki/atcoder/blob/main/ABC143C.ipynb\" target=\"_parent\"><img src=\"https://colab.research.google.com/assets/colab-badge.svg\" alt=\"Open In Colab\"/></a>"
      ]
    },
    {
      "cell_type": "code",
      "source": [
        "n = int(input())\n",
        "s=list(input())\n",
        "ans_list=[]\n",
        "for i, v in enumerate(s):\n",
        "  if i==0:\n",
        "    ans_list.append(v)\n",
        "  else:\n",
        "    if v != s[i-1]:\n",
        "      ans_list.append(v)\n",
        "print(len(ans_list))"
      ],
      "metadata": {
        "colab": {
          "base_uri": "https://localhost:8080/"
        },
        "id": "j3xPxvAJpaz9",
        "outputId": "0df4713f-638f-420d-d06d-233a64ee47af"
      },
      "execution_count": 17,
      "outputs": [
        {
          "output_type": "stream",
          "name": "stdout",
          "text": [
            "10\n",
            "aabbbbaaca\n",
            "5\n"
          ]
        }
      ]
    }
  ]
}