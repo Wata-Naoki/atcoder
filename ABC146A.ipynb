{
  "nbformat": 4,
  "nbformat_minor": 0,
  "metadata": {
    "colab": {
      "provenance": [],
      "authorship_tag": "ABX9TyMu80yzjRBub7hsTqVJ1hau",
      "include_colab_link": true
    },
    "kernelspec": {
      "name": "python3",
      "display_name": "Python 3"
    },
    "language_info": {
      "name": "python"
    }
  },
  "cells": [
    {
      "cell_type": "markdown",
      "metadata": {
        "id": "view-in-github",
        "colab_type": "text"
      },
      "source": [
        "<a href=\"https://colab.research.google.com/github/Wata-Naoki/atcoder/blob/main/ABC146A.ipynb\" target=\"_parent\"><img src=\"https://colab.research.google.com/assets/colab-badge.svg\" alt=\"Open In Colab\"/></a>"
      ]
    },
    {
      "cell_type": "code",
      "execution_count": 4,
      "metadata": {
        "colab": {
          "base_uri": "https://localhost:8080/"
        },
        "id": "krQVJ1tdXv67",
        "outputId": "f4a99291-25bb-4ffb-fa0f-d61a2df00fe5"
      },
      "outputs": [
        {
          "output_type": "stream",
          "name": "stdout",
          "text": [
            "SUN\n",
            "7\n"
          ]
        }
      ],
      "source": [
        "s=input()\n",
        "day_list=['SUN','MON','TUE','WED','THU','FRI','SAT']\n",
        "print(len(day_list) - day_list.index(s))"
      ]
    }
  ]
}