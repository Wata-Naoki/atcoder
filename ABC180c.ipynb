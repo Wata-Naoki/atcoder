{
  "nbformat": 4,
  "nbformat_minor": 0,
  "metadata": {
    "colab": {
      "provenance": [],
      "authorship_tag": "ABX9TyM4FGZXqmF5WNX+87P7C2dO",
      "include_colab_link": true
    },
    "kernelspec": {
      "name": "python3",
      "display_name": "Python 3"
    },
    "language_info": {
      "name": "python"
    }
  },
  "cells": [
    {
      "cell_type": "markdown",
      "metadata": {
        "id": "view-in-github",
        "colab_type": "text"
      },
      "source": [
        "<a href=\"https://colab.research.google.com/github/Wata-Naoki/atcoder/blob/main/ABC180c.ipynb\" target=\"_parent\"><img src=\"https://colab.research.google.com/assets/colab-badge.svg\" alt=\"Open In Colab\"/></a>"
      ]
    },
    {
      "cell_type": "code",
      "execution_count": 1,
      "metadata": {
        "id": "w2mYubRg-PRp",
        "colab": {
          "base_uri": "https://localhost:8080/"
        },
        "outputId": "78e8ad4f-b658-4743-9f74-21378a86ec07"
      },
      "outputs": [
        {
          "output_type": "stream",
          "name": "stdout",
          "text": [
            "1000000007\n",
            "1\n",
            "1000000007\n"
          ]
        }
      ],
      "source": [
        "# from sympy import isprime\n",
        "\n",
        "n=int(input())\n",
        "# if isprime(n):\n",
        "#     print(1)\n",
        "#     print(n)\n",
        "if n%2!=0:\n",
        "    for i in range(1, n+1, 2):\n",
        "      if n%i==0:\n",
        "        print(i)\n",
        "else:\n",
        "  for i in range(1, n+1):\n",
        "    if n%i==0:\n",
        "      print(i)\n"
      ]
    },
    {
      "cell_type": "code",
      "source": [
        "n=int(input())\n",
        "\n",
        "ans_list=[]\n",
        "i=1\n",
        "while i*i <= n:\n",
        "  if n%i == 0:\n",
        "    ans_list.append(i)\n",
        "    print(i)\n",
        "    if i*i != n:\n",
        "      print(int(n/i))\n",
        "      ans_list.append(int(n/i))\n",
        "      \n",
        "  i += 1\n",
        "\n",
        "ans_list = sorted(ans_list)\n",
        "print(ans_list)\n",
        "for i in range(int(len(ans_list))):\n",
        "  print(ans_list[i])"
      ],
      "metadata": {
        "colab": {
          "base_uri": "https://localhost:8080/"
        },
        "id": "-OK-ytGQH3Ov",
        "outputId": "9d21c19e-6c77-49a9-c0aa-9583f2ebec98"
      },
      "execution_count": 8,
      "outputs": [
        {
          "output_type": "stream",
          "name": "stdout",
          "text": [
            "100\n",
            "1\n",
            "100\n",
            "2\n",
            "50\n",
            "4\n",
            "25\n",
            "5\n",
            "20\n",
            "10\n",
            "[1, 2, 4, 5, 10, 20, 25, 50, 100]\n",
            "1\n",
            "2\n",
            "4\n",
            "5\n",
            "10\n",
            "20\n",
            "25\n",
            "50\n",
            "100\n"
          ]
        }
      ]
    }
  ]
}