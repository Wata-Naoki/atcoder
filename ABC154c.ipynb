{
  "nbformat": 4,
  "nbformat_minor": 0,
  "metadata": {
    "colab": {
      "provenance": [],
      "authorship_tag": "ABX9TyMIT4e789ufMXXLfOIWxa9r",
      "include_colab_link": true
    },
    "kernelspec": {
      "name": "python3",
      "display_name": "Python 3"
    },
    "language_info": {
      "name": "python"
    }
  },
  "cells": [
    {
      "cell_type": "markdown",
      "metadata": {
        "id": "view-in-github",
        "colab_type": "text"
      },
      "source": [
        "<a href=\"https://colab.research.google.com/github/Wata-Naoki/atcoder/blob/main/ABC154c.ipynb\" target=\"_parent\"><img src=\"https://colab.research.google.com/assets/colab-badge.svg\" alt=\"Open In Colab\"/></a>"
      ]
    },
    {
      "cell_type": "code",
      "execution_count": 3,
      "metadata": {
        "colab": {
          "base_uri": "https://localhost:8080/"
        },
        "id": "s_eT8Z4RR-wM",
        "outputId": "6bb1bdef-48af-49ba-8cd5-ccf12d219eaf"
      },
      "outputs": [
        {
          "output_type": "stream",
          "name": "stdout",
          "text": [
            "6\n",
            "4 1 3 1 6 2\n",
            "YES\n"
          ]
        }
      ],
      "source": [
        "n=int(input())\n",
        "a_list=[int(v) for v in input().split()]\n",
        "\n",
        "print('YES' if len(a_list)==len(set(a_list)) else 'NO')\n",
        "\n"
      ]
    },
    {
      "cell_type": "code",
      "source": [
        "a=[1, 2, 2]\n",
        "print(len(set(a)))"
      ],
      "metadata": {
        "colab": {
          "base_uri": "https://localhost:8080/"
        },
        "id": "mKUw65C9VVx7",
        "outputId": "964731cf-f6ac-4fa6-f3b4-b9aa53f4ea1f"
      },
      "execution_count": 1,
      "outputs": [
        {
          "output_type": "stream",
          "name": "stdout",
          "text": [
            "2\n"
          ]
        }
      ]
    }
  ]
}