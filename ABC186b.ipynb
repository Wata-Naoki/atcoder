{
  "nbformat": 4,
  "nbformat_minor": 0,
  "metadata": {
    "colab": {
      "provenance": [],
      "authorship_tag": "ABX9TyNY1xvwRmBcuavpbhv8RIls",
      "include_colab_link": true
    },
    "kernelspec": {
      "name": "python3",
      "display_name": "Python 3"
    },
    "language_info": {
      "name": "python"
    }
  },
  "cells": [
    {
      "cell_type": "markdown",
      "metadata": {
        "id": "view-in-github",
        "colab_type": "text"
      },
      "source": [
        "<a href=\"https://colab.research.google.com/github/Wata-Naoki/atcoder/blob/main/ABC186b.ipynb\" target=\"_parent\"><img src=\"https://colab.research.google.com/assets/colab-badge.svg\" alt=\"Open In Colab\"/></a>"
      ]
    },
    {
      "cell_type": "code",
      "execution_count": 6,
      "metadata": {
        "colab": {
          "base_uri": "https://localhost:8080/"
        },
        "id": "DjNFgTaUBccI",
        "outputId": "50410d79-3637-4f19-c2ce-3e502c87539c"
      },
      "outputs": [
        {
          "output_type": "stream",
          "name": "stdout",
          "text": [
            "3 2\n",
            "4 4\n",
            "4 4\n",
            "4 4\n",
            "0\n"
          ]
        }
      ],
      "source": [
        "h, w=map(int, input().split())\n",
        "\n",
        "total_num=0\n",
        "min_num=100\n",
        "for i in range(h):\n",
        "  a_list=[int(n) for n in input().split()]\n",
        "  total_num+=sum(a_list)\n",
        "  min_num=min(min_num, min(a_list))\n",
        "\n",
        "print(total_num - ((w*min_num) * h))\n",
        "\n"
      ]
    },
    {
      "cell_type": "code",
      "source": [
        "n=int(input())\n",
        "points = [list(map(int, input().split())) for _ in range(n)]\n",
        "print(points)"
      ],
      "metadata": {
        "id": "FSGYx_1mD3IF"
      },
      "execution_count": null,
      "outputs": []
    },
    {
      "cell_type": "code",
      "source": [
        "print(99*8)"
      ],
      "metadata": {
        "colab": {
          "base_uri": "https://localhost:8080/"
        },
        "id": "kr0pO74ZCGfY",
        "outputId": "d7db1ca2-d34c-4df2-9807-c5291c859ccd"
      },
      "execution_count": 1,
      "outputs": [
        {
          "output_type": "stream",
          "name": "stdout",
          "text": [
            "792\n"
          ]
        }
      ]
    }
  ]
}