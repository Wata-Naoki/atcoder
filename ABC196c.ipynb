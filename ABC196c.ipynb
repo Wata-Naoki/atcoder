{
  "nbformat": 4,
  "nbformat_minor": 0,
  "metadata": {
    "colab": {
      "provenance": [],
      "authorship_tag": "ABX9TyPJ7IjTcym6MQN8K+SeEJDA",
      "include_colab_link": true
    },
    "kernelspec": {
      "name": "python3",
      "display_name": "Python 3"
    },
    "language_info": {
      "name": "python"
    }
  },
  "cells": [
    {
      "cell_type": "markdown",
      "metadata": {
        "id": "view-in-github",
        "colab_type": "text"
      },
      "source": [
        "<a href=\"https://colab.research.google.com/github/Wata-Naoki/atcoder/blob/main/ABC196c.ipynb\" target=\"_parent\"><img src=\"https://colab.research.google.com/assets/colab-badge.svg\" alt=\"Open In Colab\"/></a>"
      ]
    },
    {
      "cell_type": "code",
      "execution_count": 3,
      "metadata": {
        "colab": {
          "base_uri": "https://localhost:8080/"
        },
        "id": "nUu1tRNVyZ5L",
        "outputId": "3223c1fa-2635-486e-aa0c-f3ee93be510d"
      },
      "outputs": [
        {
          "output_type": "stream",
          "name": "stdout",
          "text": [
            "33\n",
            "3\n"
          ]
        }
      ],
      "source": [
        "n=int(input())\n",
        "ans=0\n",
        "for i in range(1, n):\n",
        "  num=int(str(i)*2)\n",
        "  if num > n:\n",
        "    break\n",
        "  else:\n",
        "    ans+=1\n",
        "print(ans)"
      ]
    },
    {
      "cell_type": "code",
      "source": [
        "i=1\n",
        "print(str(i)*2)"
      ],
      "metadata": {
        "colab": {
          "base_uri": "https://localhost:8080/"
        },
        "id": "5oCioqP0yln7",
        "outputId": "c6adf769-6578-40fe-adf0-a92bf6799c31"
      },
      "execution_count": 1,
      "outputs": [
        {
          "output_type": "stream",
          "name": "stdout",
          "text": [
            "11\n"
          ]
        }
      ]
    }
  ]
}