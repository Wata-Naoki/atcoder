{
  "nbformat": 4,
  "nbformat_minor": 0,
  "metadata": {
    "colab": {
      "provenance": [],
      "authorship_tag": "ABX9TyMn6JIJjlVBRBuqBPgWAisK",
      "include_colab_link": true
    },
    "kernelspec": {
      "name": "python3",
      "display_name": "Python 3"
    },
    "language_info": {
      "name": "python"
    }
  },
  "cells": [
    {
      "cell_type": "markdown",
      "metadata": {
        "id": "view-in-github",
        "colab_type": "text"
      },
      "source": [
        "<a href=\"https://colab.research.google.com/github/Wata-Naoki/atcoder/blob/main/_ABC181c.ipynb\" target=\"_parent\"><img src=\"https://colab.research.google.com/assets/colab-badge.svg\" alt=\"Open In Colab\"/></a>"
      ]
    },
    {
      "cell_type": "code",
      "execution_count": 1,
      "metadata": {
        "colab": {
          "base_uri": "https://localhost:8080/"
        },
        "id": "FS3C71ecZ4XL",
        "outputId": "d25b7b36-df2c-4064-b00d-485c86c3c1c0"
      },
      "outputs": [
        {
          "output_type": "stream",
          "name": "stdout",
          "text": [
            "4\n",
            "0 1\n",
            "0 2\n",
            "0 3\n",
            "1 1\n",
            "Yes\n"
          ]
        }
      ],
      "source": [
        "from itertools import combinations\n",
        "\n",
        "n=int(input())\n",
        "points = [list(map(int, input().split())) for _ in range(n)]\n",
        "flag=False\n",
        "for a, b, c in combinations(points, 3):\n",
        "  left = (c[1] - a[1])*(a[0] - b[0])\n",
        "  right = (a[1] - b[1]) * (c[0] - a[0])\n",
        "  if left == right:\n",
        "    flag=True\n",
        "    break\n",
        "print('Yes' if flag else 'No')"
      ]
    },
    {
      "cell_type": "code",
      "source": [],
      "metadata": {
        "id": "2eAmeh5ph3Ek"
      },
      "execution_count": null,
      "outputs": []
    },
    {
      "cell_type": "code",
      "source": [],
      "metadata": {
        "id": "kPNAd1OrgrBa"
      },
      "execution_count": null,
      "outputs": []
    }
  ]
}