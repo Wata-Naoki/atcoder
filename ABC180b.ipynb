{
  "nbformat": 4,
  "nbformat_minor": 0,
  "metadata": {
    "colab": {
      "provenance": [],
      "authorship_tag": "ABX9TyOBB72hry41HdnavfGb9U8g",
      "include_colab_link": true
    },
    "kernelspec": {
      "name": "python3",
      "display_name": "Python 3"
    },
    "language_info": {
      "name": "python"
    }
  },
  "cells": [
    {
      "cell_type": "markdown",
      "metadata": {
        "id": "view-in-github",
        "colab_type": "text"
      },
      "source": [
        "<a href=\"https://colab.research.google.com/github/Wata-Naoki/atcoder/blob/main/ABC180b.ipynb\" target=\"_parent\"><img src=\"https://colab.research.google.com/assets/colab-badge.svg\" alt=\"Open In Colab\"/></a>"
      ]
    },
    {
      "cell_type": "code",
      "execution_count": 4,
      "metadata": {
        "id": "KVmoF18J52Ca",
        "colab": {
          "base_uri": "https://localhost:8080/"
        },
        "outputId": "d25ecf83-b9fc-4c40-ca17-66e3b206c9fc"
      },
      "outputs": [
        {
          "output_type": "stream",
          "name": "stdout",
          "text": [
            "2\n",
            "2 -1\n",
            "3\n",
            "2.23606797749979\n",
            "2\n"
          ]
        }
      ],
      "source": [
        "import math\n",
        "n=int(input())\n",
        "x_list=[abs(int(num)) for num in input().split()]\n",
        "m_val=sum(x_list)\n",
        "y_val=math.sqrt(sum([pow(num, 2) for num in x_list]))\n",
        "ch_val=max(x_list)\n",
        "\n",
        "ans_list=[m_val, y_val, ch_val]\n",
        "for ans in ans_list:\n",
        "  print(ans)"
      ]
    }
  ]
}