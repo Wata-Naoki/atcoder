{
  "nbformat": 4,
  "nbformat_minor": 0,
  "metadata": {
    "colab": {
      "provenance": [],
      "authorship_tag": "ABX9TyO6FekwDpFpFTglwUTESXNt",
      "include_colab_link": true
    },
    "kernelspec": {
      "name": "python3",
      "display_name": "Python 3"
    },
    "language_info": {
      "name": "python"
    }
  },
  "cells": [
    {
      "cell_type": "markdown",
      "metadata": {
        "id": "view-in-github",
        "colab_type": "text"
      },
      "source": [
        "<a href=\"https://colab.research.google.com/github/Wata-Naoki/atcoder/blob/main/ABC167a.ipynb\" target=\"_parent\"><img src=\"https://colab.research.google.com/assets/colab-badge.svg\" alt=\"Open In Colab\"/></a>"
      ]
    },
    {
      "cell_type": "code",
      "execution_count": 16,
      "metadata": {
        "colab": {
          "base_uri": "https://localhost:8080/"
        },
        "id": "06klgorTJkFJ",
        "outputId": "c0ec0e4c-9b14-4f96-b87b-75ab6aba7bdb"
      },
      "outputs": [
        {
          "output_type": "stream",
          "name": "stdout",
          "text": [
            "a\n",
            "aa\n",
            "Yes\n"
          ]
        }
      ],
      "source": [
        "s=input()\n",
        "t=input()\n",
        "print('Yes' if s==t[:-1] and len(s)+1==len(t) else 'No')"
      ]
    },
    {
      "cell_type": "code",
      "source": [
        "print(list(input()))"
      ],
      "metadata": {
        "colab": {
          "base_uri": "https://localhost:8080/"
        },
        "id": "Mz5KtRdyJqp-",
        "outputId": "926c3346-c96d-45fb-f934-a320ccfdc847"
      },
      "execution_count": 6,
      "outputs": [
        {
          "output_type": "stream",
          "name": "stdout",
          "text": [
            "koko\n",
            "['k', 'o', 'k', 'o']\n"
          ]
        }
      ]
    },
    {
      "cell_type": "code",
      "source": [
        "s='chokudai'\n",
        "t='chokudaiz'\n",
        "print(len(s))\n",
        "print(t[len(s):])\n",
        "print(s, t[:-1])"
      ],
      "metadata": {
        "colab": {
          "base_uri": "https://localhost:8080/"
        },
        "id": "NQRVFhwnJquL",
        "outputId": "120facd1-f879-4ab6-8224-4faffa941cc2"
      },
      "execution_count": 13,
      "outputs": [
        {
          "output_type": "stream",
          "name": "stdout",
          "text": [
            "8\n",
            "z\n",
            "chokudai chokudai\n"
          ]
        }
      ]
    }
  ]
}