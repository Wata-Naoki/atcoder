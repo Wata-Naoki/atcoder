{
  "nbformat": 4,
  "nbformat_minor": 0,
  "metadata": {
    "colab": {
      "provenance": [],
      "authorship_tag": "ABX9TyOelX2g2fnDih80YPwpyXTJ",
      "include_colab_link": true
    },
    "kernelspec": {
      "name": "python3",
      "display_name": "Python 3"
    },
    "language_info": {
      "name": "python"
    }
  },
  "cells": [
    {
      "cell_type": "markdown",
      "metadata": {
        "id": "view-in-github",
        "colab_type": "text"
      },
      "source": [
        "<a href=\"https://colab.research.google.com/github/Wata-Naoki/atcoder/blob/main/ABC191b.ipynb\" target=\"_parent\"><img src=\"https://colab.research.google.com/assets/colab-badge.svg\" alt=\"Open In Colab\"/></a>"
      ]
    },
    {
      "cell_type": "code",
      "execution_count": 11,
      "metadata": {
        "colab": {
          "base_uri": "https://localhost:8080/"
        },
        "id": "hYzn1p4qqdwA",
        "outputId": "6d772c33-1677-4ec2-d115-ebd43be4d52f"
      },
      "outputs": [
        {
          "output_type": "stream",
          "name": "stdout",
          "text": [
            "5 5\n",
            "3 5 6 5 4\n",
            "3 6 4 \n"
          ]
        }
      ],
      "source": [
        "n, x=map(int, input().split())\n",
        "a_list=[int(num) for num in input().split() if int(num) != x]\n",
        "ans=''\n",
        "for val in a_list:\n",
        "  str_val=str(val)\n",
        "  ans +=  str_val + ' '\n",
        "\n",
        "print(ans)"
      ]
    }
  ]
}