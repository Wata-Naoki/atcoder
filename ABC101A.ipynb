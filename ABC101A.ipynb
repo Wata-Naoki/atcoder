{
  "nbformat": 4,
  "nbformat_minor": 0,
  "metadata": {
    "colab": {
      "provenance": [],
      "authorship_tag": "ABX9TyOyVkMjcwmnWSMWUusHA9w6",
      "include_colab_link": true
    },
    "kernelspec": {
      "name": "python3",
      "display_name": "Python 3"
    },
    "language_info": {
      "name": "python"
    }
  },
  "cells": [
    {
      "cell_type": "markdown",
      "metadata": {
        "id": "view-in-github",
        "colab_type": "text"
      },
      "source": [
        "<a href=\"https://colab.research.google.com/github/Wata-Naoki/atcoder/blob/main/ABC101A.ipynb\" target=\"_parent\"><img src=\"https://colab.research.google.com/assets/colab-badge.svg\" alt=\"Open In Colab\"/></a>"
      ]
    },
    {
      "cell_type": "code",
      "execution_count": 7,
      "metadata": {
        "colab": {
          "base_uri": "https://localhost:8080/"
        },
        "id": "QL7VccRlAVNM",
        "outputId": "66e7f302-0d81-4c41-c41f-7fb013d3d6a9"
      },
      "outputs": [
        {
          "output_type": "stream",
          "name": "stdout",
          "text": [
            "+-++\n",
            "+\n",
            "-\n",
            "+\n",
            "+\n",
            "2\n"
          ]
        }
      ],
      "source": [
        "S = list(input())\n",
        "\n",
        "total_count = 0\n",
        "\n",
        "for num in S:\n",
        "  num.strip()\n",
        "  if num=='+':\n",
        "    total_count += 1\n",
        "  if num=='-':\n",
        "    total_count -= 1\n",
        "\n",
        "print(total_count)\n",
        "\n",
        "\n",
        "\n",
        "\n",
        "\n"
      ]
    }
  ]
}