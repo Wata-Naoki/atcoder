{
  "nbformat": 4,
  "nbformat_minor": 0,
  "metadata": {
    "colab": {
      "provenance": [],
      "authorship_tag": "ABX9TyP0Ye+DQpJliWJ5L/CHQUc5",
      "include_colab_link": true
    },
    "kernelspec": {
      "name": "python3",
      "display_name": "Python 3"
    },
    "language_info": {
      "name": "python"
    }
  },
  "cells": [
    {
      "cell_type": "markdown",
      "metadata": {
        "id": "view-in-github",
        "colab_type": "text"
      },
      "source": [
        "<a href=\"https://colab.research.google.com/github/Wata-Naoki/atcoder/blob/main/ABC166b.ipynb\" target=\"_parent\"><img src=\"https://colab.research.google.com/assets/colab-badge.svg\" alt=\"Open In Colab\"/></a>"
      ]
    },
    {
      "cell_type": "code",
      "execution_count": 16,
      "metadata": {
        "colab": {
          "base_uri": "https://localhost:8080/"
        },
        "id": "534lHQQcINhj",
        "outputId": "ed67a259-3ac9-4bb5-f372-1f71b3932d91"
      },
      "outputs": [
        {
          "output_type": "stream",
          "name": "stdout",
          "text": [
            "3 3\n",
            "[1, 2, 3]\n",
            "1\n",
            "3\n",
            "1\n",
            "3\n",
            "1\n",
            "3\n",
            "Counter({3: 4, 1: 1, 2: 1})\n",
            "2\n"
          ]
        }
      ],
      "source": [
        "import collections\n",
        "n, k=map(int, input().split())\n",
        "total_list=list(range(1, n+1))\n",
        "# print(total_list)\n",
        "for i in range(k):\n",
        "  kind_input = input()\n",
        "  input_list=[int(num) for num in input().split()]\n",
        "  total_list += input_list\n",
        "# print(collections.Counter(total_list))\n",
        "print(len([key for key, val in collections.Counter(total_list).items() if val == 1]))"
      ]
    },
    {
      "cell_type": "code",
      "source": [
        "list1 = [\"A\", \"B\"]\n",
        "list2 = [\"C\", \"D\"]\n",
        "list1 = list1 + list2\n",
        "print(list1)"
      ],
      "metadata": {
        "colab": {
          "base_uri": "https://localhost:8080/"
        },
        "id": "v4gAObGQUN5e",
        "outputId": "43c95662-8183-4f9f-d113-1b985214eb0c"
      },
      "execution_count": 7,
      "outputs": [
        {
          "output_type": "stream",
          "name": "stdout",
          "text": [
            "['A', 'B', 'C', 'D']\n"
          ]
        }
      ]
    },
    {
      "cell_type": "code",
      "source": [
        "mylist1 = list(range(1, 6))\n",
        "mylist1.append(5)\n",
        "print(set(mylist1))"
      ],
      "metadata": {
        "colab": {
          "base_uri": "https://localhost:8080/"
        },
        "id": "AfDZ0fX2SDk8",
        "outputId": "7d8a7f92-1996-4fc3-f60a-c002e5e4c634"
      },
      "execution_count": 4,
      "outputs": [
        {
          "output_type": "stream",
          "name": "stdout",
          "text": [
            "{1, 2, 3, 4, 5}\n"
          ]
        }
      ]
    },
    {
      "cell_type": "code",
      "source": [
        "import collections\n",
        "\n",
        "l = [3, 3, 2, 1, 5, 1, 4, 2, 3]\n",
        "\n",
        "print(collections.Counter(l))\n",
        "# Counter({3: 3, 2: 2, 1: 2, 5: 1, 4: 1})\n",
        "print([k for k, v in collections.Counter(l).items() if v > 1])\n",
        "# [3, 2, 1]"
      ],
      "metadata": {
        "colab": {
          "base_uri": "https://localhost:8080/"
        },
        "id": "zQJ7JmZZTRfW",
        "outputId": "a1db7d0d-606b-48f7-e8f3-6a7269322539"
      },
      "execution_count": 5,
      "outputs": [
        {
          "output_type": "stream",
          "name": "stdout",
          "text": [
            "Counter({3: 3, 2: 2, 1: 2, 5: 1, 4: 1})\n",
            "[3, 2, 1]\n"
          ]
        }
      ]
    }
  ]
}