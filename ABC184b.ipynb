{
  "nbformat": 4,
  "nbformat_minor": 0,
  "metadata": {
    "colab": {
      "provenance": [],
      "authorship_tag": "ABX9TyNrUh5U4W9u9ht3bHzNTEPs",
      "include_colab_link": true
    },
    "kernelspec": {
      "name": "python3",
      "display_name": "Python 3"
    },
    "language_info": {
      "name": "python"
    }
  },
  "cells": [
    {
      "cell_type": "markdown",
      "metadata": {
        "id": "view-in-github",
        "colab_type": "text"
      },
      "source": [
        "<a href=\"https://colab.research.google.com/github/Wata-Naoki/atcoder/blob/main/ABC184b.ipynb\" target=\"_parent\"><img src=\"https://colab.research.google.com/assets/colab-badge.svg\" alt=\"Open In Colab\"/></a>"
      ]
    },
    {
      "cell_type": "code",
      "execution_count": null,
      "metadata": {
        "id": "pwHHPg-Sqrcu"
      },
      "outputs": [],
      "source": []
    },
    {
      "cell_type": "code",
      "source": [
        "print(199999+len('ooooooooooooooooooo'))"
      ],
      "metadata": {
        "colab": {
          "base_uri": "https://localhost:8080/"
        },
        "id": "7LiyxWAwsMfx",
        "outputId": "39b14585-9ea0-447d-c51b-5badfd607e3a"
      },
      "execution_count": 3,
      "outputs": [
        {
          "output_type": "stream",
          "name": "stdout",
          "text": [
            "200018\n"
          ]
        }
      ]
    },
    {
      "cell_type": "code",
      "source": [
        "n,x=map(int, input().split())\n",
        "s=list(input())\n",
        "cor_count=s.count('o')\n",
        "mis_count=s.count('x')\n",
        "score=cor_count-mis_count\n",
        "ans=x+score\n",
        "print(ans if ans >0 else 0)"
      ],
      "metadata": {
        "colab": {
          "base_uri": "https://localhost:8080/"
        },
        "id": "sTTNrOzvtZOo",
        "outputId": "46da8e4b-5074-4854-a8f2-517c7c45093f"
      },
      "execution_count": 7,
      "outputs": [
        {
          "output_type": "stream",
          "name": "stdout",
          "text": [
            "20 10\n",
            "xxxxxxxxxxxxxxxxxxxx\n",
            "0\n"
          ]
        }
      ]
    },
    {
      "cell_type": "code",
      "source": [
        "N, X = map(int, input().split())\n",
        "S = input()\n",
        "\n",
        "score = X\n",
        "\n",
        "for char in S:\n",
        "    if char == \"o\":\n",
        "        score += 1\n",
        "    else:\n",
        "        if score > 0:\n",
        "            score -= 1\n",
        "\n",
        "print(score)"
      ],
      "metadata": {
        "colab": {
          "base_uri": "https://localhost:8080/"
        },
        "id": "WY4sWa7PvTBz",
        "outputId": "ac229134-f7ba-4118-e2b2-ec3b0a629140"
      },
      "execution_count": 8,
      "outputs": [
        {
          "output_type": "stream",
          "name": "stdout",
          "text": [
            "3 0\n",
            "xox\n",
            "0\n"
          ]
        }
      ]
    }
  ]
}