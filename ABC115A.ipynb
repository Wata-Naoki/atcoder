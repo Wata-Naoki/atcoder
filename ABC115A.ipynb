{
  "nbformat": 4,
  "nbformat_minor": 0,
  "metadata": {
    "colab": {
      "provenance": [],
      "authorship_tag": "ABX9TyMswK2M+P3Uf/VaIl9A7ovF",
      "include_colab_link": true
    },
    "kernelspec": {
      "name": "python3",
      "display_name": "Python 3"
    },
    "language_info": {
      "name": "python"
    }
  },
  "cells": [
    {
      "cell_type": "markdown",
      "metadata": {
        "id": "view-in-github",
        "colab_type": "text"
      },
      "source": [
        "<a href=\"https://colab.research.google.com/github/Wata-Naoki/atcoder/blob/main/ABC115A.ipynb\" target=\"_parent\"><img src=\"https://colab.research.google.com/assets/colab-badge.svg\" alt=\"Open In Colab\"/></a>"
      ]
    },
    {
      "cell_type": "code",
      "execution_count": null,
      "metadata": {
        "colab": {
          "base_uri": "https://localhost:8080/"
        },
        "id": "csgV2yZga1eq",
        "outputId": "542a8db3-9029-430a-8135-f27173781956"
      },
      "outputs": [
        {
          "output_type": "stream",
          "name": "stdout",
          "text": [
            "22\n",
            "Christmas Eve Eve Eve\n"
          ]
        }
      ],
      "source": [
        "n=int(input())\n",
        "\n",
        "if n==25:\n",
        "  print('Christmas')\n",
        "elif n==24:\n",
        "  print('Christmas Eve') \n",
        "elif n==23:\n",
        "  print('Christmas Eve Eve')\n",
        "elif n==22:\n",
        "  print('Christmas Eve Eve Eve')"
      ]
    },
    {
      "cell_type": "code",
      "source": [
        "d=int(input())\n",
        "print('Christmas'+' Eve'*(25-d))"
      ],
      "metadata": {
        "id": "XXwXC_iSch6J"
      },
      "execution_count": null,
      "outputs": []
    }
  ]
}