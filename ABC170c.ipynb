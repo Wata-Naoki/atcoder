{
  "nbformat": 4,
  "nbformat_minor": 0,
  "metadata": {
    "colab": {
      "provenance": [],
      "authorship_tag": "ABX9TyPBRG1UpHFHwP/hY03N3TeX",
      "include_colab_link": true
    },
    "kernelspec": {
      "name": "python3",
      "display_name": "Python 3"
    },
    "language_info": {
      "name": "python"
    }
  },
  "cells": [
    {
      "cell_type": "markdown",
      "metadata": {
        "id": "view-in-github",
        "colab_type": "text"
      },
      "source": [
        "<a href=\"https://colab.research.google.com/github/Wata-Naoki/atcoder/blob/main/ABC170c.ipynb\" target=\"_parent\"><img src=\"https://colab.research.google.com/assets/colab-badge.svg\" alt=\"Open In Colab\"/></a>"
      ]
    },
    {
      "cell_type": "code",
      "source": [
        "x, n = map(int, input().split())\n",
        "p = list(map(int, input().split()))\n",
        "\n",
        "ans=-1\n",
        "i = 0\n",
        "\n",
        "while True:\n",
        "  tmp = x - i\n",
        "  if tmp not in p:\n",
        "    ans = tmp\n",
        "    break\n",
        "  tmp = x + i\n",
        "  if tmp not in p:\n",
        "    ans = tmp\n",
        "    break\n",
        "  i += 1\n",
        "print(ans)"
      ],
      "metadata": {
        "colab": {
          "base_uri": "https://localhost:8080/"
        },
        "id": "ePGFzSp68XNq",
        "outputId": "aeea5b66-e31d-44ba-d51c-21c0fc61d846"
      },
      "execution_count": 1,
      "outputs": [
        {
          "output_type": "stream",
          "name": "stdout",
          "text": [
            "6 5\n",
            "4 7 10 6 5\n",
            "8\n"
          ]
        }
      ]
    },
    {
      "cell_type": "code",
      "execution_count": null,
      "metadata": {
        "id": "ISoeflaY6WMo"
      },
      "outputs": [],
      "source": [
        "x, n=map(int, input().split())\n",
        "input_list=[int(x) for x in input().split()]\n",
        "target_val=[]\n",
        "\n",
        "for v in input_list:\n",
        "  "
      ]
    }
  ]
}