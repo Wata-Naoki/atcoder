{
  "nbformat": 4,
  "nbformat_minor": 0,
  "metadata": {
    "colab": {
      "provenance": [],
      "authorship_tag": "ABX9TyM9K15DdNjxRpHLBm+qnk2T",
      "include_colab_link": true
    },
    "kernelspec": {
      "name": "python3",
      "display_name": "Python 3"
    },
    "language_info": {
      "name": "python"
    }
  },
  "cells": [
    {
      "cell_type": "markdown",
      "metadata": {
        "id": "view-in-github",
        "colab_type": "text"
      },
      "source": [
        "<a href=\"https://colab.research.google.com/github/Wata-Naoki/atcoder/blob/main/ABC107B.ipynb\" target=\"_parent\"><img src=\"https://colab.research.google.com/assets/colab-badge.svg\" alt=\"Open In Colab\"/></a>"
      ]
    },
    {
      "cell_type": "code",
      "execution_count": null,
      "metadata": {
        "id": "mp9kSPJLky1U"
      },
      "outputs": [],
      "source": []
    },
    {
      "cell_type": "code",
      "source": [
        "h, w = map(int, input().split())\n",
        "a = []\n",
        "for i in range(h):\n",
        "    s = input()\n",
        "    if s.count('.') != w:\n",
        "        a.append(s)\n",
        "b = []\n",
        "for i in range(w):\n",
        "    f = True\n",
        "    for x in a:\n",
        "        if x[i] != '.':\n",
        "            f = False\n",
        "    if f:\n",
        "        b.append(i)\n",
        "for x in a:\n",
        "    for i in range(len(x)):\n",
        "        f = True\n",
        "        for j in b:\n",
        "            if i == j:\n",
        "                f = False\n",
        "        if f:\n",
        "            print(x[i], end='')\n",
        "    print()"
      ],
      "metadata": {
        "colab": {
          "base_uri": "https://localhost:8080/"
        },
        "id": "0muCxq7-k63q",
        "outputId": "4c79aef8-5f6f-4cf1-988e-c2d4e0de78ed"
      },
      "execution_count": 4,
      "outputs": [
        {
          "output_type": "stream",
          "name": "stdout",
          "text": [
            "3 3\n",
            "##.#\n",
            "##.#\n",
            "##.#\n",
            "##.###.###.#\n"
          ]
        }
      ]
    },
    {
      "cell_type": "code",
      "source": [],
      "metadata": {
        "id": "DGSCe6FAqQLo"
      },
      "execution_count": null,
      "outputs": []
    }
  ]
}