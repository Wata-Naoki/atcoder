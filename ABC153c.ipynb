{
  "nbformat": 4,
  "nbformat_minor": 0,
  "metadata": {
    "colab": {
      "provenance": [],
      "authorship_tag": "ABX9TyPB7iiTSku0Ws5+XAtefqe7",
      "include_colab_link": true
    },
    "kernelspec": {
      "name": "python3",
      "display_name": "Python 3"
    },
    "language_info": {
      "name": "python"
    }
  },
  "cells": [
    {
      "cell_type": "markdown",
      "metadata": {
        "id": "view-in-github",
        "colab_type": "text"
      },
      "source": [
        "<a href=\"https://colab.research.google.com/github/Wata-Naoki/atcoder/blob/main/ABC153c.ipynb\" target=\"_parent\"><img src=\"https://colab.research.google.com/assets/colab-badge.svg\" alt=\"Open In Colab\"/></a>"
      ]
    },
    {
      "cell_type": "code",
      "execution_count": 16,
      "metadata": {
        "colab": {
          "base_uri": "https://localhost:8080/"
        },
        "id": "WZ56-KZa68U2",
        "outputId": "4e05d8e4-8680-4898-b4e5-904a07748158"
      },
      "outputs": [
        {
          "output_type": "stream",
          "name": "stdout",
          "text": [
            "3 0\n",
            "1000000000 1000000000 1000000000\n",
            "3000000000\n"
          ]
        }
      ],
      "source": [
        "n,k=map(int, input().split())\n",
        "h_list=[int(x) for x in input().split()]\n",
        "h_list.sort(reverse=True)\n",
        "\n",
        "for i in range(k):\n",
        "  if len(h_list) <= k:\n",
        "    h_list=[0]\n",
        "    break\n",
        "  else:\n",
        "    h_list.pop(0)\n",
        "  \n",
        "ans=sum(h_list)\n",
        "print(ans)"
      ]
    },
    {
      "cell_type": "code",
      "source": [
        "n, k = map(int, input().split())\n",
        "h = [int(x) for x in input().split()]\n",
        "h_s = sorted(h)\n",
        "if len(h_s) <= k:\n",
        "    ans = 0\n",
        "else:\n",
        "    for _ in range(k):\n",
        "        h_s.pop()\n",
        "    ans = sum(h_s)\n",
        "print(ans)\n"
      ],
      "metadata": {
        "colab": {
          "base_uri": "https://localhost:8080/"
        },
        "id": "iKS6BZcOICD0",
        "outputId": "6e131725-714d-4c9c-dca5-efa56b2d53d9"
      },
      "execution_count": 15,
      "outputs": [
        {
          "output_type": "stream",
          "name": "stdout",
          "text": [
            "3 0\n",
            "1000000000 1000000000 1000000000\n",
            "3000000000\n"
          ]
        }
      ]
    },
    {
      "cell_type": "code",
      "source": [
        "\n",
        "\n",
        "\n",
        "for i in range(1):\n",
        "  print(i)"
      ],
      "metadata": {
        "colab": {
          "base_uri": "https://localhost:8080/"
        },
        "id": "dRKR0E6AGfdE",
        "outputId": "0b331c23-e236-4c93-fca5-4b7eda39ec25"
      },
      "execution_count": 8,
      "outputs": [
        {
          "output_type": "stream",
          "name": "stdout",
          "text": [
            "0\n"
          ]
        }
      ]
    }
  ]
}