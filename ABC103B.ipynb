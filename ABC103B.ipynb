{
  "nbformat": 4,
  "nbformat_minor": 0,
  "metadata": {
    "colab": {
      "provenance": [],
      "authorship_tag": "ABX9TyNBcb8UvofQWPkzIxxoiu+X",
      "include_colab_link": true
    },
    "kernelspec": {
      "name": "python3",
      "display_name": "Python 3"
    },
    "language_info": {
      "name": "python"
    }
  },
  "cells": [
    {
      "cell_type": "markdown",
      "metadata": {
        "id": "view-in-github",
        "colab_type": "text"
      },
      "source": [
        "<a href=\"https://colab.research.google.com/github/Wata-Naoki/atcoder/blob/main/ABC103B.ipynb\" target=\"_parent\"><img src=\"https://colab.research.google.com/assets/colab-badge.svg\" alt=\"Open In Colab\"/></a>"
      ]
    },
    {
      "cell_type": "code",
      "execution_count": 12,
      "metadata": {
        "colab": {
          "base_uri": "https://localhost:8080/"
        },
        "id": "AMygVNmNvfSq",
        "outputId": "cbcf2f31-c8b4-4d42-c673-52e062b5586d"
      },
      "outputs": [
        {
          "output_type": "stream",
          "name": "stdout",
          "text": [
            "aaaaaaaaaaaaaaab\n",
            "aaaaaaaaaaaaaaab\n",
            "Yes\n"
          ]
        }
      ],
      "source": [
        "\n",
        "from collections import deque\n",
        "\n",
        "s_list = list(input())\n",
        "t_list = list(input())\n",
        "\n",
        "for i in range(len(s_list)+2):\n",
        "  s_list = deque(s_list)\n",
        "  s_list.rotate(-i)\n",
        "  r_list = list(s_list)\n",
        "  # print(r_list)\n",
        "  if r_list == t_list:\n",
        "    print('Yes')\n",
        "    break\n",
        "    \n",
        "  \n",
        "if r_list != t_list:\n",
        "   print('No')\n",
        "\n",
        "\n",
        "\n",
        "\n"
      ]
    },
    {
      "cell_type": "code",
      "source": [
        "s = input()\n",
        "t = input()\n",
        "\n",
        "for i in range(len(s)):\n",
        "  if s == t:\n",
        "    print('Yes')\n",
        "    break\n",
        "    # s[-1]は、一番後ろの文字。s[:-1]は、最初から一番後ろの文字の手前まで。だから最初から最後の文字-1\n",
        "  s = s[-1] + s[:-1]\n",
        "  # print(s)\n",
        "else:\n",
        "  print('No')"
      ],
      "metadata": {
        "colab": {
          "base_uri": "https://localhost:8080/"
        },
        "id": "lrMauo0Q83Zz",
        "outputId": "6e865593-dca9-4a12-fafa-a6bd32e6bfd8"
      },
      "execution_count": 14,
      "outputs": [
        {
          "output_type": "stream",
          "name": "stdout",
          "text": [
            "tokyo\n",
            "kyoto\n",
            "otoky\n",
            "yotok\n",
            "kyoto\n",
            "Yes\n"
          ]
        }
      ]
    }
  ]
}